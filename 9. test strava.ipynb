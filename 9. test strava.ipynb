{
 "cells": [
  {
   "cell_type": "markdown",
   "metadata": {
    "colab_type": "text",
    "id": "view-in-github"
   },
   "source": [
    "<a href=\"https://colab.research.google.com/github/avinashmane/colab/blob/master/strava_likers.ipynb\" target=\"_parent\"><img src=\"https://colab.research.google.com/assets/colab-badge.svg\" alt=\"Open In Colab\"/></a>"
   ]
  },
  {
   "cell_type": "markdown",
   "metadata": {
    "id": "p_L68hXNqV25"
   },
   "source": [
    "# Setup Code/Parameters\n",
    "* Setup\n",
    "    * needs\n",
    "        * auth\n",
    "        * gsheet auth\n",
    "        * cfg_strava\n",
    "* updates sheets\n",
    "* Todo\n",
    "    * low: error: location not found "
   ]
  },
  {
   "cell_type": "markdown",
   "metadata": {
    "id": "D_qrPWP6bfeb"
   },
   "source": [
    "## Config"
   ]
  },
  {
   "cell_type": "code",
   "execution_count": 107,
   "metadata": {
    "id": "S_YFZ5N9qPvu"
   },
   "outputs": [
    {
     "name": "stdout",
     "output_type": "stream",
     "text": [
      "ERROR! Session/line number was not unique in database. History logging moved to new session 3145\n"
     ]
    }
   ],
   "source": [
    "repo='https://github.com/avinashmane/colab.git'\n",
    "import os,sys\n",
    "if os.name=='nt':\n",
    "    LIB= r'c:\\m\\lib'\n",
    "    LOG= r'c:\\m\\social-media-automation'\n",
    "    AUTH= r'c:\\i\\auth'\n",
    "    sys.path.append(\"./lib\")\n",
    "else:\n",
    "    if not os.path.exists('drive'):\n",
    "        from google.colab import drive\n",
    "        drive.mount('/content/drive')\n",
    "    LIB='/content/drive/MyDrive/m/lib'\n",
    "    LOG='/content/drive/MyDrive/m/lib'\n",
    "    AUTH='/content/drive/MyDrive/m/auth'\n",
    "    if not os.path.exists('m'):\n",
    "      !ln -sd '/content/drive/MyDrive/m/' m\n",
    "    if not os.path.exists('repo'):\n",
    "      !git clone $repo repo\n",
    "    sys.path.append('repo')\n",
    "    sys.path.append(\"repo/lib\")\n",
    "sys.path.append(LIB)\n"
   ]
  },
  {
   "cell_type": "code",
   "execution_count": 108,
   "metadata": {
    "colab": {
     "base_uri": "https://localhost:8080/"
    },
    "id": "fK2kPK8spfvL",
    "outputId": "9d38be71-adb0-4dc4-c8d0-0d98af2b505a",
    "tags": []
   },
   "outputs": [
    {
     "data": {
      "text/plain": [
       "'Environment setup'"
      ]
     },
     "execution_count": 108,
     "metadata": {},
     "output_type": "execute_result"
    }
   ],
   "source": [
    "import yaml\n",
    "cfg=yaml.load(u\"\"\"\n",
    "repo:\n",
    "    https://github.com/avinashmane/colab.git\n",
    "packages: \n",
    "- chromium-chromedriver\n",
    "modules:\n",
    "- nerodia\n",
    "- pygsheets\n",
    "env:\n",
    "    nt:\n",
    "        LIB: c:/m/lib\n",
    "        LOG: c:/m/social-media-automation\n",
    "        AUTH: c:/i/auth\n",
    "    posix:\n",
    "        LIB: /content/drive/MyDrive/m/lib\n",
    "        LOG: /content/drive/MyDrive/m/lib\n",
    "        AUTH: /content/drive/MyDrive/m/auth\n",
    "sheets:\n",
    "    stravasync:\n",
    "        url: https://docs.google.com/spreadsheets/d/1Q8SA641P0aytWzPGmeHG_xuxll3Wq6phsxjb91RjgWY/edit#gid=0\n",
    "        tab: Members\n",
    "        range: A10:O\n",
    "    StravaPromoLog:\n",
    "        url: https://docs.google.com/spreadsheets/d/14a8u53o0V6jKwP1nxk0334jvKsRnW6J5hKzcaQAwUbw/edit#gid=179675201\n",
    "        tab: StravaPromoLog\n",
    "        \n",
    "\"\"\",Loader=yaml.Loader)\n",
    "for x in cfg['env'][os.name]: \n",
    "    os.environ[x]=eval(x)\n",
    "\n",
    "import importlib\n",
    "import utils\n",
    "importlib.reload(utils)\n",
    "utils.setup_env(cfg['packages'],cfg['modules'])"
   ]
  },
  {
   "cell_type": "markdown",
   "metadata": {
    "id": "BojXrnpzt_aL",
    "tags": []
   },
   "source": [
    "## Code"
   ]
  },
  {
   "cell_type": "code",
   "execution_count": 135,
   "metadata": {
    "id": "_0JoVWhRuDAe",
    "tags": []
   },
   "outputs": [
    {
     "name": "stdout",
     "output_type": "stream",
     "text": [
      "ERROR! Session/line number was not unique in database. History logging moved to new session 3149\n"
     ]
    }
   ],
   "source": [
    "import yaml\n",
    "from datetime import datetime\n",
    "import os\n",
    "from nerodia.browser import Browser\n",
    "import nerodia\n",
    "import re\n",
    "import logging\n",
    "from IPython.display import Image\n",
    "\n",
    "import utils\n",
    "\n",
    "import socialmediasite \n",
    "importlib.reload(socialmediasite)\n",
    "Strava=socialmediasite.Strava\n",
    "SocialMediaSite=socialmediasite.SocialMediaSite\n"
   ]
  },
  {
   "cell_type": "code",
   "execution_count": 110,
   "metadata": {
    "id": "pFlNgflfbfem",
    "tags": []
   },
   "outputs": [],
   "source": [
    "\"reach gsheet\"\n",
    "\n",
    "import gsheets\n",
    "Gsheet=gsheets.Gsheet\n"
   ]
  },
  {
   "cell_type": "code",
   "execution_count": 111,
   "metadata": {
    "id": "pkRWOcZFbfep",
    "tags": []
   },
   "outputs": [],
   "source": [
    "df_mc=Gsheet(cfg['sheets']['stravasync']['url']).getSheetDf(cfg['sheets']['stravasync']['tab'],start='A10')\n",
    "\n",
    "# ssl=Gsheet('stravasync')\n",
    "# df_mc"
   ]
  },
  {
   "cell_type": "markdown",
   "metadata": {
    "id": "yT65-kQZuU0h"
   },
   "source": [
    "# Process\n",
    "## Create headless"
   ]
  },
  {
   "cell_type": "code",
   "execution_count": 112,
   "metadata": {
    "colab": {
     "base_uri": "https://localhost:8080/"
    },
    "id": "isFE6a2SpeG_",
    "outputId": "d6f2ecf0-894f-4bc4-f522-ea4ca94881e1",
    "tags": []
   },
   "outputs": [
    {
     "name": "stderr",
     "output_type": "stream",
     "text": [
      "2022-08-22 22:28:29:INFO:Logger file: c:\\m\\social-media-automation/strava-automation.log\n"
     ]
    }
   ],
   "source": [
    "\" Test Selenium headless\"\n",
    "if True:\n",
    "    if os.name=='nt':\n",
    "        b=Browser('chrome',)\n",
    "    else:\n",
    "        \n",
    "        # import sys\n",
    "        # sys.path.insert(0,f'{DIR}/geckodriver')\n",
    "        from selenium import webdriver\n",
    "\n",
    "        chrome_options = webdriver.ChromeOptions()\n",
    "        chrome_options.add_argument('--headless')\n",
    "        chrome_options.add_argument('--no-sandbox')\n",
    "        chrome_options.add_argument('--disable-dev-shm-usage')\n",
    "        # b =webdriver.Chrome('chromedriver',options=chrome_options)\n",
    "        b=Browser('chrome',options=chrome_options,)\n",
    "    \n",
    "    utils.setLogger(f\"{LOG}/strava-automation.log\")\n",
    "    "
   ]
  },
  {
   "cell_type": "code",
   "execution_count": 136,
   "metadata": {
    "id": "YJpJm9f_tJAS"
   },
   "outputs": [],
   "source": [
    "# %debug\n",
    "# if os.name=='nt':\n",
    "strava=Strava(b,authFile=f'{AUTH}/auth.yaml',cfgFile=f\"{LIB}/cfg_strava.yaml\")\n",
    "strava.logGSheet = Gsheet(cfg['sheets']['StravaPromoLog']['url']).getSheetByTitle('StravaPromoLog')\n",
    "strava.StravaMembers=df_mc.query('strava==\"strava\"').id.values"
   ]
  },
  {
   "cell_type": "code",
   "execution_count": 122,
   "metadata": {
    "colab": {
     "base_uri": "https://localhost:8080/"
    },
    "id": "uTMSJxD62Gtz",
    "outputId": "b85031f8-9ca1-4d57-e4c1-5f0e0f7b3b2e"
   },
   "outputs": [
    {
     "name": "stderr",
     "output_type": "stream",
     "text": [
      "2022-08-22 22:30:21:INFO:Total number of cards on Dashboard | Strava: 19\n"
     ]
    }
   ],
   "source": [
    "# b.goto('https://www.strava.com/clubs/196654/recent_activity')\n",
    "strava.login(\"mileage_league_strava\")\n",
    "logging.info(f\"Total number of cards on {strava.browser.title}: {len(b.divs(class_name=re.compile('^Card')))}\")\n"
   ]
  },
  {
   "cell_type": "code",
   "execution_count": 123,
   "metadata": {
    "colab": {
     "base_uri": "https://localhost:8080/",
     "height": 617
    },
    "id": "NPK6lThqxhpy",
    "outputId": "0e420a50-9bee-454b-df4b-e2477215078e"
   },
   "outputs": [
    {
     "data": {
      "image/png": "[encoded data removed]",
      "text/plain": [
       "<IPython.core.display.Image object>"
      ]
     },
     "execution_count": 123,
     "metadata": {},
     "output_type": "execute_result"
    }
   ],
   "source": [
    "# strava.login(\"avinash\")\n",
    "\n",
    "Image(b.screenshot.png())"
   ]
  },
  {
   "cell_type": "code",
   "execution_count": 91,
   "metadata": {},
   "outputs": [],
   "source": [
    "def getPageAths(sheetAths):\n",
    "    for el in b.lis(class_name='row'): # b.uls(class_name='athlete-search')\n",
    "        ath=[searchText]\n",
    "        ath=ath+utils.getAttrsIfExists(el.div(class_name=\"follow-action\"),['data_athlete_id','data_requires_approval'])\n",
    "        ath=ath+el.text.split('\\n')\n",
    "        display(ath)\n",
    "        sheetAths.append_table([ath])"
   ]
  },
  {
   "cell_type": "code",
   "execution_count": 116,
   "metadata": {
    "tags": []
   },
   "outputs": [],
   "source": [
    "# list athletes\n",
    "sheetAths=Gsheet(cfg['sheets']['StravaPromoLog']['url']).getSheetByTitle('AthleteSearch')\n",
    "\n",
    "\n",
    "def searchAthletes(searchText):\n",
    "    searchUrl='https://www.strava.com/athletes/search?page={searchPage}&page_uses_modern_javascript=true&text={searchText}&utf8=%E2%9C%93'\n",
    "    for searchPage in range(3,30):\n",
    "        url=searchUrl.format(searchPage=searchPage,searchText=searchText)\n",
    "        display(url)\n",
    "        b.goto(url)\n",
    "        getPageAths(sheetAths)\n",
    "        \n",
    "# searchAthletes('pimpri-chinchwad')        "
   ]
  },
  {
   "cell_type": "markdown",
   "metadata": {
    "id": "Mczpk0qp1sRU"
   },
   "source": [
    "## Give likes on users...top n activities"
   ]
  },
  {
   "cell_type": "code",
   "execution_count": 100,
   "metadata": {},
   "outputs": [],
   "source": [
    "df_ids=pd.read_clipboard()"
   ]
  },
  {
   "cell_type": "code",
   "execution_count": 117,
   "metadata": {},
   "outputs": [
    {
     "data": {
      "text/html": [
       "<div>\n",
       "<style scoped>\n",
       "    .dataframe tbody tr th:only-of-type {\n",
       "        vertical-align: middle;\n",
       "    }\n",
       "\n",
       "    .dataframe tbody tr th {\n",
       "        vertical-align: top;\n",
       "    }\n",
       "\n",
       "    .dataframe thead th {\n",
       "        text-align: right;\n",
       "    }\n",
       "</style>\n",
       "<table border=\"1\" class=\"dataframe\">\n",
       "  <thead>\n",
       "    <tr style=\"text-align: right;\">\n",
       "      <th></th>\n",
       "      <th>id</th>\n",
       "    </tr>\n",
       "  </thead>\n",
       "  <tbody>\n",
       "    <tr>\n",
       "      <th>0</th>\n",
       "      <td>7040881</td>\n",
       "    </tr>\n",
       "    <tr>\n",
       "      <th>1</th>\n",
       "      <td>18809011</td>\n",
       "    </tr>\n",
       "    <tr>\n",
       "      <th>2</th>\n",
       "      <td>10338609</td>\n",
       "    </tr>\n",
       "    <tr>\n",
       "      <th>3</th>\n",
       "      <td>10190394</td>\n",
       "    </tr>\n",
       "    <tr>\n",
       "      <th>4</th>\n",
       "      <td>12683013</td>\n",
       "    </tr>\n",
       "    <tr>\n",
       "      <th>...</th>\n",
       "      <td>...</td>\n",
       "    </tr>\n",
       "    <tr>\n",
       "      <th>76</th>\n",
       "      <td>11136196</td>\n",
       "    </tr>\n",
       "    <tr>\n",
       "      <th>77</th>\n",
       "      <td>67603137</td>\n",
       "    </tr>\n",
       "    <tr>\n",
       "      <th>78</th>\n",
       "      <td>25421398</td>\n",
       "    </tr>\n",
       "    <tr>\n",
       "      <th>79</th>\n",
       "      <td>16158128</td>\n",
       "    </tr>\n",
       "    <tr>\n",
       "      <th>80</th>\n",
       "      <td>10713672</td>\n",
       "    </tr>\n",
       "  </tbody>\n",
       "</table>\n",
       "<p>81 rows × 1 columns</p>\n",
       "</div>"
      ],
      "text/plain": [
       "          id\n",
       "0    7040881\n",
       "1   18809011\n",
       "2   10338609\n",
       "3   10190394\n",
       "4   12683013\n",
       "..       ...\n",
       "76  11136196\n",
       "77  67603137\n",
       "78  25421398\n",
       "79  16158128\n",
       "80  10713672\n",
       "\n",
       "[81 rows x 1 columns]"
      ]
     },
     "execution_count": 117,
     "metadata": {},
     "output_type": "execute_result"
    }
   ],
   "source": [
    "df_ids"
   ]
  },
  {
   "cell_type": "code",
   "execution_count": 137,
   "metadata": {
    "colab": {
     "base_uri": "https://localhost:8080/"
    },
    "id": "sB38NdKa1mdO",
    "outputId": "1ddc55a9-3105-4267-9ec2-d2e604c2355b"
   },
   "outputs": [
    {
     "name": "stderr",
     "output_type": "stream",
     "text": [
      "2022-08-22 23:00:24:INFO:Total number of cards on 7040881 'Strava Runner Profile | Shantanu Bedekar': {'count': 0}/1\n",
      "2022-08-22 23:00:28:INFO:Total number of cards on 18809011 'Strava Cyclist Profile | Vikas Salunke': {'count': 0}/2\n",
      "2022-08-22 23:00:31:INFO:Total number of cards on 10338609 'Strava Runner Profile | Kailas Padawale': {'count': 0}/0\n",
      "2022-08-22 23:00:35:INFO:Total number of cards on 10190394 'Strava Runner Profile | Sumeet Mahajan': {'count': 0}/2\n",
      "2022-08-22 23:00:39:INFO:Total number of cards on 12683013 'Strava Runner Profile | Krishna Garuda': {'count': 0}/0\n",
      "2022-08-22 23:00:43:INFO:Total number of cards on 12180927 'Strava Runner Profile | Yogesh Wararkar': {'count': 0}/3\n",
      "2022-08-22 23:00:47:INFO:Total number of cards on 95262713 'Strava Runner Profile | Suhas Pawar': {'count': 0}/13\n",
      "2022-08-22 23:00:51:INFO:Total number of cards on 3923653 'Strava Runner Profile | Sachin Nagpure': {'count': 0}/1\n",
      "2022-08-22 23:00:53:INFO:Total number of cards on 20000901 'Strava Runner Profile | Raghavan CK': {'count': 0}/0\n",
      "2022-08-22 23:00:57:INFO:Total number of cards on 9827366 'Strava Cyclist Profile | Sriram Rai': {'count': 0}/1\n",
      "2022-08-22 23:01:01:INFO:Total number of cards on 12387308 'Strava Runner Profile | Dhananjay kulkarni': {'count': 0}/23\n",
      "2022-08-22 23:01:04:INFO:Total number of cards on 7741205 'Strava Runner Profile | Brijesh Padalia': {'count': 0}/1\n",
      "2022-08-22 23:01:09:INFO:Total number of cards on 9245691 'Strava Runner Profile | Alex Barretto': {'count': 0}/1\n",
      "2022-08-22 23:01:14:INFO:Total number of cards on 49057213 'Strava Runner Profile | Madhu Raghu 🇮🇳🇮🇳🇮🇳🇮🇳🇮🇳🇮🇳🇮🇳': {'count': 0}/4\n",
      "2022-08-22 23:01:16:INFO:Total number of cards on 9558881 'Strava Runner Profile | Chandrasekhar Singh': {'count': 0}/0\n",
      "2022-08-22 23:01:22:INFO:Total number of cards on 69039349 'Strava Cyclist Profile | Trainiac Swapnil_C .': {'count': 0}/1\n",
      "2022-08-22 23:01:26:INFO:Total number of cards on 19493331 'Strava Runner Profile | Aniruddha Gurav': {'count': 0}/2\n",
      "2022-08-22 23:01:30:INFO:Total number of cards on 97569190 'Strava Runner Profile | KAUSTUBH UKIRDE': {'count': 0}/7\n",
      "2022-08-22 23:01:33:INFO:Total number of cards on 99079387 'Strava Runner Profile | Sandeep Tavargeri': {'count': 0}/3\n",
      "2022-08-22 23:01:36:INFO:Total number of cards on 91621798 'Strava Runner Profile | Strava Athlete': {'count': 0}/1\n",
      "2022-08-22 23:01:39:INFO:Total number of cards on 11138144 'Strava Cyclist Profile | Sagar Gambhir': {'count': 0}/4\n",
      "2022-08-22 23:01:42:INFO:Total number of cards on 10083887 'Strava Cyclist Profile | Sanju Nair': {'count': 0}/0\n",
      "2022-08-22 23:01:48:INFO:Total number of cards on 11934881 'Strava Cyclist Profile | Prashant Tayade': {'count': 0}/1\n",
      "2022-08-22 23:01:53:INFO:Total number of cards on 18585337 'Strava Runner Profile | shashikant kote': {'count': 0}/7\n",
      "2022-08-22 23:02:07:INFO:Total number of cards on 32933819 'Strava Cyclist Profile | Navnath Rodage': {'count': 0}/24\n",
      "2022-08-22 23:02:11:INFO:Total number of cards on 7299216 'Strava Cyclist Profile | Manish Sutar': {'count': 0}/1\n",
      "2022-08-22 23:02:13:INFO:Total number of cards on 19566819 'Strava Cyclist Profile | Babaji Chaudhari': {'count': 0}/0\n",
      "2022-08-22 23:02:16:INFO:Total number of cards on 71587600 'Strava Runner Profile | Santosh Tamhane': {'count': 0}/1\n",
      "2022-08-22 23:02:19:INFO:Total number of cards on 17737156 'Strava Runner Profile | Umakant Shobha Khirao 🇮🇳': {'count': 0}/0\n",
      "2022-08-22 23:02:22:INFO:Total number of cards on 13658711 'Strava Cyclist Profile | Sarang Bhoirkar': {'count': 0}/1\n",
      "2022-08-22 23:02:25:INFO:Total number of cards on 21138450 'Strava Cyclist Profile | Zohaib Hassan': {'count': 0}/1\n",
      "2022-08-22 23:02:31:INFO:Total number of cards on 12259717 'Strava Runner Profile | Pritam S': {'count': 0}/8\n",
      "2022-08-22 23:02:35:INFO:Total number of cards on 45552620 'Strava Cyclist Profile | Anand Gunjal': {'count': 0}/6\n",
      "2022-08-22 23:02:36:INFO:Total number of cards on 10893151 'Strava Runner Profile | Anil Kori': {'count': 0}/0\n",
      "2022-08-22 23:02:40:INFO:Total number of cards on 74356474 'Strava Cyclist Profile | Pradeep Birajdar': {'count': 0}/3\n",
      "2022-08-22 23:02:44:INFO:Total number of cards on 14759841 'Strava Runner Profile | Rahul Shah': {'count': 0}/1\n",
      "2022-08-22 23:02:49:INFO:Total number of cards on 43019399 'Strava Cyclist Profile | Milind Karpe': {'count': 0}/8\n",
      "2022-08-22 23:02:52:INFO:Total number of cards on 22406831 'Strava Runner Profile | Anurag Sune': {'count': 0}/1\n",
      "2022-08-22 23:02:56:INFO:Total number of cards on 88304095 'Strava Runner Profile | Aishwarya Dubey': {'count': 0}/9\n",
      "2022-08-22 23:03:02:INFO:Total number of cards on 21818371 'Strava Runner Profile | Manoj Chhugani': {'count': 0}/3\n",
      "2022-08-22 23:03:05:INFO:Total number of cards on 30424005 'Strava Runner Profile | Shankar Swami': {'count': 0}/3\n",
      "2022-08-22 23:03:08:INFO:Total number of cards on 12841185 'Strava Cyclist Profile | Sagar Wadkar': {'count': 0}/3\n",
      "2022-08-22 23:03:12:INFO:Total number of cards on 12311494 'Strava Cyclist Profile | Pankaj Sehra': {'count': 0}/1\n",
      "2022-08-22 23:03:16:INFO:Total number of cards on 64336196 'Strava Runner Profile | Vijay Patil': {'count': 0}/3\n",
      "2022-08-22 23:03:19:INFO:Total number of cards on 22822272 'Strava Cyclist Profile | Sushil More': {'count': 0}/0\n",
      "2022-08-22 23:03:22:INFO:Total number of cards on 80582502 'Strava Cyclist Profile | Mahesh Lamkane': {'count': 0}/1\n",
      "2022-08-22 23:03:25:INFO:Total number of cards on 10796662 'Strava Runner Profile | Sunil Kadam': {'count': 0}/1\n",
      "2022-08-22 23:03:27:INFO:Total number of cards on 4397715 'Strava Cyclist Profile | Nilesh Jagdale': {'count': 0}/0\n",
      "2022-08-22 23:03:30:INFO:Total number of cards on 76588593 'Strava Runner Profile | Piyush Karia': {'count': 0}/1\n",
      "2022-08-22 23:03:34:INFO:Total number of cards on 27457475 'Strava Cyclist Profile | ganesh jagtap': {'count': 0}/1\n",
      "2022-08-22 23:03:38:INFO:Total number of cards on 3940239 'Strava Runner Profile | Lavjeet Prani': {'count': 0}/1\n",
      "2022-08-22 23:03:41:INFO:Total number of cards on 22545343 'Strava Runner Profile | Ravi Chakote': {'count': 0}/0\n",
      "2022-08-22 23:03:48:INFO:giveKudos: 0,nonMember,https://www.strava.com/athletes/15052989 Umesh Jeswani,https://www.strava.com/activities/7647560511 Morning Run\n",
      "2022-08-22 23:03:52:INFO:giveKudos: 1,nonMember,https://www.strava.com/athletes/15052989 Umesh Jeswani,https://www.strava.com/activities/7645351646 Evening Walk\n",
      "2022-08-22 23:03:55:INFO:giveKudos: 2,nonMember,https://www.strava.com/athletes/101306142 Anil Mulge,https://www.strava.com/activities/7645362131 Evening Walk\n",
      "2022-08-22 23:03:55:INFO:Total number of cards on 15052989 'Strava Cyclist Profile | Umesh Jeswani': {'count': 3}/4\n",
      "2022-08-22 23:04:02:INFO:giveKudos: 0,nonMember,https://www.strava.com/athletes/26229557 Mahendra Mohite,https://www.strava.com/activities/7673160458 Morning Run\n",
      "2022-08-22 23:04:06:INFO:giveKudos: 1,nonMember,https://www.strava.com/athletes/26229557 Mahendra Mohite,https://www.strava.com/activities/7673159775 Morning Walk\n",
      "2022-08-22 23:04:09:INFO:giveKudos: 2,nonMember,https://www.strava.com/athletes/26229557 Mahendra Mohite,https://www.strava.com/activities/7656797018 Morning Walk\n",
      "2022-08-22 23:04:14:INFO:giveKudos: 3,nonMember,https://www.strava.com/athletes/26229557 Mahendra Mohite,https://www.strava.com/activities/7656796907 Afternoon Walk\n",
      "2022-08-22 23:04:17:INFO:giveKudos: 4,nonMember,https://www.strava.com/athletes/26229557 Mahendra Mohite,https://www.strava.com/activities/7656796872 Afternoon Walk\n",
      "2022-08-22 23:04:18:INFO:Total number of cards on 26229557 'Strava Runner Profile | Mahendra Mohite': {'count': 5}/5\n",
      "2022-08-22 23:04:29:INFO:giveKudos: 0,nonMember,https://www.strava.com/athletes/92917431 SACHIN MAHAJAN ✨,https://www.strava.com/activities/7678698425 D295 - Morning walk\n",
      "2022-08-22 23:04:30:INFO:Total number of cards on 92917431 'Strava Cyclist Profile | SACHIN MAHAJAN ✨': {'count': 1}/2\n",
      "2022-08-22 23:04:36:INFO:giveKudos: 0,nonMember,https://www.strava.com/athletes/96837216 Akshay Kotwal,https://www.strava.com/activities/7475800743 Morning Ride\n",
      "2022-08-22 23:04:39:INFO:giveKudos: 1,nonMember,https://www.strava.com/athletes/96837216 Akshay Kotwal,https://www.strava.com/activities/7475483350 Morning Run\n",
      "2022-08-22 23:04:40:INFO:Total number of cards on 96837216 'Strava Runner Profile | Akshay Kotwal': {'count': 2}/2\n",
      "2022-08-22 23:04:43:INFO:Total number of cards on 9650286 'Strava Runner Profile | Ajay Gaikwad': {'count': 0}/1\n",
      "2022-08-22 23:04:49:INFO:giveKudos: 0,nonMember,https://www.strava.com/athletes/89988298 yash tashildar,https://www.strava.com/activities/7602073455 Afternoon Run\n",
      "2022-08-22 23:04:49:INFO:Total number of cards on 89988298 'Strava Cyclist Profile | yash tashildar': {'count': 1}/1\n",
      "2022-08-22 23:04:55:INFO:giveKudos: 0,nonMember,https://www.strava.com/athletes/32250654 Anish Tamboli,https://www.strava.com/activities/6762574886 Night Run\n",
      "2022-08-22 23:04:56:INFO:Total number of cards on 32250654 'Strava Runner Profile | Anish Tamboli': {'count': 1}/1\n",
      "2022-08-22 23:05:05:INFO:giveKudos: 0,nonMember,https://www.strava.com/athletes/70962416 Makarand Narawade,https://www.strava.com/activities/7659579130 Night Walk\n",
      "2022-08-22 23:05:09:INFO:giveKudos: 1,nonMember,https://www.strava.com/athletes/70962416 Makarand Narawade,https://www.strava.com/activities/7651732609 Morning Ride\n",
      "2022-08-22 23:05:12:INFO:giveKudos: 2,nonMember,https://www.strava.com/athletes/70962416 Makarand Narawade,https://www.strava.com/activities/7648263637 Evening Walk\n",
      "2022-08-22 23:05:15:INFO:giveKudos: 3,nonMember,https://www.strava.com/athletes/70962416 Makarand Narawade,https://www.strava.com/activities/7645712392 Morning Walk\n",
      "2022-08-22 23:05:16:INFO:Total number of cards on 70962416 'Strava Cyclist Profile | Makarand Narawade': {'count': 4}/6\n",
      "2022-08-22 23:05:23:INFO:giveKudos: 0,nonMember,https://www.strava.com/athletes/38660378 Swapnil Jagadale,https://www.strava.com/activities/7677907141 Cristallina\n",
      "2022-08-22 23:05:26:INFO:giveKudos: 1,nonMember,https://www.strava.com/athletes/38660378 Swapnil Jagadale,https://www.strava.com/activities/7677907014 Lago di Robiei(swim)-Lago Bianco(swim)-Capanna Crstallina(2 unnamed peaks)\n",
      "2022-08-22 23:05:29:INFO:giveKudos: 2,nonMember,https://www.strava.com/athletes/38660378 Swapnil Jagadale,https://www.strava.com/activities/7659963584 Morning Run\n",
      "2022-08-22 23:05:30:INFO:Total number of cards on 38660378 'Strava Runner Profile | Swapnil Jagadale': {'count': 3}/8\n",
      "2022-08-22 23:05:37:INFO:giveKudos: 0,nonMember,https://www.strava.com/athletes/16087599 Amol Marathe,https://www.strava.com/activities/5287693538 Strength Training in Nike Training Club - Express Abs Circuit\n",
      "2022-08-22 23:05:40:INFO:giveKudos: 1,nonMember,https://www.strava.com/athletes/16087599 Amol Marathe,https://www.strava.com/activities/5271228907 Strength Training in Nike Training Club - Perfect Abs\n",
      "2022-08-22 23:05:40:INFO:Total number of cards on 16087599 'Strava Runner Profile | Amol Marathe': {'count': 2}/2\n",
      "2022-08-22 23:05:47:INFO:giveKudos: 0,nonMember,https://www.strava.com/athletes/88167113 Ankur Ghavte,https://www.strava.com/activities/7680268100 Office Ride\n",
      "2022-08-22 23:05:51:INFO:giveKudos: 1,nonMember,https://www.strava.com/athletes/88167113 Ankur Ghavte,https://www.strava.com/activities/7678778730 Morning Ride\n",
      "2022-08-22 23:05:51:INFO:Total number of cards on 88167113 'Strava Cyclist Profile | Ankur Ghavte': {'count': 2}/2\n",
      "2022-08-22 23:05:58:INFO:giveKudos: 0,nonMember,https://www.strava.com/athletes/46941447 VEENOAD CHIGHLIKAAR,https://www.strava.com/activities/7678762010 Morning Run\n",
      "2022-08-22 23:05:58:INFO:Total number of cards on 46941447 'Strava Cyclist Profile | VEENOAD CHIGHLIKAAR': {'count': 1}/1\n",
      "2022-08-22 23:06:04:INFO:giveKudos: 0,nonMember,https://www.strava.com/athletes/12241020 Sandeep Kulkarni,https://www.strava.com/activities/1444752012 Morning Run\n",
      "2022-08-22 23:06:07:INFO:giveKudos: 1,nonMember,https://www.strava.com/athletes/12241020 Sandeep Kulkarni,https://www.strava.com/activities/1441751672 Morning Run\n",
      "2022-08-22 23:06:10:INFO:giveKudos: 2,nonMember,https://www.strava.com/athletes/12241020 Sandeep Kulkarni,https://www.strava.com/activities/1438426210 Morning Run\n",
      "2022-08-22 23:06:10:INFO:Total number of cards on 12241020 'Strava Runner Profile | Sandeep Kulkarni': {'count': 3}/3\n",
      "2022-08-22 23:06:13:INFO:Total number of cards on 51942782 'Strava Cyclist Profile | IRONMAN Harshad Nikam ECO 🚴‍♂️🏊‍♂️🏃': {'count': 0}/0\n",
      "2022-08-22 23:06:21:INFO:giveKudos: 0,nonMember,https://www.strava.com/athletes/48329778 Dongarimanus 🐾,https://www.strava.com/activities/7579881108 Morning Hike\n",
      "2022-08-22 23:06:24:INFO:giveKudos: 1,nonMember,https://www.strava.com/athletes/48329778 Dongarimanus 🐾,https://www.strava.com/activities/7579147639 Morning Hike\n",
      "2022-08-22 23:06:24:INFO:Total number of cards on 48329778 'Strava Runner Profile | Dongarimanus 🐾': {'count': 2}/4\n",
      "2022-08-22 23:06:31:INFO:giveKudos: 0,nonMember,https://www.strava.com/athletes/12259886 Amar Mhaske,https://www.strava.com/activities/4856150356 Morning Run\n",
      "2022-08-22 23:06:35:INFO:giveKudos: 1,nonMember,https://www.strava.com/athletes/12259886 Amar Mhaske,https://www.strava.com/activities/4850915566 Morning Run\n",
      "2022-08-22 23:06:35:INFO:Total number of cards on 12259886 'Strava Cyclist Profile | Amar Mhaske': {'count': 2}/2\n",
      "2022-08-22 23:06:43:INFO:giveKudos: 0,nonMember,https://www.strava.com/athletes/76562585 Ashay S,https://www.strava.com/activities/7667746823 Pune-Kundmaal-TukaramMaharaj-Dehu-PCMC-Pune\n",
      "2022-08-22 23:06:47:INFO:giveKudos: 1,nonMember,https://www.strava.com/athletes/76562585 Ashay S,https://www.strava.com/activities/7658604099 Trial\n",
      "2022-08-22 23:06:50:INFO:giveKudos: 2,nonMember,https://www.strava.com/athletes/76562585 Ashay S,https://www.strava.com/activities/7648042645 सराव\n",
      "2022-08-22 23:06:53:INFO:giveKudos: 3,nonMember,https://www.strava.com/athletes/76562585 Ashay S,https://www.strava.com/activities/7641806214 Peacock Trail Run\n",
      "2022-08-22 23:06:54:INFO:Total number of cards on 76562585 'Strava Runner Profile | Ashay S': {'count': 4}/4\n",
      "2022-08-22 23:07:02:INFO:giveKudos: 0,nonMember,https://www.strava.com/athletes/12394762 Sameer Iftekhari,https://www.strava.com/activities/5554242217 Night Run\n",
      "2022-08-22 23:07:06:INFO:giveKudos: 1,nonMember,https://www.strava.com/athletes/12394762 Sameer Iftekhari,https://www.strava.com/activities/5543850345 Night Run\n",
      "2022-08-22 23:07:06:INFO:Total number of cards on 12394762 'Strava Runner Profile | Sameer Iftekhari': {'count': 2}/6\n",
      "2022-08-22 23:07:13:INFO:giveKudos: 0,nonMember,https://www.strava.com/athletes/11925531 V J,https://www.strava.com/activities/7630737078 Afternoon Workout\n",
      "2022-08-22 23:07:13:INFO:Total number of cards on 11925531 'Strava Cyclist Profile | V J': {'count': 1}/1\n",
      "2022-08-22 23:07:15:INFO:Total number of cards on 6790294 'Strava Cyclist Profile | Sachin Mehendale': {'count': 0}/0\n",
      "2022-08-22 23:07:23:INFO:giveKudos: 0,nonMember,https://www.strava.com/athletes/11777476 Rajat Gupta,https://www.strava.com/activities/7672694385 Morning Run\n",
      "2022-08-22 23:07:25:INFO:giveKudos: 1,nonMember,https://www.strava.com/athletes/11777476 Rajat Gupta,https://www.strava.com/activities/7662292772 Morning Walk\n",
      "2022-08-22 23:07:28:INFO:giveKudos: 2,nonMember,https://www.strava.com/athletes/11777476 Rajat Gupta,https://www.strava.com/activities/7662292724 Morning Run\n",
      "2022-08-22 23:07:31:INFO:giveKudos: 3,nonMember,https://www.strava.com/athletes/11777476 Rajat Gupta,https://www.strava.com/activities/7662292202 Morning Walk\n",
      "2022-08-22 23:07:35:INFO:giveKudos: 4,nonMember,https://www.strava.com/athletes/11777476 Rajat Gupta,https://www.strava.com/activities/7662292088 Afternoon Workout\n",
      "2022-08-22 23:07:38:INFO:giveKudos: 5,nonMember,https://www.strava.com/athletes/11777476 Rajat Gupta,https://www.strava.com/activities/7651193338 Morning Run\n",
      "2022-08-22 23:07:40:INFO:giveKudos: 6,nonMember,https://www.strava.com/athletes/11777476 Rajat Gupta,https://www.strava.com/activities/7651192641 Morning Walk\n",
      "2022-08-22 23:07:43:INFO:giveKudos: 7,nonMember,https://www.strava.com/athletes/11777476 Rajat Gupta,https://www.strava.com/activities/7639921337 Morning Walk\n",
      "2022-08-22 23:07:43:INFO:Total number of cards on 11777476 'Strava Cyclist Profile | Rajat Gupta': {'count': 8}/8\n",
      "2022-08-22 23:07:52:INFO:giveKudos: 0,nonMember,https://www.strava.com/athletes/26921345 Sujeet Saste 🇮🇳,https://www.strava.com/activities/7589619632 Morning Walk\n",
      "2022-08-22 23:07:56:INFO:giveKudos: 1,nonMember,https://www.strava.com/athletes/26921345 Sujeet Saste 🇮🇳,https://www.strava.com/activities/7573418053 Morning Run + Walk\n",
      "2022-08-22 23:07:59:INFO:giveKudos: 2,nonMember,https://www.strava.com/athletes/26921345 Sujeet Saste 🇮🇳,https://www.strava.com/activities/7567486742 Morning Run\n",
      "2022-08-22 23:08:02:INFO:giveKudos: 3,nonMember,https://www.strava.com/athletes/26921345 Sujeet Saste 🇮🇳,https://www.strava.com/activities/7562103553 Morning Walk\n",
      "2022-08-22 23:08:03:INFO:Total number of cards on 26921345 'Strava Cyclist Profile | Sujeet Saste 🇮🇳': {'count': 4}/4\n",
      "2022-08-22 23:08:11:INFO:giveKudos: 0,nonMember,https://www.strava.com/athletes/36495610 Pooja Dighe,https://www.strava.com/activities/7368792627 Morning Run\n",
      "2022-08-22 23:08:14:INFO:giveKudos: 1,nonMember,https://www.strava.com/athletes/36495610 Pooja Dighe,https://www.strava.com/activities/7358685827 Morning Run\n",
      "2022-08-22 23:08:17:INFO:giveKudos: 2,nonMember,https://www.strava.com/athletes/36495610 Pooja Dighe,https://www.strava.com/activities/7347987999 Morning Run\n",
      "2022-08-22 23:08:20:INFO:giveKudos: 3,nonMember,https://www.strava.com/athletes/36495610 Pooja Dighe,https://www.strava.com/activities/7342273768 Morning Run\n",
      "2022-08-22 23:08:20:INFO:Total number of cards on 36495610 'Strava Runner Profile | Pooja Dighe': {'count': 4}/4\n",
      "2022-08-22 23:08:28:INFO:giveKudos: 0,nonMember,https://www.strava.com/athletes/12922797 Manish Pharande,https://www.strava.com/activities/5571687510 Morning Run\n",
      "2022-08-22 23:08:28:INFO:Total number of cards on 12922797 'Strava Cyclist Profile | Manish Pharande': {'count': 1}/1\n",
      "2022-08-22 23:08:38:INFO:giveKudos: 0,nonMember,https://www.strava.com/athletes/11136196 Siddharth Gupta,https://www.strava.com/activities/7619718298 Morning Workout\n",
      "2022-08-22 23:08:41:INFO:giveKudos: 1,nonMember,https://www.strava.com/athletes/11136196 Siddharth Gupta,https://www.strava.com/activities/7619718296 Morning Workout\n",
      "2022-08-22 23:08:41:INFO:Total number of cards on 11136196 'Strava Cyclist Profile | Siddharth Gupta': {'count': 2}/2\n",
      "2022-08-22 23:08:50:INFO:giveKudos: 0,nonMember,https://www.strava.com/athletes/67603137 Sandeep Udhane,https://www.strava.com/activities/7573252727 ☁️ Morning Run\n",
      "2022-08-22 23:08:53:INFO:giveKudos: 1,nonMember,https://www.strava.com/athletes/67603137 Sandeep Udhane,https://www.strava.com/activities/7573252219 ☁️ Morning Ride\n",
      "2022-08-22 23:08:54:INFO:Total number of cards on 67603137 'Strava Cyclist Profile | Sandeep Udhane': {'count': 2}/2\n",
      "2022-08-22 23:09:03:INFO:giveKudos: 0,nonMember,https://www.strava.com/athletes/25421398 Nitin Gavali,https://www.strava.com/activities/7267555498 Morning Run\n",
      "2022-08-22 23:09:06:INFO:giveKudos: 1,nonMember,https://www.strava.com/athletes/25421398 Nitin Gavali,https://www.strava.com/activities/7262202671 Morning Run\n",
      "2022-08-22 23:09:06:INFO:Total number of cards on 25421398 'Strava Cyclist Profile | Nitin Gavali': {'count': 2}/2\n",
      "2022-08-22 23:09:13:INFO:giveKudos: 0,nonMember,https://www.strava.com/athletes/16158128 Harshal Naik,https://www.strava.com/activities/7678695369 Morning Hike\n",
      "2022-08-22 23:09:13:INFO:Total number of cards on 16158128 'Strava Runner Profile | Harshal Naik': {'count': 1}/1\n",
      "2022-08-22 23:09:20:INFO:giveKudos: 0,nonMember,https://www.strava.com/athletes/10713672 Harshal Mistry,https://www.strava.com/activities/7672644229 Morning Ride\n",
      "2022-08-22 23:09:20:INFO:Total number of cards on 10713672 'Strava Runner Profile | Harshal Mistry': {'count': 1}/1\n"
     ]
    }
   ],
   "source": [
    "for i,d in df_ids.iterrows():\n",
    "  strava.goto(f\"https://www.strava.com/athletes/{d.id}?num_entries=5\")\n",
    "  # if i>0: break\n",
    "  ret=strava.giveKudos()\n",
    "  logging.info(f\"Total number of cards on {d.id} '{strava.browser.title}': {ret}/{len(b.divs(class_name=re.compile('^Card')))}\")\n",
    "  # strava.giveKudos()"
   ]
  },
  {
   "cell_type": "code",
   "execution_count": 129,
   "metadata": {},
   "outputs": [
    {
     "name": "stderr",
     "output_type": "stream",
     "text": [
      "2022-08-22 22:34:26:INFO:Total number of cards on Strava Cyclist Profile | Vikas Salunke: 2\n"
     ]
    },
    {
     "data": {
      "text/plain": [
       "('Vikas Salunke',\n",
       " 'https://www.strava.com/athletes/18809011',\n",
       " ' · Haveli, Maharashtra',\n",
       " 'Morning Run',\n",
       " 'https://www.strava.com/activities/7154936310',\n",
       " '42 kudos')"
      ]
     },
     "metadata": {},
     "output_type": "display_data"
    },
    {
     "data": {
      "text/plain": [
       "('Vikas Salunke',\n",
       " 'https://www.strava.com/athletes/18809011',\n",
       " ' · Haveli, Maharashtra',\n",
       " 'Evening Run',\n",
       " 'https://www.strava.com/activities/7152509975',\n",
       " '39 kudos')"
      ]
     },
     "metadata": {},
     "output_type": "display_data"
    }
   ],
   "source": [
    "def giveKudosAth():\n",
    "logging.info(f\"Total number of cards on {strava.browser.title}: {len(b.divs(class_name=re.compile('^EntryHeader')))}\")\n",
    "for el in b.divs(class_name=re.compile('^EntryHeader')):\n",
    "    display(strava.getPostData(el.parent()))"
   ]
  },
  {
   "cell_type": "markdown",
   "metadata": {
    "id": "ZOsl5-2L8nVY"
   },
   "source": [
    "# Test like"
   ]
  },
  {
   "cell_type": "code",
   "execution_count": null,
   "metadata": {
    "id": "M3Ge5ZH6uriY",
    "outputId": "25dce19d-0c83-4482-8a5d-7b9949cd1636"
   },
   "outputs": [
    {
     "name": "stderr",
     "output_type": "stream",
     "text": [
      "2022-08-15 22:46:49:INFO:Total number of cards on Atlanta, Georgia Club | Mileage League: 2022 in 2022 on Strava: 20\n",
      "2022-08-15 22:46:49:INFO:Total number of cards on Atlanta, Georgia Club | Mileage League: 2022 in 2022 on Strava: 20\n"
     ]
    }
   ],
   "source": [
    "import unittest\n",
    "logging.info(f\"Total number of cards on {strava.browser.title}: {len(b.divs(class_name=re.compile('^Card')))}\")\n",
    "logging.info(f\"Total number of cards on {strava.browser.title}: {len(b.divs(class_name=re.compile('^EntryHeader')))}\")"
   ]
  },
  {
   "cell_type": "code",
   "execution_count": null,
   "metadata": {
    "id": "UzgL4RAWuriY",
    "outputId": "5fc5f54a-cb34-444b-ca38-a7b858c2892b",
    "tags": []
   },
   "outputs": [
    {
     "name": "stdout",
     "output_type": "stream",
     "text": [
      "Vikash Agarwal https://www.strava.com/athletes/9233466 Evening Run https://www.strava.com/activities/7643109551 1 kudos  · Dubai, United Arab Emirates\n",
      "Michelle Walker https://www.strava.com/athletes/6429484 Forgot My Water Bottles https://www.strava.com/activities/7642558930 19 kudos  · Warrick County, USA\n",
      "Rick Simonson https://www.strava.com/athletes/3171614 Morning Run https://www.strava.com/activities/7642711821 8 kudos  · Ridgway, USA\n",
      "Eric Ashe https://www.strava.com/athletes/8169908 Forgive us our trespasses https://www.strava.com/activities/7642774361 29 kudos  · Natick, USA\n",
      "Swaminathan Srinivasan https://www.strava.com/athletes/16353981 Morning Walk https://www.strava.com/activities/7642481616 6 kudos  · Haveli, Maharashtra\n",
      "Paul O'Neil https://www.strava.com/athletes/8476113 Upper Body Strength https://www.strava.com/activities/7642818271 7 kudos \n",
      "Vivek Chaudhari 🇮🇳 https://www.strava.com/athletes/24454841 Night Walk https://www.strava.com/activities/7642750613 12 kudos  · Haveli, Maharashtra\n",
      "Kanchan Goswami https://www.strava.com/athletes/51936553 Morning Workout https://www.strava.com/activities/7642758928 1 kudos \n",
      "Jim Walmsley https://www.strava.com/athletes/1635688 Roche Parstire never disappoints https://www.strava.com/activities/7642358637 2,420 kudos  · Beaufort, France\n",
      "MICKY GYANCHANDANI https://www.strava.com/athletes/39636347 HAPPY INDEPENDENCE DAY RIDE 🇮🇳🇮🇳🇮🇳 https://www.strava.com/activities/7642148555 59 kudos  · Huzur Tahsil, Madhya Pradesh\n",
      "Tushar Paigude https://www.strava.com/athletes/18858574 Evening Walk https://www.strava.com/activities/7642279225 4 kudos  · Haveli, Maharashtra\n"
     ]
    }
   ],
   "source": [
    "for c_ in b.buttons(data_testid=\"kudos_button\"):#text=re.compile('.*udos')): #'^EntryHeader')\n",
    "    # print(dir(c_))\n",
    "    actEl=c_.parent(class_name=re.compile('^EntryFooter')\n",
    "                       ).parent()#.siblings(class_name=re.compile('^EntryHeader'))[0]\n",
    "    # print(\">\",actEl.exists,actEl.tag_name,actEl.class_name,actEl.text[:9],)\n",
    "    try:\n",
    "        ath,athUrl=utils.getAttrsIfExists( actEl.link(data_testid=\"owners-name\"),\n",
    "                               ['text','href'])#,)\n",
    "        loc=utils.getAttrsIfExists( actEl.div(data_testid=\"location\"))\n",
    "        act,actUrl=utils.getAttrsIfExists( actEl.link(data_testid=\"activity_name\"),\n",
    "                               ['text','href'])#,)\n",
    "        kudoCount=utils.getAttrsIfExists( actEl.button(data_testid=\"kudos_count\"))\n",
    "        print(ath,athUrl,act,actUrl,kudoCount,loc)\n",
    "    # ss.append_table([[pd.Timestamp.now().isoformat(),\"INFO\",\"giveKudos\",id,athId,name,actId,loc,]])    \n",
    "    # logging.info(f\"giveKudos: {i},{id},{athId} {actId} {hdr.text.split(',')[:1]}\")\n",
    "        # print(\">>\",len(c_.elements()),\n",
    "        #       c_.text.replace(\"\\n\",\"/\")[:80],\n",
    "        #      )\n",
    "        # utils.dumpChildren(actEl,attr=['tag_name','class_name','text','data_testid','id'])\n",
    "    except TimeoutError:\n",
    "        print('timeout')\n",
    "    except Exception as e:\n",
    "        print (f\"something else {e!r}\")"
   ]
  },
  {
   "cell_type": "code",
   "execution_count": null,
   "metadata": {
    "id": "9Ipc6X55uriY",
    "outputId": "ddaa8332-439a-4308-9132-023c1a449488",
    "tags": []
   },
   "outputs": [
    {
     "data": {
      "text/plain": [
       "299"
      ]
     },
     "execution_count": 21,
     "metadata": {},
     "output_type": "execute_result"
    }
   ],
   "source": [
    "bs=b.elements(tag_name='a',)\n",
    "len(bs)"
   ]
  },
  {
   "cell_type": "code",
   "execution_count": null,
   "metadata": {
    "id": "H-3jxeHEuriY",
    "outputId": "4843828b-9a4c-4175-a1b8-e07819aa6bf6"
   },
   "outputs": [
    {
     "data": {
      "text/plain": [
       "TestResults(failed=0, attempted=7)"
      ]
     },
     "execution_count": 31,
     "metadata": {},
     "output_type": "execute_result"
    }
   ],
   "source": [
    "\"\"\"\n",
    "This is the \"example\" module.\n",
    "\n",
    "The example module supplies one function, factorial().  For example,\n",
    "\n",
    ">>> factorial(5)\n",
    "120\n",
    "\"\"\"\n",
    "\n",
    "def factorial(n):\n",
    "    \"\"\"Return the factorial of n, an exact integer >= 0.\n",
    "\n",
    "    >>> [factorial(n) for n in range(6)]\n",
    "    [1, 1, 2, 6, 24, 120]\n",
    "    >>> factorial(30)\n",
    "    265252859812191058636308480000000\n",
    "    >>> factorial(-1)\n",
    "    Traceback (most recent call last):\n",
    "        ...\n",
    "    ValueError: n must be >= 0\n",
    "\n",
    "    Factorials of floats are OK, but the float must be an exact integer:\n",
    "    >>> factorial(30.1)\n",
    "    Traceback (most recent call last):\n",
    "        ...\n",
    "    ValueError: n must be exact integer\n",
    "    >>> factorial(30.0)\n",
    "    265252859812191058636308480000000\n",
    "\n",
    "    It must also not be ridiculously large:\n",
    "    >>> factorial(1e100)\n",
    "    Traceback (most recent call last):\n",
    "        ...\n",
    "    OverflowError: n too large\n",
    "    \"\"\"\n",
    "\n",
    "    import math\n",
    "    if not n >= 0:\n",
    "        raise ValueError(\"n must be >= 0\")\n",
    "    if math.floor(n) != n:\n",
    "        raise ValueError(\"n must be exact integer\")\n",
    "    if n+1 == n:  # catch a value like 1e300\n",
    "        raise OverflowError(\"n too large\")\n",
    "    result = 1\n",
    "    factor = 2\n",
    "    while factor <= n:\n",
    "        result *= factor\n",
    "        factor += 1\n",
    "    return result\n",
    "\n",
    "\n",
    "import doctest\n",
    "doctest.testmod(verbose=False)"
   ]
  },
  {
   "cell_type": "code",
   "execution_count": null,
   "metadata": {
    "id": "IvIKic5auria",
    "outputId": "dc1c9685-307a-44ce-c6cc-32263c348298"
   },
   "outputs": [
    {
     "name": "stdout",
     "output_type": "stream",
     "text": [
      "setup\n",
      "teardown\n",
      "setup\n",
      "teardown\n"
     ]
    },
    {
     "name": "stderr",
     "output_type": "stream",
     "text": [
      "----------------------------------------------------------------------\n",
      "Ran 2 tests in 0.001s\n",
      "\n",
      "OK\n"
     ]
    }
   ],
   "source": [
    "import unittest\n",
    "importlib.reload(unittest)\n",
    "\n",
    "class Avinash(unittest.TestCase):\n",
    "    def setUp(self):\n",
    "        print('setup')\n",
    "    def tearDown(self):\n",
    "        print('teardown')\n",
    "        \n",
    "    def test(self):\n",
    "        # date = datetime.date(2020, 1, 1)\n",
    "        self.assertEqual(2+3, 5)\n",
    "        \n",
    "    def test2(self):\n",
    "        # date = datetime.date(2019, 12, 31)\n",
    "        self.assertEqual(6/2, 3)\n",
    "        \n",
    "res = unittest.main(argv=[''], verbosity=0, exit=False)\n",
    "# if we want our notebook to stop processing due to failures, we need a cell itself to fail\n",
    "assert len(res.result.failures) == 0\n"
   ]
  },
  {
   "cell_type": "code",
   "execution_count": null,
   "metadata": {
    "id": "QX8Fh7-Furib",
    "outputId": "a2fa3f29-03e1-4edf-cec0-e662d2e5fec1"
   },
   "outputs": [
    {
     "data": {
      "text/plain": [
       "11"
      ]
     },
     "execution_count": 70,
     "metadata": {},
     "output_type": "execute_result"
    }
   ],
   "source": [
    "importlib.reload(utils)\n",
    "bs=b.buttons(data_testid=\"comment_button\")\n",
    "len(bs)"
   ]
  },
  {
   "cell_type": "code",
   "execution_count": null,
   "metadata": {
    "id": "WehMUGs9urib"
   },
   "outputs": [],
   "source": [
    "# utils.dumpParents(bs[0])\n",
    "\n",
    "\n",
    "for bs_ in bs:#bs0=bs[1]#.parent(class_name='EntryHeader--entry-header--lXRRn')\n",
    "    postComment(bs_)\n",
    "# utils.dumpTag(bs0)\n",
    "\n",
    "    \n",
    "# utils.dumpTag(bs0)\n",
    "# utils.dumpChildren(bs0.parent(data_testid='kudos_comments_container'),\"tag_name|class_name|text|title|data_testid\".split('|'))"
   ]
  },
  {
   "cell_type": "code",
   "execution_count": null,
   "metadata": {
    "id": "kNbZlnRRurib"
   },
   "outputs": [],
   "source": [
    "ta.value='Nice!'"
   ]
  },
  {
   "cell_type": "code",
   "execution_count": null,
   "metadata": {
    "id": "Mi36URqIurib"
   },
   "outputs": [],
   "source": [
    "dir(bs0)"
   ]
  },
  {
   "cell_type": "code",
   "execution_count": null,
   "metadata": {
    "id": "fS27iICGuric",
    "tags": []
   },
   "outputs": [],
   "source": [
    "bs0=bs[0].parent(class_name='EntryHeader--entry-header--lXRRn')\n",
    "for i in range(5):\n",
    "    bs0=bs0.parent()\n",
    "    utils.dumpTag(bs0)"
   ]
  },
  {
   "cell_type": "code",
   "execution_count": null,
   "metadata": {
    "id": "6ozZ_aTAuric"
   },
   "outputs": [],
   "source": [
    "dir(bs[0].el)"
   ]
  },
  {
   "cell_type": "code",
   "execution_count": null,
   "metadata": {
    "id": "Wsq6peVduric"
   },
   "outputs": [],
   "source": [
    "importlib.reload(utils)\n",
    "len(bs)\n",
    "utils.dumpChildren(bs0,attr=['tag_name','class_name','text','data_testid'])"
   ]
  },
  {
   "cell_type": "code",
   "execution_count": null,
   "metadata": {
    "id": "GrpzRUVOurid",
    "tags": []
   },
   "outputs": [],
   "source": []
  },
  {
   "cell_type": "code",
   "execution_count": null,
   "metadata": {
    "id": "RfB9l_hPurid"
   },
   "outputs": [],
   "source": []
  },
  {
   "cell_type": "code",
   "execution_count": null,
   "metadata": {
    "id": "kCCcA6FIurie"
   },
   "outputs": [],
   "source": [
    "utils.dumpParents(bs[0])"
   ]
  },
  {
   "cell_type": "markdown",
   "metadata": {
    "id": "TQwazHHAurie"
   },
   "source": [
    "# Test post"
   ]
  },
  {
   "cell_type": "code",
   "execution_count": null,
   "metadata": {
    "id": "r5T2u6MRbfey"
   },
   "outputs": [],
   "source": [
    "## Comment on PCMC club\n",
    "strava.goto(\"https://www.strava.com/clubs/196654/recent_activity\")"
   ]
  },
  {
   "cell_type": "code",
   "execution_count": null,
   "metadata": {
    "id": "Bjkz6rzNbfey"
   },
   "outputs": [],
   "source": [
    "card=strava.getParent(x1[0],'div','^Card')"
   ]
  },
  {
   "cell_type": "code",
   "execution_count": null,
   "metadata": {
    "id": "sCdfBnJHbfez"
   },
   "outputs": [],
   "source": [
    "card.text\n",
    "[x.link().text for x in [card.div(class_name=re.compile(\"^MediaBody--media-body--\"))]]"
   ]
  },
  {
   "cell_type": "code",
   "execution_count": null,
   "metadata": {
    "id": "UPI1C0Mmbfez"
   },
   "outputs": [],
   "source": [
    "KudosButtons=strava.browser.buttons(title=strava.giveKudosPattern)\n",
    "for i,x in enumerate(KudosButtons):\n",
    "  try:\n",
    "    card=strava.getParent(x,'div','^Card')\n",
    "    athId,ath=SocialMediaSite.getLinkByClassPatt(card,\"^Avatar--\")\n",
    "    actId,_=SocialMediaSite.getLinkByClassPatt(card,\"^ActivityEntryBody--\")\n",
    "    for x in card.divs(class_name=re.compile(\"^MediaBody--media-body--\")):\n",
    "        name=x.link().text\n",
    "        if x.exists:\n",
    "            locEl=x.div(class_name=re.compile('^LocationAndTime--location--',)).wait_until(timeout=0.1, method=lambda _: True)\n",
    "            loc=locEl\n",
    "    # text=card.text.split(',')[:1]\n",
    "    print(name,loc)\n",
    "    # x.click() \n",
    "    try:\n",
    "        x = int(re.findall(\".*\\/([0-9]*)\",athId)[0])\n",
    "        if x not in StravaMembers:\n",
    "            x='nonMember'\n",
    "    except:\n",
    "        x='not valid'\n",
    "\n",
    "    # self.browser.execute_script(\"arguments[0].click();\", x)\n",
    "    ss.append_table([[pd.Timestamp.now().isoformat(),\"INFO\",\"Comments\",x,athId,name,actId,loc,]])    \n",
    "    logging.info(f\"giveKudos: {i},{x} {athId} {actId} {name}\")\n",
    "  except Exception as e: \n",
    "    logging.warning(f\"giveKudos: {i} error clicking {e!r}\")\n"
   ]
  },
  {
   "cell_type": "code",
   "execution_count": null,
   "metadata": {
    "id": "Xuh3omF2bfe0"
   },
   "outputs": [],
   "source": []
  },
  {
   "cell_type": "code",
   "execution_count": null,
   "metadata": {
    "id": "zhJ3BAA7bfe0"
   },
   "outputs": [],
   "source": []
  },
  {
   "cell_type": "code",
   "execution_count": null,
   "metadata": {
    "id": "Jtql7S8bbfe1"
   },
   "outputs": [],
   "source": [
    "b.link(href=\"#container-nav\").click()"
   ]
  },
  {
   "cell_type": "code",
   "execution_count": null,
   "metadata": {
    "id": "wIlcfwI1bfe1"
   },
   "outputs": [],
   "source": [
    "b.button(title=\"Expand profile menu\").hover()"
   ]
  },
  {
   "cell_type": "code",
   "execution_count": null,
   "metadata": {
    "id": "WUmfI9zBbfe2"
   },
   "outputs": [],
   "source": [
    "[(x.text,x.class_name,x.tag_name) for x in b.button(title=\"Expand profile menu\").span().span()]"
   ]
  },
  {
   "cell_type": "code",
   "execution_count": null,
   "metadata": {
    "id": "JK1Fb0Lm_Q4E"
   },
   "outputs": [],
   "source": [
    "# b.execute_script(\"window.scrollTo(0,0)\")\n",
    "# Image(b.screenshot.png())\n",
    "re.findall(\".*\\/([0-9]*)\",\"https://www.strava.com/athletes/27331750\")[0]"
   ]
  },
  {
   "cell_type": "code",
   "execution_count": null,
   "metadata": {
    "id": "RFcswAtg8ohL"
   },
   "outputs": [],
   "source": [
    "\"get all attributes\"\n",
    "# for x in dir(b):\n",
    "#   print(x,type(getattr(b,x)),)"
   ]
  },
  {
   "cell_type": "markdown",
   "metadata": {
    "id": "-U3fAwRvqt-y"
   },
   "source": [
    "# DocTest\n"
   ]
  },
  {
   "cell_type": "code",
   "execution_count": 1,
   "metadata": {},
   "outputs": [
    {
     "name": "stdout",
     "output_type": "stream",
     "text": [
      "Object `Browser()` not found.\n"
     ]
    }
   ],
   "source": [
    "Browser()"
   ]
  },
  {
   "cell_type": "code",
   "execution_count": 2,
   "metadata": {},
   "outputs": [],
   "source": [
    "import doctest"
   ]
  },
  {
   "cell_type": "code",
   "execution_count": 10,
   "metadata": {},
   "outputs": [
    {
     "name": "stdout",
     "output_type": "stream",
     "text": [
      "Trying:\n",
      "    setup_env([],['pandas'])\n",
      "Expecting:\n",
      "    'Environment setup'\n",
      "ok\n",
      "10 items had no tests:\n",
      "    utils\n",
      "    utils.cstr\n",
      "    utils.dumpChildren\n",
      "    utils.dumpParents\n",
      "    utils.dumpTag\n",
      "    utils.getAttrs\n",
      "    utils.getAttrsIfExists\n",
      "    utils.printAttrs\n",
      "    utils.setLogger\n",
      "    utils.shell\n",
      "1 items passed all tests:\n",
      "   1 tests in utils.setup_env\n",
      "1 tests in 11 items.\n",
      "1 passed and 0 failed.\n",
      "Test passed.\n"
     ]
    }
   ],
   "source": [
    "!python -m doctest lib/utils.py -v"
   ]
  },
  {
   "cell_type": "markdown",
   "metadata": {},
   "source": [
    "# pydrive"
   ]
  },
  {
   "cell_type": "code",
   "execution_count": 39,
   "metadata": {},
   "outputs": [],
   "source": [
    "# !pip install pydrive\n",
    "import os\n",
    "JSON_FILE=f'{AUTH}/indiathon-04d51b0b4caa.json'\n",
    "\n",
    "from pydrive.auth import GoogleAuth\n",
    "from pydrive.drive import GoogleDrive\n",
    "from oauth2client.service_account import ServiceAccountCredentials\n",
    "\n",
    "gauth = GoogleAuth()\n",
    "scope = [\"https://www.googleapis.com/auth/drive\"]\n",
    "gauth.credentials = ServiceAccountCredentials.from_json_keyfile_name(JSON_FILE, scope)\n",
    "drive = GoogleDrive(gauth)"
   ]
  },
  {
   "cell_type": "code",
   "execution_count": 40,
   "metadata": {},
   "outputs": [
    {
     "name": "stdout",
     "output_type": "stream",
     "text": [
      "Object `GoogleDriveFileList` not found.\n"
     ]
    }
   ],
   "source": [
    "??GoogleDriveFileList"
   ]
  },
  {
   "cell_type": "code",
   "execution_count": 41,
   "metadata": {},
   "outputs": [],
   "source": [
    "file_list = drive.ListFile({'q': 'sharedWithMe'}).GetList()"
   ]
  },
  {
   "cell_type": "code",
   "execution_count": 42,
   "metadata": {},
   "outputs": [
    {
     "name": "stdout",
     "output_type": "stream",
     "text": [
      "title: PCMC strava sync, id: 1Q8SA641P0aytWzPGmeHG_xuxll3Wq6phsxjb91RjgWY\n",
      "title: Colab log, id: 14a8u53o0V6jKwP1nxk0334jvKsRnW6J5hKzcaQAwUbw\n"
     ]
    }
   ],
   "source": [
    "for file1 in file_list:\n",
    "  print('title: %s, id: %s' % (file1['title'], file1['id']))"
   ]
  },
  {
   "cell_type": "code",
   "execution_count": 43,
   "metadata": {},
   "outputs": [],
   "source": [
    "import pandas as pd"
   ]
  },
  {
   "cell_type": "code",
   "execution_count": 44,
   "metadata": {},
   "outputs": [
    {
     "name": "stdout",
     "output_type": "stream",
     "text": [
      "[GoogleDriveFile({'kind': 'drive#file', 'id': '1Q8SA641P0aytWzPGmeHG_xuxll3Wq6phsxjb91RjgWY', 'etag': '\"MTY2MTE0MjEzOTgyNA\"', 'selfLink': 'https://www.googleapis.com/drive/v2/files/1Q8SA641P0aytWzPGmeHG_xuxll3Wq6phsxjb91RjgWY', 'alternateLink': 'https://docs.google.com/spreadsheets/d/1Q8SA641P0aytWzPGmeHG_xuxll3Wq6phsxjb91RjgWY/edit?usp=drivesdk', 'embedLink': 'https://docs.google.com/spreadsheets/d/1Q8SA641P0aytWzPGmeHG_xuxll3Wq6phsxjb91RjgWY/htmlembed?ouid=109556903566449714667', 'iconLink': 'https://drive-thirdparty.googleusercontent.com/16/type/application/vnd.google-apps.spreadsheet', 'thumbnailLink': 'https://docs.google.com/feeds/vt?gd=true&id=1Q8SA641P0aytWzPGmeHG_xuxll3Wq6phsxjb91RjgWY&v=200760&s=AMedNnoAAAAAYwMknvBuJ_a5l_wGbhw6WwjpYaLI2ewW&sz=s220', 'title': 'PCMC strava sync', 'mimeType': 'application/vnd.google-apps.spreadsheet', 'labels': {'starred': False, 'hidden': False, 'trashed': False, 'restricted': False, 'viewed': True}, 'copyRequiresWriterPermission': False, 'createdDate': '2017-01-10T12:22:03.315Z', 'modifiedDate': '2022-08-22T04:22:19.824Z', 'modifiedByMeDate': '2022-08-19T05:49:28.481Z', 'lastViewedByMeDate': '2022-08-19T05:49:28.481Z', 'markedViewedByMeDate': '1970-01-01T00:00:00.000Z', 'sharedWithMeDate': '2022-01-20T11:46:15.689Z', 'version': '598504', 'sharingUser': {'kind': 'drive#user', 'displayName': 'Avinash Mane', 'picture': {'url': 'https://lh3.googleusercontent.com/a-/AFdZucpLyGvn6ulq9f4tUWqUrqmasBq8pRDAv_FeygCyog=s64'}, 'isAuthenticatedUser': False, 'permissionId': '02692766811695232072', 'emailAddress': 'avinashmane@gmail.com'}, 'parents': [], 'exportLinks': {'application/x-vnd.oasis.opendocument.spreadsheet': 'https://docs.google.com/spreadsheets/export?id=1Q8SA641P0aytWzPGmeHG_xuxll3Wq6phsxjb91RjgWY&exportFormat=ods', 'text/tab-separated-values': 'https://docs.google.com/spreadsheets/export?id=1Q8SA641P0aytWzPGmeHG_xuxll3Wq6phsxjb91RjgWY&exportFormat=tsv', 'application/pdf': 'https://docs.google.com/spreadsheets/export?id=1Q8SA641P0aytWzPGmeHG_xuxll3Wq6phsxjb91RjgWY&exportFormat=pdf', 'application/vnd.openxmlformats-officedocument.spreadsheetml.sheet': 'https://docs.google.com/spreadsheets/export?id=1Q8SA641P0aytWzPGmeHG_xuxll3Wq6phsxjb91RjgWY&exportFormat=xlsx', 'text/csv': 'https://docs.google.com/spreadsheets/export?id=1Q8SA641P0aytWzPGmeHG_xuxll3Wq6phsxjb91RjgWY&exportFormat=csv', 'application/zip': 'https://docs.google.com/spreadsheets/export?id=1Q8SA641P0aytWzPGmeHG_xuxll3Wq6phsxjb91RjgWY&exportFormat=zip', 'application/vnd.oasis.opendocument.spreadsheet': 'https://docs.google.com/spreadsheets/export?id=1Q8SA641P0aytWzPGmeHG_xuxll3Wq6phsxjb91RjgWY&exportFormat=ods'}, 'userPermission': {'kind': 'drive#permission', 'etag': '\"WemYE2sIUytpYiqXisZO1BlaKjA\"', 'id': 'me', 'selfLink': 'https://www.googleapis.com/drive/v2/files/1Q8SA641P0aytWzPGmeHG_xuxll3Wq6phsxjb91RjgWY/permissions/me', 'role': 'writer', 'type': 'user', 'pendingOwner': False}, 'fileSize': '6939103', 'quotaBytesUsed': '6939103', 'ownerNames': ['Avinash Mane'], 'owners': [{'kind': 'drive#user', 'displayName': 'Avinash Mane', 'picture': {'url': 'https://lh3.googleusercontent.com/a-/AFdZucpLyGvn6ulq9f4tUWqUrqmasBq8pRDAv_FeygCyog=s64'}, 'isAuthenticatedUser': False, 'permissionId': '02692766811695232072', 'emailAddress': 'avinashmane@gmail.com'}], 'lastModifyingUserName': 'Avinash Mane', 'lastModifyingUser': {'kind': 'drive#user', 'displayName': 'Avinash Mane', 'picture': {'url': 'https://lh3.googleusercontent.com/a-/AFdZucpLyGvn6ulq9f4tUWqUrqmasBq8pRDAv_FeygCyog=s64'}, 'isAuthenticatedUser': False, 'permissionId': '02692766811695232072', 'emailAddress': 'avinashmane@gmail.com'}, 'capabilities': {'canCopy': True, 'canEdit': True}, 'editable': True, 'copyable': True, 'writersCanShare': True, 'shared': True, 'explicitlyTrashed': False, 'appDataContents': False, 'spaces': ['drive']}), GoogleDriveFile({'kind': 'drive#file', 'id': '14a8u53o0V6jKwP1nxk0334jvKsRnW6J5hKzcaQAwUbw', 'etag': '\"MTY2MTEzNTI4NjEwMw\"', 'selfLink': 'https://www.googleapis.com/drive/v2/files/14a8u53o0V6jKwP1nxk0334jvKsRnW6J5hKzcaQAwUbw', 'alternateLink': 'https://docs.google.com/spreadsheets/d/14a8u53o0V6jKwP1nxk0334jvKsRnW6J5hKzcaQAwUbw/edit?usp=drivesdk', 'embedLink': 'https://docs.google.com/spreadsheets/d/14a8u53o0V6jKwP1nxk0334jvKsRnW6J5hKzcaQAwUbw/htmlembed?ouid=109556903566449714667', 'iconLink': 'https://drive-thirdparty.googleusercontent.com/16/type/application/vnd.google-apps.spreadsheet', 'thumbnailLink': 'https://docs.google.com/feeds/vt?gd=true&id=14a8u53o0V6jKwP1nxk0334jvKsRnW6J5hKzcaQAwUbw&v=37&s=AMedNnoAAAAAYwMknhvuqDItYzK8yki6Vw-1dSrRLOQa&sz=s220', 'title': 'Colab log', 'mimeType': 'application/vnd.google-apps.spreadsheet', 'labels': {'starred': False, 'hidden': False, 'trashed': False, 'restricted': False, 'viewed': True}, 'copyRequiresWriterPermission': False, 'createdDate': '2022-08-19T05:30:38.716Z', 'modifiedDate': '2022-08-22T02:28:06.103Z', 'modifiedByMeDate': '2022-08-22T02:28:06.103Z', 'lastViewedByMeDate': '2022-08-22T02:28:06.103Z', 'markedViewedByMeDate': '1970-01-01T00:00:00.000Z', 'sharedWithMeDate': '2022-08-19T05:59:21.338Z', 'version': '51', 'sharingUser': {'kind': 'drive#user', 'displayName': 'Avinash Mane', 'picture': {'url': 'https://lh3.googleusercontent.com/a-/AFdZucpLyGvn6ulq9f4tUWqUrqmasBq8pRDAv_FeygCyog=s64'}, 'isAuthenticatedUser': False, 'permissionId': '02692766811695232072', 'emailAddress': 'avinashmane@gmail.com'}, 'parents': [], 'exportLinks': {'application/x-vnd.oasis.opendocument.spreadsheet': 'https://docs.google.com/spreadsheets/export?id=14a8u53o0V6jKwP1nxk0334jvKsRnW6J5hKzcaQAwUbw&exportFormat=ods', 'text/tab-separated-values': 'https://docs.google.com/spreadsheets/export?id=14a8u53o0V6jKwP1nxk0334jvKsRnW6J5hKzcaQAwUbw&exportFormat=tsv', 'application/pdf': 'https://docs.google.com/spreadsheets/export?id=14a8u53o0V6jKwP1nxk0334jvKsRnW6J5hKzcaQAwUbw&exportFormat=pdf', 'application/vnd.openxmlformats-officedocument.spreadsheetml.sheet': 'https://docs.google.com/spreadsheets/export?id=14a8u53o0V6jKwP1nxk0334jvKsRnW6J5hKzcaQAwUbw&exportFormat=xlsx', 'text/csv': 'https://docs.google.com/spreadsheets/export?id=14a8u53o0V6jKwP1nxk0334jvKsRnW6J5hKzcaQAwUbw&exportFormat=csv', 'application/zip': 'https://docs.google.com/spreadsheets/export?id=14a8u53o0V6jKwP1nxk0334jvKsRnW6J5hKzcaQAwUbw&exportFormat=zip', 'application/vnd.oasis.opendocument.spreadsheet': 'https://docs.google.com/spreadsheets/export?id=14a8u53o0V6jKwP1nxk0334jvKsRnW6J5hKzcaQAwUbw&exportFormat=ods'}, 'userPermission': {'kind': 'drive#permission', 'etag': '\"s9LnRpzrFRLCDusJZBHPp2Ml_Jw\"', 'id': 'me', 'selfLink': 'https://www.googleapis.com/drive/v2/files/14a8u53o0V6jKwP1nxk0334jvKsRnW6J5hKzcaQAwUbw/permissions/me', 'role': 'writer', 'type': 'user', 'pendingOwner': False}, 'fileSize': '74987', 'quotaBytesUsed': '74987', 'ownerNames': ['Avinash Mane'], 'owners': [{'kind': 'drive#user', 'displayName': 'Avinash Mane', 'picture': {'url': 'https://lh3.googleusercontent.com/a-/AFdZucpLyGvn6ulq9f4tUWqUrqmasBq8pRDAv_FeygCyog=s64'}, 'isAuthenticatedUser': False, 'permissionId': '02692766811695232072', 'emailAddress': 'avinashmane@gmail.com'}], 'lastModifyingUserName': 'pygsheets@indiathon.iam.gserviceaccount.com', 'lastModifyingUser': {'kind': 'drive#user', 'displayName': 'pygsheets@indiathon.iam.gserviceaccount.com', 'picture': {'url': 'https://lh3.googleusercontent.com/a/default-user=s64'}, 'isAuthenticatedUser': True, 'permissionId': '10092826026945050038', 'emailAddress': 'pygsheets@indiathon.iam.gserviceaccount.com'}, 'capabilities': {'canCopy': True, 'canEdit': True}, 'editable': True, 'copyable': True, 'writersCanShare': True, 'shared': True, 'explicitlyTrashed': False, 'appDataContents': False, 'spaces': ['drive']})]\n"
     ]
    }
   ],
   "source": [
    "# pd.DataFrame(file_list)\n",
    "print(list(file_list))"
   ]
  },
  {
   "cell_type": "markdown",
   "metadata": {},
   "source": [
    "# Standard Gdrive"
   ]
  },
  {
   "cell_type": "code",
   "execution_count": 63,
   "metadata": {},
   "outputs": [
    {
     "name": "stdout",
     "output_type": "stream",
     "text": [
      "Files:\n",
      "PCMC strava sync (1Q8SA641P0aytWzPGmeHG_xuxll3Wq6phsxjb91RjgWY)\n",
      "Colab log (14a8u53o0V6jKwP1nxk0334jvKsRnW6J5hKzcaQAwUbw)\n"
     ]
    },
    {
     "data": {
      "text/html": [
       "<style type=\"text/css\">\n",
       "</style>\n",
       "<table id=\"T_a8f78_\">\n",
       "  <thead>\n",
       "    <tr>\n",
       "      <th class=\"blank level0\" >&nbsp;</th>\n",
       "      <th class=\"col_heading level0 col0\" >id</th>\n",
       "      <th class=\"col_heading level0 col1\" >name</th>\n",
       "      <th class=\"col_heading level0 col2\" >mimeType</th>\n",
       "      <th class=\"col_heading level0 col3\" >webViewLink</th>\n",
       "      <th class=\"col_heading level0 col4\" >createdTime</th>\n",
       "      <th class=\"col_heading level0 col5\" >modifiedTime</th>\n",
       "      <th class=\"col_heading level0 col6\" >size</th>\n",
       "    </tr>\n",
       "  </thead>\n",
       "  <tbody>\n",
       "    <tr>\n",
       "      <th id=\"T_a8f78_level0_row0\" class=\"row_heading level0 row0\" >0</th>\n",
       "      <td id=\"T_a8f78_row0_col0\" class=\"data row0 col0\" >1Q8SA641P0aytWzPGmeHG_xuxll3Wq6phsxjb91RjgWY</td>\n",
       "      <td id=\"T_a8f78_row0_col1\" class=\"data row0 col1\" >PCMC strava sync</td>\n",
       "      <td id=\"T_a8f78_row0_col2\" class=\"data row0 col2\" >application/vnd.google-apps.spreadsheet</td>\n",
       "      <td id=\"T_a8f78_row0_col3\" class=\"data row0 col3\" >https://docs.google.com/spreadsheets/d/1Q8SA641P0aytWzPGmeHG_xuxll3Wq6phsxjb91RjgWY/edit?usp=drivesdk</td>\n",
       "      <td id=\"T_a8f78_row0_col4\" class=\"data row0 col4\" >2017-01-10T12:22:03.315Z</td>\n",
       "      <td id=\"T_a8f78_row0_col5\" class=\"data row0 col5\" >2022-08-22T04:57:18.517Z</td>\n",
       "      <td id=\"T_a8f78_row0_col6\" class=\"data row0 col6\" >6939103</td>\n",
       "    </tr>\n",
       "    <tr>\n",
       "      <th id=\"T_a8f78_level0_row1\" class=\"row_heading level0 row1\" >1</th>\n",
       "      <td id=\"T_a8f78_row1_col0\" class=\"data row1 col0\" >14a8u53o0V6jKwP1nxk0334jvKsRnW6J5hKzcaQAwUbw</td>\n",
       "      <td id=\"T_a8f78_row1_col1\" class=\"data row1 col1\" >Colab log</td>\n",
       "      <td id=\"T_a8f78_row1_col2\" class=\"data row1 col2\" >application/vnd.google-apps.spreadsheet</td>\n",
       "      <td id=\"T_a8f78_row1_col3\" class=\"data row1 col3\" >https://docs.google.com/spreadsheets/d/14a8u53o0V6jKwP1nxk0334jvKsRnW6J5hKzcaQAwUbw/edit?usp=drivesdk</td>\n",
       "      <td id=\"T_a8f78_row1_col4\" class=\"data row1 col4\" >2022-08-19T05:30:38.716Z</td>\n",
       "      <td id=\"T_a8f78_row1_col5\" class=\"data row1 col5\" >2022-08-22T02:28:06.103Z</td>\n",
       "      <td id=\"T_a8f78_row1_col6\" class=\"data row1 col6\" >74987</td>\n",
       "    </tr>\n",
       "  </tbody>\n",
       "</table>\n"
      ],
      "text/plain": [
       "<pandas.io.formats.style.Styler at 0x21fb3dfaf08>"
      ]
     },
     "execution_count": 63,
     "metadata": {},
     "output_type": "execute_result"
    }
   ],
   "source": [
    "from __future__ import print_function\n",
    "\n",
    "import os.path\n",
    "\n",
    "from google.auth.transport.requests import Request\n",
    "from google.oauth2.credentials import Credentials\n",
    "from google.oauth2 import service_account\n",
    "from google_auth_oauthlib.flow import InstalledAppFlow\n",
    "from googleapiclient.discovery import build\n",
    "from googleapiclient.errors import HttpError\n",
    "\n",
    "# If modifying these scopes, delete the file token.json.\n",
    "SCOPES = ['https://www.googleapis.com/auth/drive.metadata.readonly']\n",
    "\n",
    "class Drive:\n",
    "    def __init__(self,JSON_FILE):\n",
    "        \"\"\"Shows basic usage of the Drive v3 API.\n",
    "        Prints the names and ids of the first 10 files the user has access to.\n",
    "        \"\"\"\n",
    "        creds = None\n",
    "        # The file token.json stores the user's access and refresh tokens, and is\n",
    "        # created automatically when the authorization flow completes for the first\n",
    "        # time.\n",
    "\n",
    "    #     if os.path.exists('token1.json'):\n",
    "    #         creds = Credentials.from_authorized_user_file('token1.json', SCOPES)\n",
    "\n",
    "        # If there are no (valid) credentials available, let the user log in.\n",
    "        credentials = service_account.Credentials.from_service_account_file(\n",
    "            JSON_FILE)\n",
    "\n",
    "        self.creds = credentials.with_scopes(SCOPES)\n",
    "        \n",
    "        self.service = build('drive', 'v3', credentials=self.creds)\n",
    "    \n",
    "\n",
    "    def listFile(self,*kws):\n",
    "        try:\n",
    "\n",
    "            # Call the Drive v3 API\n",
    "            results = self.service.files(*kws).list(\n",
    "                pageSize=10, fields=\"nextPageToken, files(id, name, mimeType,webViewLink,createdTime,modifiedTime,size)\").execute()  #id, name, \n",
    "            items = results.get('files', [])\n",
    "\n",
    "            if not items:\n",
    "                print('No files found.')\n",
    "                return\n",
    "            print('Files:')\n",
    "            for item in items:\n",
    "                print(u'{0} ({1})'.format(item['name'], item['id']))\n",
    "            return([x for x in items])\n",
    "        except HttpError as error:\n",
    "            # TODO(developer) - Handle errors from drive API.\n",
    "            print(f'An error occurred: {error}')\n",
    "\n",
    "drv=Drive(JSON_FILE)\n",
    "pd.DataFrame(drv.listFile()).style\n"
   ]
  },
  {
   "cell_type": "code",
   "execution_count": null,
   "metadata": {},
   "outputs": [],
   "source": []
  }
 ],
 "metadata": {
  "colab": {
   "include_colab_link": true,
   "name": "strava likers.ipynb",
   "provenance": []
  },
  "gpuClass": "standard",
  "kernelspec": {
   "display_name": "Python 3",
   "language": "python",
   "name": "python3"
  },
  "language_info": {
   "codemirror_mode": {
    "name": "ipython",
    "version": 3
   },
   "file_extension": ".py",
   "mimetype": "text/x-python",
   "name": "python",
   "nbconvert_exporter": "python",
   "pygments_lexer": "ipython3",
   "version": "3.7.7"
  }
 },
 "nbformat": 4,
 "nbformat_minor": 4
}
