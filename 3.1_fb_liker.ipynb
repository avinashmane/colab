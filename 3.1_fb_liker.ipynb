{
 "cells": [
  {
   "cell_type": "markdown",
   "metadata": {
    "colab_type": "text",
    "id": "view-in-github"
   },
   "source": [
    "<a href=\"https://colab.research.google.com/github/avinashmane/colab/blob/master/strava_likers.ipynb\" target=\"_parent\"><img src=\"https://colab.research.google.com/assets/colab-badge.svg\" alt=\"Open In Colab\"/></a>"
   ]
  },
  {
   "cell_type": "markdown",
   "metadata": {
    "id": "p_L68hXNqV25"
   },
   "source": [
    "# Setup Code/Parameters\n",
    "* Setup\n",
    "    * needs\n",
    "        * auth\n",
    "        * gsheet auth\n",
    "        * cfg_strava\n",
    "* updates sheets\n",
    "* Todo\n",
    "    * low: error: location not found "
   ]
  },
  {
   "cell_type": "markdown",
   "metadata": {
    "id": "D_qrPWP6bfeb"
   },
   "source": [
    "## Config"
   ]
  },
  {
   "cell_type": "code",
   "execution_count": 1,
   "metadata": {
    "colab": {
     "base_uri": "https://localhost:8080/"
    },
    "id": "fK2kPK8spfvL",
    "outputId": "9d38be71-adb0-4dc4-c8d0-0d98af2b505a",
    "tags": []
   },
   "outputs": [],
   "source": [
    "repo='https://github.com/avinashmane/colab.git'\n",
    "CONFIG_FILE='config.yaml'\n",
    "\n",
    "\n",
    "#clone report for colab\n",
    "import yaml,os,sys\n",
    "\n",
    "#setup directories\n",
    "if os.name=='nt':\n",
    "    pass\n",
    "else:               #colab setup below\n",
    "    if not os.path.exists('./repo') :\n",
    "        !git clone $repo repo\n",
    "        sys.path.append(\"repo/lib\")\n",
    "        sys.path.append('repo')       \n",
    "    !apt update\n",
    "    if not os.path.exists('drive'):\n",
    "        from google.colab import drive\n",
    "        drive.mount('/content/drive')\n",
    "    if not os.path.exists('m'):\n",
    "      !ln -sd '/content/drive/MyDrive/m/' m\n",
    "    \n",
    "sys.path.append('lib')\n",
    "# sys.path.append(LIB)\n",
    "\n",
    "import utils\n",
    "cfg=utils.setup_env(CONFIG_FILE)  #auth_file defaulted from {AUTH}/auth/yaml\n",
    "\n",
    "for x in cfg['env'][os.name]: \n",
    "    # os.environ[x]=cfg['env'][os.name][x]\n",
    "    globals()[x]=cfg['env'][os.name][x]\n",
    "\n",
    "#need to use following for each sheet\n",
    "service_account_file=f'{os.environ[\"AUTH\"]}/{cfg[\"AUTH\"][\"service_accounts\"][\"indiathon\"]}'"
   ]
  },
  {
   "cell_type": "markdown",
   "metadata": {
    "id": "BojXrnpzt_aL",
    "tags": []
   },
   "source": [
    "## Code"
   ]
  },
  {
   "cell_type": "code",
   "execution_count": 3,
   "metadata": {
    "id": "_0JoVWhRuDAe",
    "tags": []
   },
   "outputs": [],
   "source": [
    "import yaml\n",
    "from datetime import datetime\n",
    "import os\n",
    "from nerodia.browser import Browser\n",
    "import nerodia\n",
    "import re\n",
    "import logging\n",
    "from IPython.display import Image\n",
    "\n",
    "import utils\n",
    "import importlib\n",
    "import socialmediasite , facebooksite\n",
    "importlib.reload(facebooksite)\n",
    "Facebook=facebooksite.Facebook\n",
    "# facebook??"
   ]
  },
  {
   "cell_type": "markdown",
   "metadata": {
    "id": "yT65-kQZuU0h"
   },
   "source": [
    "# Process\n",
    "## Create headless"
   ]
  },
  {
   "cell_type": "code",
   "execution_count": 4,
   "metadata": {
    "colab": {
     "base_uri": "https://localhost:8080/"
    },
    "id": "isFE6a2SpeG_",
    "outputId": "d6f2ecf0-894f-4bc4-f522-ea4ca94881e1",
    "tags": []
   },
   "outputs": [
    {
     "name": "stderr",
     "output_type": "stream",
     "text": [
      "2022-09-19 23:59:19:INFO:Logger file: c:/m/logging/strava-automation.log\n"
     ]
    }
   ],
   "source": [
    "\" Test Selenium headless\"\n",
    "if True:#'b' in globals():\n",
    "    if os.name=='nt':\n",
    "        b=Browser('chrome',)\n",
    "    else:\n",
    "        \n",
    "        # import sys\n",
    "        # sys.path.insert(0,f'{DIR}/geckodriver')\n",
    "        from selenium import webdriver\n",
    "\n",
    "        chrome_options = webdriver.ChromeOptions()\n",
    "        chrome_options.add_argument('--headless')\n",
    "        chrome_options.add_argument('--no-sandbox')\n",
    "        chrome_options.add_argument('--disable-dev-shm-usage')\n",
    "        # b =webdriver.Chrome('chromedriver',options=chrome_options)\n",
    "        b=Browser('chrome',options=chrome_options,)\n",
    "    \n",
    "    utils.setLogger(f\"{LOG}/strava-automation.log\")\n",
    "    "
   ]
  },
  {
   "cell_type": "code",
   "execution_count": 5,
   "metadata": {},
   "outputs": [],
   "source": [
    "# %debug\n",
    "# if os.name=='nt':\n",
    "nerodia.default_timeout=3\n",
    "fb=Facebook(b,authFile=f'{AUTH}/auth.yaml')\n"
   ]
  },
  {
   "cell_type": "code",
   "execution_count": 6,
   "metadata": {
    "tags": []
   },
   "outputs": [],
   "source": [
    "for _el in b.inputs(name='uid'):#(text='Log in to another account'):\n",
    "    # _el.click()\n",
    "    print(_el.attributes)"
   ]
  },
  {
   "cell_type": "code",
   "execution_count": 7,
   "metadata": {},
   "outputs": [],
   "source": [
    "username=\"avinash\"\n",
    "\n",
    "# b.cookies.clear()"
   ]
  },
  {
   "cell_type": "code",
   "execution_count": 42,
   "metadata": {
    "tags": []
   },
   "outputs": [],
   "source": [
    "from selenium.webdriver.common.keys import Keys\n",
    "\n",
    "username=\"avinash\"\n",
    "\n",
    "def login():\n",
    "    # user id selection\n",
    "    b.goto('m.facebook.com')\n",
    "\n",
    "    b.cookies.load(f'{CACHE}/facebook_{username}.cookies')\n",
    "    for _el in b.inputs(name='uid'):\n",
    "        logging.info(\"Login saved\")\n",
    "        _el.parent(tag_name='form').submit()\n",
    "        b.input(name=\"pass\").send_keys(\"Imfr0mk0p\")\n",
    "        b.input(name=\"pass\").send_keys(Keys.ENTER)\n",
    "        # b.button(value=\"Log In\").wait_until(lambda x:x.exists).click()\n",
    "        break\n",
    "    else:  # start from user id\n",
    "        logging.info(\"Login not saved..entering email\")\n",
    "        b.input(id=\"m_login_email\").send_keys(\"avinashmane@yahoo.com\")\n",
    "\n",
    "        b.input(id=\"m_login_password\").send_keys(\"Imfr0mk0p\")\n",
    "        # b.button(name=\"login\").send_keys(Keys.ENTER)\n",
    "        #alternately \n",
    "        b.button(name=\"login\").click()\n",
    "def logout():\n",
    "    b.cookies.save(f'{CACHE}/facebook_{username}.cookies')\n",
    "    # b.elements(id='bookmarks_jewel')[0].click()\n",
    "    # b.elements(data_sigil=\"logout\")[0].click()\n",
    "    \n",
    "    from selenium.webdriver.common.keys import Keys\n",
    "    for _el in b.elements(id='bookmarks_jewel'):   # text='Main Menu'\n",
    "        _el.execute_script(\"arguments[0].click();\", _el)\n",
    "        for _logoutButton in b.links(text='Log Out'):\n",
    "            logging.info(\"Logging out\")\n",
    "            _logoutButton.execute_script(\"arguments[0].click();\", _logoutButton)\n",
    "            for _el3 in b.divs(text=\"Which account did you log out of?\"):\n",
    "                for _el4 in b.links(text=\"My Account\"):\n",
    "                    _el4.click()\n",
    "        # print(_els.attributes)\n",
    "\n"
   ]
  },
  {
   "cell_type": "code",
   "execution_count": 44,
   "metadata": {
    "tags": []
   },
   "outputs": [
    {
     "name": "stderr",
     "output_type": "stream",
     "text": [
      "2022-09-20 00:26:09:INFO:Login saved\n"
     ]
    }
   ],
   "source": [
    "login()\n"
   ]
  },
  {
   "cell_type": "code",
   "execution_count": 43,
   "metadata": {},
   "outputs": [
    {
     "name": "stderr",
     "output_type": "stream",
     "text": [
      "2022-09-20 00:26:00:INFO:Logging out\n"
     ]
    }
   ],
   "source": [
    "logout()\n"
   ]
  },
  {
   "cell_type": "code",
   "execution_count": 36,
   "metadata": {},
   "outputs": [
    {
     "ename": "UnknownObjectException",
     "evalue": "timed out after 10 seconds, waiting for #<HTMLElement: located: False; {'data_sigil': 'logout', 'index': 0}> to be located",
     "output_type": "error",
     "traceback": [
      "\u001b[1;31m---------------------------------------------------------------------------\u001b[0m",
      "\u001b[1;31mTimeoutError\u001b[0m                              Traceback (most recent call last)",
      "\u001b[1;32mc:\\sw\\python37\\lib\\site-packages\\nerodia\\elements\\element.py\u001b[0m in \u001b[0;36mwait_for_exists\u001b[1;34m(self)\u001b[0m\n\u001b[0;32m    617\u001b[0m                 \u001b[0mself\u001b[0m\u001b[1;33m.\u001b[0m\u001b[0mquery_scope\u001b[0m\u001b[1;33m.\u001b[0m\u001b[0mwait_for_exists\u001b[0m\u001b[1;33m(\u001b[0m\u001b[1;33m)\u001b[0m\u001b[1;33m\u001b[0m\u001b[1;33m\u001b[0m\u001b[0m\n\u001b[1;32m--> 618\u001b[1;33m             \u001b[0mself\u001b[0m\u001b[1;33m.\u001b[0m\u001b[0mwait_until\u001b[0m\u001b[1;33m(\u001b[0m\u001b[1;32mlambda\u001b[0m \u001b[0me\u001b[0m\u001b[1;33m:\u001b[0m \u001b[0me\u001b[0m\u001b[1;33m.\u001b[0m\u001b[0mexists\u001b[0m\u001b[1;33m,\u001b[0m \u001b[0melement_reset\u001b[0m\u001b[1;33m=\u001b[0m\u001b[1;32mTrue\u001b[0m\u001b[1;33m)\u001b[0m\u001b[1;33m\u001b[0m\u001b[1;33m\u001b[0m\u001b[0m\n\u001b[0m\u001b[0;32m    619\u001b[0m         \u001b[1;32mexcept\u001b[0m \u001b[0mTimeoutError\u001b[0m\u001b[1;33m:\u001b[0m\u001b[1;33m\u001b[0m\u001b[1;33m\u001b[0m\u001b[0m\n",
      "\u001b[1;32mc:\\sw\\python37\\lib\\site-packages\\nerodia\\wait\\wait.py\u001b[0m in \u001b[0;36mwait_until\u001b[1;34m(self, method, timeout, message, interval, object, **kwargs)\u001b[0m\n\u001b[0;32m    110\u001b[0m         Wait.until(method=method, timeout=timeout, message=message, interval=interval,\n\u001b[1;32m--> 111\u001b[1;33m                    object=object)\n\u001b[0m\u001b[0;32m    112\u001b[0m         \u001b[1;32mreturn\u001b[0m \u001b[0mself\u001b[0m\u001b[1;33m\u001b[0m\u001b[1;33m\u001b[0m\u001b[0m\n",
      "\u001b[1;32mc:\\sw\\python37\\lib\\site-packages\\nerodia\\wait\\wait.py\u001b[0m in \u001b[0;36muntil\u001b[1;34m(cls, method, timeout, message, interval, object)\u001b[0m\n\u001b[0;32m     35\u001b[0m             \u001b[1;32mreturn\u001b[0m \u001b[0mresult\u001b[0m\u001b[1;33m\u001b[0m\u001b[1;33m\u001b[0m\u001b[0m\n\u001b[1;32m---> 36\u001b[1;33m         \u001b[1;32mraise\u001b[0m \u001b[0mTimeoutError\u001b[0m\u001b[1;33m(\u001b[0m\u001b[0mcls\u001b[0m\u001b[1;33m.\u001b[0m\u001b[0m_message_for\u001b[0m\u001b[1;33m(\u001b[0m\u001b[0mtimeout\u001b[0m\u001b[1;33m,\u001b[0m \u001b[0mobject\u001b[0m\u001b[1;33m,\u001b[0m \u001b[0mmessage\u001b[0m\u001b[1;33m)\u001b[0m\u001b[1;33m)\u001b[0m\u001b[1;33m\u001b[0m\u001b[1;33m\u001b[0m\u001b[0m\n\u001b[0m\u001b[0;32m     37\u001b[0m \u001b[1;33m\u001b[0m\u001b[0m\n",
      "\u001b[1;31mTimeoutError\u001b[0m: timed out after 10 seconds, waiting for true condition on #<HTMLElement: located: False; {'data_sigil': 'logout', 'index': 0}>",
      "\nDuring handling of the above exception, another exception occurred:\n",
      "\u001b[1;31mUnknownObjectException\u001b[0m                    Traceback (most recent call last)",
      "\u001b[1;32mc:\\sw\\python37\\lib\\site-packages\\nerodia\\elements\\element.py\u001b[0m in \u001b[0;36m_element_call_check\u001b[1;34m(self, precondition, method, caller)\u001b[0m\n\u001b[0;32m    777\u001b[0m             \u001b[1;32mtry\u001b[0m\u001b[1;33m:\u001b[0m\u001b[1;33m\u001b[0m\u001b[1;33m\u001b[0m\u001b[0m\n\u001b[1;32m--> 778\u001b[1;33m                 \u001b[0mself\u001b[0m\u001b[1;33m.\u001b[0m\u001b[0m_check_condition\u001b[0m\u001b[1;33m(\u001b[0m\u001b[0mprecondition\u001b[0m\u001b[1;33m,\u001b[0m \u001b[0mcaller\u001b[0m\u001b[1;33m)\u001b[0m\u001b[1;33m\u001b[0m\u001b[1;33m\u001b[0m\u001b[0m\n\u001b[0m\u001b[0;32m    779\u001b[0m                 \u001b[1;32mreturn\u001b[0m \u001b[0mmethod\u001b[0m\u001b[1;33m(\u001b[0m\u001b[1;33m)\u001b[0m\u001b[1;33m\u001b[0m\u001b[1;33m\u001b[0m\u001b[0m\n",
      "\u001b[1;32mc:\\sw\\python37\\lib\\site-packages\\nerodia\\elements\\element.py\u001b[0m in \u001b[0;36m_check_condition\u001b[1;34m(self, condition, caller)\u001b[0m\n\u001b[0;32m    762\u001b[0m             \u001b[1;32melse\u001b[0m\u001b[1;33m:\u001b[0m\u001b[1;33m\u001b[0m\u001b[1;33m\u001b[0m\u001b[0m\n\u001b[1;32m--> 763\u001b[1;33m                 \u001b[0mcondition\u001b[0m\u001b[1;33m(\u001b[0m\u001b[1;33m)\u001b[0m\u001b[1;33m\u001b[0m\u001b[1;33m\u001b[0m\u001b[0m\n\u001b[0m\u001b[0;32m    764\u001b[0m             nerodia.logger.debug('<- `Verified precondition '\n",
      "\u001b[1;32mc:\\sw\\python37\\lib\\site-packages\\nerodia\\elements\\element.py\u001b[0m in \u001b[0;36mwait_for_enabled\u001b[1;34m(self)\u001b[0m\n\u001b[0;32m    642\u001b[0m \u001b[1;33m\u001b[0m\u001b[0m\n\u001b[1;32m--> 643\u001b[1;33m         \u001b[0mself\u001b[0m\u001b[1;33m.\u001b[0m\u001b[0mwait_for_exists\u001b[0m\u001b[1;33m(\u001b[0m\u001b[1;33m)\u001b[0m\u001b[1;33m\u001b[0m\u001b[1;33m\u001b[0m\u001b[0m\n\u001b[0m\u001b[0;32m    644\u001b[0m         \u001b[1;32mif\u001b[0m \u001b[1;32mnot\u001b[0m \u001b[0many\u001b[0m\u001b[1;33m(\u001b[0m\u001b[0misinstance\u001b[0m\u001b[1;33m(\u001b[0m\u001b[0mself\u001b[0m\u001b[1;33m,\u001b[0m \u001b[0mklass\u001b[0m\u001b[1;33m)\u001b[0m \u001b[1;32mfor\u001b[0m \u001b[0mklass\u001b[0m \u001b[1;32min\u001b[0m \u001b[1;33m[\u001b[0m\u001b[0mInput\u001b[0m\u001b[1;33m,\u001b[0m \u001b[0mButton\u001b[0m\u001b[1;33m,\u001b[0m \u001b[0mSelect\u001b[0m\u001b[1;33m,\u001b[0m \u001b[0mOption\u001b[0m\u001b[1;33m]\u001b[0m\u001b[1;33m)\u001b[0m\u001b[0;31m \u001b[0m\u001b[0;31m\\\u001b[0m\u001b[1;33m\u001b[0m\u001b[1;33m\u001b[0m\u001b[0m\n",
      "\u001b[1;32mc:\\sw\\python37\\lib\\site-packages\\nerodia\\elements\\element.py\u001b[0m in \u001b[0;36mwait_for_exists\u001b[1;34m(self)\u001b[0m\n\u001b[0;32m    620\u001b[0m             raise self._unknown_exception('timed out after {} seconds, waiting for {} to be '\n\u001b[1;32m--> 621\u001b[1;33m                                           'located'.format(nerodia.default_timeout, self))\n\u001b[0m\u001b[0;32m    622\u001b[0m \u001b[1;33m\u001b[0m\u001b[0m\n",
      "\u001b[1;31mUnknownObjectException\u001b[0m: timed out after 10 seconds, waiting for #<HTMLElement: located: False; {'data_sigil': 'logout', 'index': 0}> to be located",
      "\nDuring handling of the above exception, another exception occurred:\n",
      "\u001b[1;31mUnknownObjectException\u001b[0m                    Traceback (most recent call last)",
      "\u001b[1;32m<ipython-input-36-bb64a0c6c9a7>\u001b[0m in \u001b[0;36m<module>\u001b[1;34m\u001b[0m\n\u001b[1;32m----> 1\u001b[1;33m \u001b[0mb\u001b[0m\u001b[1;33m.\u001b[0m\u001b[0melements\u001b[0m\u001b[1;33m(\u001b[0m\u001b[0mdata_sigil\u001b[0m\u001b[1;33m=\u001b[0m\u001b[1;34m\"logout\"\u001b[0m\u001b[1;33m)\u001b[0m\u001b[1;33m[\u001b[0m\u001b[1;36m0\u001b[0m\u001b[1;33m]\u001b[0m\u001b[1;33m.\u001b[0m\u001b[0mclick\u001b[0m\u001b[1;33m(\u001b[0m\u001b[1;33m)\u001b[0m\u001b[1;33m\u001b[0m\u001b[1;33m\u001b[0m\u001b[0m\n\u001b[0m",
      "\u001b[1;32mc:\\sw\\python37\\lib\\site-packages\\nerodia\\elements\\element.py\u001b[0m in \u001b[0;36mclick\u001b[1;34m(self, *modifiers)\u001b[0m\n\u001b[0;32m    141\u001b[0m                 \u001b[0mself\u001b[0m\u001b[1;33m.\u001b[0m\u001b[0mel\u001b[0m\u001b[1;33m.\u001b[0m\u001b[0mclick\u001b[0m\u001b[1;33m(\u001b[0m\u001b[1;33m)\u001b[0m\u001b[1;33m\u001b[0m\u001b[1;33m\u001b[0m\u001b[0m\n\u001b[0;32m    142\u001b[0m \u001b[1;33m\u001b[0m\u001b[0m\n\u001b[1;32m--> 143\u001b[1;33m         \u001b[0mself\u001b[0m\u001b[1;33m.\u001b[0m\u001b[0m_element_call\u001b[0m\u001b[1;33m(\u001b[0m\u001b[0mmethod\u001b[0m\u001b[1;33m,\u001b[0m \u001b[0mself\u001b[0m\u001b[1;33m.\u001b[0m\u001b[0mwait_for_enabled\u001b[0m\u001b[1;33m)\u001b[0m\u001b[1;33m\u001b[0m\u001b[1;33m\u001b[0m\u001b[0m\n\u001b[0m\u001b[0;32m    144\u001b[0m         \u001b[0mself\u001b[0m\u001b[1;33m.\u001b[0m\u001b[0mbrowser\u001b[0m\u001b[1;33m.\u001b[0m\u001b[0mafter_hooks\u001b[0m\u001b[1;33m.\u001b[0m\u001b[0mrun\u001b[0m\u001b[1;33m(\u001b[0m\u001b[1;33m)\u001b[0m\u001b[1;33m\u001b[0m\u001b[1;33m\u001b[0m\u001b[0m\n\u001b[0;32m    145\u001b[0m \u001b[1;33m\u001b[0m\u001b[0m\n",
      "\u001b[1;32mc:\\sw\\python37\\lib\\site-packages\\nerodia\\elements\\element.py\u001b[0m in \u001b[0;36m_element_call\u001b[1;34m(self, method, precondition)\u001b[0m\n\u001b[0;32m    748\u001b[0m             \u001b[0mWait\u001b[0m\u001b[1;33m.\u001b[0m\u001b[0mtimer\u001b[0m \u001b[1;33m=\u001b[0m \u001b[0mTimer\u001b[0m\u001b[1;33m(\u001b[0m\u001b[0mtimeout\u001b[0m\u001b[1;33m=\u001b[0m\u001b[0mnerodia\u001b[0m\u001b[1;33m.\u001b[0m\u001b[0mdefault_timeout\u001b[0m\u001b[1;33m)\u001b[0m\u001b[1;33m\u001b[0m\u001b[1;33m\u001b[0m\u001b[0m\n\u001b[0;32m    749\u001b[0m         \u001b[1;32mtry\u001b[0m\u001b[1;33m:\u001b[0m\u001b[1;33m\u001b[0m\u001b[1;33m\u001b[0m\u001b[0m\n\u001b[1;32m--> 750\u001b[1;33m             \u001b[1;32mreturn\u001b[0m \u001b[0mself\u001b[0m\u001b[1;33m.\u001b[0m\u001b[0m_element_call_check\u001b[0m\u001b[1;33m(\u001b[0m\u001b[0mprecondition\u001b[0m\u001b[1;33m,\u001b[0m \u001b[0mmethod\u001b[0m\u001b[1;33m,\u001b[0m \u001b[0mcaller\u001b[0m\u001b[1;33m)\u001b[0m\u001b[1;33m\u001b[0m\u001b[1;33m\u001b[0m\u001b[0m\n\u001b[0m\u001b[0;32m    751\u001b[0m         \u001b[1;32mfinally\u001b[0m\u001b[1;33m:\u001b[0m\u001b[1;33m\u001b[0m\u001b[1;33m\u001b[0m\u001b[0m\n\u001b[0;32m    752\u001b[0m             \u001b[0mnerodia\u001b[0m\u001b[1;33m.\u001b[0m\u001b[0mlogger\u001b[0m\u001b[1;33m.\u001b[0m\u001b[0mdebug\u001b[0m\u001b[1;33m(\u001b[0m\u001b[1;34m'<- `Completed {}#{}`'\u001b[0m\u001b[1;33m.\u001b[0m\u001b[0mformat\u001b[0m\u001b[1;33m(\u001b[0m\u001b[0mself\u001b[0m\u001b[1;33m,\u001b[0m \u001b[0mcaller\u001b[0m\u001b[1;33m)\u001b[0m\u001b[1;33m)\u001b[0m\u001b[1;33m\u001b[0m\u001b[1;33m\u001b[0m\u001b[0m\n",
      "\u001b[1;32mc:\\sw\\python37\\lib\\site-packages\\nerodia\\elements\\element.py\u001b[0m in \u001b[0;36m_element_call_check\u001b[1;34m(self, precondition, method, caller)\u001b[0m\n\u001b[0;32m    790\u001b[0m                     \u001b[0mmsg\u001b[0m \u001b[1;33m+=\u001b[0m \u001b[1;34m'; Nerodia treated {!r} as a non-HTML compliant attribute, '\u001b[0m\u001b[0;31m \u001b[0m\u001b[0;31m\\\u001b[0m\u001b[1;33m\u001b[0m\u001b[1;33m\u001b[0m\u001b[0m\n\u001b[0;32m    791\u001b[0m                            \u001b[1;34m'ensure that was intended'\u001b[0m\u001b[1;33m.\u001b[0m\u001b[0mformat\u001b[0m\u001b[1;33m(\u001b[0m\u001b[0mcustom_attributes\u001b[0m\u001b[1;33m)\u001b[0m\u001b[1;33m\u001b[0m\u001b[1;33m\u001b[0m\u001b[0m\n\u001b[1;32m--> 792\u001b[1;33m                 \u001b[1;32mraise\u001b[0m \u001b[0mself\u001b[0m\u001b[1;33m.\u001b[0m\u001b[0m_unknown_exception\u001b[0m\u001b[1;33m(\u001b[0m\u001b[0mmsg\u001b[0m\u001b[1;33m)\u001b[0m\u001b[1;33m\u001b[0m\u001b[1;33m\u001b[0m\u001b[0m\n\u001b[0m\u001b[0;32m    793\u001b[0m             \u001b[1;32mexcept\u001b[0m \u001b[0mStaleElementReferenceException\u001b[0m\u001b[1;33m:\u001b[0m\u001b[1;33m\u001b[0m\u001b[1;33m\u001b[0m\u001b[0m\n\u001b[0;32m    794\u001b[0m                 \u001b[0mself\u001b[0m\u001b[1;33m.\u001b[0m\u001b[0mreset\u001b[0m\u001b[1;33m(\u001b[0m\u001b[1;33m)\u001b[0m\u001b[1;33m\u001b[0m\u001b[1;33m\u001b[0m\u001b[0m\n",
      "\u001b[1;31mUnknownObjectException\u001b[0m: timed out after 10 seconds, waiting for #<HTMLElement: located: False; {'data_sigil': 'logout', 'index': 0}> to be located"
     ]
    }
   ],
   "source": []
  },
  {
   "cell_type": "code",
   "execution_count": null,
   "metadata": {},
   "outputs": [],
   "source": [
    "os.environ[\"FB_2FA_CODE\"]='210468'"
   ]
  },
  {
   "cell_type": "code",
   "execution_count": 45,
   "metadata": {},
   "outputs": [
    {
     "data": {
      "text/plain": [
       "{'user': 'class_name=\"_4kk6\"'}"
      ]
     },
     "execution_count": 45,
     "metadata": {},
     "output_type": "execute_result"
    }
   ],
   "source": [
    "\"Loging\"\n",
    "tag=yaml.safe_load(\"\"\"\n",
    "user: class_name=\"_4kk6\"\n",
    "\"\"\")\n",
    "tag"
   ]
  },
  {
   "cell_type": "code",
   "execution_count": 46,
   "metadata": {},
   "outputs": [
    {
     "ename": "TypeError",
     "evalue": "expected string or bytes-like object",
     "output_type": "error",
     "traceback": [
      "\u001b[1;31m---------------------------------------------------------------------------\u001b[0m",
      "\u001b[1;31mTypeError\u001b[0m                                 Traceback (most recent call last)",
      "\u001b[1;32m<ipython-input-46-5c9193d51544>\u001b[0m in \u001b[0;36m<module>\u001b[1;34m\u001b[0m\n\u001b[0;32m     39\u001b[0m \u001b[1;31m# [x.text[:20] for x in b.articles()]\u001b[0m\u001b[1;33m\u001b[0m\u001b[1;33m\u001b[0m\u001b[1;33m\u001b[0m\u001b[0m\n\u001b[0;32m     40\u001b[0m \u001b[1;32mimport\u001b[0m \u001b[0mpandas\u001b[0m \u001b[1;32mas\u001b[0m \u001b[0mpd\u001b[0m\u001b[1;33m\u001b[0m\u001b[1;33m\u001b[0m\u001b[0m\n\u001b[1;32m---> 41\u001b[1;33m \u001b[0mpd\u001b[0m\u001b[1;33m.\u001b[0m\u001b[0mDataFrame\u001b[0m\u001b[1;33m(\u001b[0m\u001b[1;33m[\u001b[0m\u001b[0mgetPostInfo\u001b[0m\u001b[1;33m(\u001b[0m\u001b[0mx\u001b[0m\u001b[1;33m)\u001b[0m \u001b[1;32mfor\u001b[0m \u001b[0mx\u001b[0m \u001b[1;32min\u001b[0m \u001b[0mb\u001b[0m\u001b[1;33m.\u001b[0m\u001b[0marticles\u001b[0m\u001b[1;33m(\u001b[0m\u001b[1;33m)\u001b[0m\u001b[1;33m]\u001b[0m\u001b[1;33m)\u001b[0m\u001b[1;33m.\u001b[0m\u001b[0mstyle\u001b[0m\u001b[1;33m.\u001b[0m\u001b[0mformat\u001b[0m\u001b[1;33m(\u001b[0m\u001b[0mna_rep\u001b[0m\u001b[1;33m=\u001b[0m\u001b[1;34m'-'\u001b[0m\u001b[1;33m)\u001b[0m\u001b[1;33m\u001b[0m\u001b[1;33m\u001b[0m\u001b[0m\n\u001b[0m",
      "\u001b[1;32m<ipython-input-46-5c9193d51544>\u001b[0m in \u001b[0;36m<listcomp>\u001b[1;34m(.0)\u001b[0m\n\u001b[0;32m     39\u001b[0m \u001b[1;31m# [x.text[:20] for x in b.articles()]\u001b[0m\u001b[1;33m\u001b[0m\u001b[1;33m\u001b[0m\u001b[1;33m\u001b[0m\u001b[0m\n\u001b[0;32m     40\u001b[0m \u001b[1;32mimport\u001b[0m \u001b[0mpandas\u001b[0m \u001b[1;32mas\u001b[0m \u001b[0mpd\u001b[0m\u001b[1;33m\u001b[0m\u001b[1;33m\u001b[0m\u001b[0m\n\u001b[1;32m---> 41\u001b[1;33m \u001b[0mpd\u001b[0m\u001b[1;33m.\u001b[0m\u001b[0mDataFrame\u001b[0m\u001b[1;33m(\u001b[0m\u001b[1;33m[\u001b[0m\u001b[0mgetPostInfo\u001b[0m\u001b[1;33m(\u001b[0m\u001b[0mx\u001b[0m\u001b[1;33m)\u001b[0m \u001b[1;32mfor\u001b[0m \u001b[0mx\u001b[0m \u001b[1;32min\u001b[0m \u001b[0mb\u001b[0m\u001b[1;33m.\u001b[0m\u001b[0marticles\u001b[0m\u001b[1;33m(\u001b[0m\u001b[1;33m)\u001b[0m\u001b[1;33m]\u001b[0m\u001b[1;33m)\u001b[0m\u001b[1;33m.\u001b[0m\u001b[0mstyle\u001b[0m\u001b[1;33m.\u001b[0m\u001b[0mformat\u001b[0m\u001b[1;33m(\u001b[0m\u001b[0mna_rep\u001b[0m\u001b[1;33m=\u001b[0m\u001b[1;34m'-'\u001b[0m\u001b[1;33m)\u001b[0m\u001b[1;33m\u001b[0m\u001b[1;33m\u001b[0m\u001b[0m\n\u001b[0m",
      "\u001b[1;32m<ipython-input-46-5c9193d51544>\u001b[0m in \u001b[0;36mgetPostInfo\u001b[1;34m(x)\u001b[0m\n\u001b[0;32m     28\u001b[0m         \u001b[0mel\u001b[0m\u001b[1;33m[\u001b[0m\u001b[1;34m'comments'\u001b[0m\u001b[1;33m]\u001b[0m\u001b[1;33m=\u001b[0m\u001b[0mutils\u001b[0m\u001b[1;33m.\u001b[0m\u001b[0mgetAttrsIfExists\u001b[0m\u001b[1;33m(\u001b[0m\u001b[0m_el2\u001b[0m\u001b[1;33m.\u001b[0m\u001b[0melement\u001b[0m\u001b[1;33m(\u001b[0m\u001b[0mclass_name\u001b[0m\u001b[1;33m=\u001b[0m\u001b[1;34m'_1j-c'\u001b[0m\u001b[1;33m)\u001b[0m\u001b[1;33m,\u001b[0m\u001b[1;33m[\u001b[0m\u001b[1;34m'text'\u001b[0m\u001b[1;33m]\u001b[0m\u001b[1;33m)\u001b[0m\u001b[1;33m\u001b[0m\u001b[1;33m\u001b[0m\u001b[0m\n\u001b[0;32m     29\u001b[0m         el['url']=re.split(r\"[\\&\\?]refid=\",\n\u001b[1;32m---> 30\u001b[1;33m                            utils.getAttrsIfExists(_el2.link(data_sigil=\"feed-ufi-trigger\"),['href']))[0]\n\u001b[0m\u001b[0;32m     31\u001b[0m             \u001b[1;31m# data_sigil=\"comments-token\").text\u001b[0m\u001b[1;33m\u001b[0m\u001b[1;33m\u001b[0m\u001b[1;33m\u001b[0m\u001b[0m\n\u001b[0;32m     32\u001b[0m         \u001b[1;31m# for _el3 in _el2.element(data_gt='{\"tn\":\"C\"}').links(class_name=\"_4kk6\"):\u001b[0m\u001b[1;33m\u001b[0m\u001b[1;33m\u001b[0m\u001b[1;33m\u001b[0m\u001b[0m\n",
      "\u001b[1;32mc:\\sw\\python37\\lib\\re.py\u001b[0m in \u001b[0;36msplit\u001b[1;34m(pattern, string, maxsplit, flags)\u001b[0m\n\u001b[0;32m    211\u001b[0m     \u001b[1;32mand\u001b[0m \u001b[0mthe\u001b[0m \u001b[0mremainder\u001b[0m \u001b[0mof\u001b[0m \u001b[0mthe\u001b[0m \u001b[0mstring\u001b[0m \u001b[1;32mis\u001b[0m \u001b[0mreturned\u001b[0m \u001b[1;32mas\u001b[0m \u001b[0mthe\u001b[0m \u001b[0mfinal\u001b[0m \u001b[0melement\u001b[0m\u001b[1;33m\u001b[0m\u001b[1;33m\u001b[0m\u001b[0m\n\u001b[0;32m    212\u001b[0m     of the list.\"\"\"\n\u001b[1;32m--> 213\u001b[1;33m     \u001b[1;32mreturn\u001b[0m \u001b[0m_compile\u001b[0m\u001b[1;33m(\u001b[0m\u001b[0mpattern\u001b[0m\u001b[1;33m,\u001b[0m \u001b[0mflags\u001b[0m\u001b[1;33m)\u001b[0m\u001b[1;33m.\u001b[0m\u001b[0msplit\u001b[0m\u001b[1;33m(\u001b[0m\u001b[0mstring\u001b[0m\u001b[1;33m,\u001b[0m \u001b[0mmaxsplit\u001b[0m\u001b[1;33m)\u001b[0m\u001b[1;33m\u001b[0m\u001b[1;33m\u001b[0m\u001b[0m\n\u001b[0m\u001b[0;32m    214\u001b[0m \u001b[1;33m\u001b[0m\u001b[0m\n\u001b[0;32m    215\u001b[0m \u001b[1;32mdef\u001b[0m \u001b[0mfindall\u001b[0m\u001b[1;33m(\u001b[0m\u001b[0mpattern\u001b[0m\u001b[1;33m,\u001b[0m \u001b[0mstring\u001b[0m\u001b[1;33m,\u001b[0m \u001b[0mflags\u001b[0m\u001b[1;33m=\u001b[0m\u001b[1;36m0\u001b[0m\u001b[1;33m)\u001b[0m\u001b[1;33m:\u001b[0m\u001b[1;33m\u001b[0m\u001b[1;33m\u001b[0m\u001b[0m\n",
      "\u001b[1;31mTypeError\u001b[0m: expected string or bytes-like object"
     ]
    }
   ],
   "source": [
    "import json\n",
    "def getPostInfo(x):\n",
    "    el={}\n",
    "    data_ft=json.loads(x.data_ft)\n",
    "    \n",
    "    for _a in ['pos','is_sponsored','top_level_post_id','content_owner_id_new','page_id','photo_id']:\n",
    "        if _a in data_ft:\n",
    "            el[_a]=data_ft[_a]\n",
    "    el['key']=x.data_dedupekey\n",
    "    # el['hdrs']=len(x.headers())\n",
    "    # el['ftrs']=len(x.footers())    \n",
    "    for _el1 in x.divs(class_name=\"story_body_container\"):\n",
    "        # header first line\n",
    "        for _el2 in _el1.headers():\n",
    "            for _el3 in _el2.element(data_gt='{\"tn\":\"C\"}').links(class_name=\"_4kk6\"):\n",
    "                el['usr']=_el3.text[:60]\n",
    "                el['usrUrl']=re.split(r\"[\\&\\?]refid=\",_el3.href)[0]\n",
    "                # break\n",
    "            # header second line\n",
    "            #links(class_name=\"_26yo\"):\n",
    "            el['line2']=utils.getAttrsIfExists(_el2.abbr(),['text'])\n",
    "            el['text'] =utils.getAttrsIfExists(_el2.following_sibling(),['text'])\n",
    "\n",
    "    for _el2 in x.footers():\n",
    "        # print(_el2)\n",
    "        #footer status first line\n",
    "        el['likes']=utils.getAttrsIfExists(_el2.div(class_name=\"_1g06\"),['text'])\n",
    "        el['comments']=utils.getAttrsIfExists(_el2.element(class_name='_1j-c'),['text'])\n",
    "        el['url']=re.split(r\"[\\&\\?]refid=\",\n",
    "                           utils.getAttrsIfExists(_el2.link(data_sigil=\"feed-ufi-trigger\"),['href']))[0]\n",
    "            # data_sigil=\"comments-token\").text\n",
    "        # for _el3 in _el2.element(data_gt='{\"tn\":\"C\"}').links(class_name=\"_4kk6\"):\n",
    "        #     el['usr']=_el3.text[:60]\n",
    "        #     el['usrUrl']=re.split(r\"[\\&\\?]refid=\",_el3.href)[0]\n",
    "        #     break\n",
    "        #footer action bar second  line\n",
    "    return el\n",
    "\n",
    "# [x.text[:20] for x in b.articles()]\n",
    "import pandas as pd\n",
    "pd.DataFrame([getPostInfo(x) for x in b.articles()]).style.format(na_rep='-')"
   ]
  },
  {
   "cell_type": "code",
   "execution_count": null,
   "metadata": {
    "tags": []
   },
   "outputs": [],
   "source": [
    "# fb.login(\"pcmcrunners_fb\")"
   ]
  },
  {
   "cell_type": "code",
   "execution_count": null,
   "metadata": {},
   "outputs": [],
   "source": [
    "for x in b.elements(data_sigil= 'touchable ufi-inline-like like-reaction-flyout'.split())[:1]:\n",
    "# for x in b.elements(class_name=\"_15ko\")[:1]:\n",
    "    x.click()\n",
    "    print(x.attributes)"
   ]
  },
  {
   "cell_type": "code",
   "execution_count": null,
   "metadata": {
    "tags": []
   },
   "outputs": [],
   "source": [
    "\"logout\"\n"
   ]
  },
  {
   "cell_type": "code",
   "execution_count": null,
   "metadata": {},
   "outputs": [],
   "source": [
    "li.scrolldown(9)"
   ]
  },
  {
   "cell_type": "code",
   "execution_count": null,
   "metadata": {
    "tags": []
   },
   "outputs": [],
   "source": [
    "importlib.reload(socialmediasite )\n",
    "import socialmediasite\n",
    "\n",
    "li=Linkedin(b,authFile=f'{AUTH}/auth.yaml')\n",
    "utils.setLogger(f\"{LOG}/strava-automation.log\")\n",
    "\n",
    "import pandas as pd\n",
    "# .div(class_name='scaffold-finite-scroll').\n",
    "nerodia.default_timeout=.1\n",
    "\n",
    "def getPostData(postTag):\n",
    "  \"Return data regarding one post in linkedin feed\"\n",
    "  post={}\n",
    "  if not postTag.exists:\n",
    "    return\n",
    "  _map={\n",
    "      'post':'postTag.parent().element(class_name=\"visually-hidden\").text',\n",
    "      'urn':'postTag.attributes[\"data_urn\"]',\n",
    "      'name':'postTag.element(class_name=\"feed-shared-actor__name\").text',\n",
    "      'userUrl':'postTag.link(class_name=\"feed-shared-actor__container-link\").href',\n",
    "      'likes':'postTag.element(class_name=\"social-details-social-counts__reactions-count\").text',\n",
    "        # len('.div(class_name='feed-shared-social-actions').buttons(text='Like'))',\n",
    "          # 'react-button--active' in 'react-button__text--like' in \n",
    "      'liked':'\"react-button--active\" in postTag.div(class_name=\"feed-shared-social-actions\").button(text=\"Like\").class_name',\n",
    "      # print(name','.element(class_name='feed-shared-social-actions'\n",
    "      #                                                            ).button(text='Like').class_name)\n",
    "      'text':'postTag.element(class_name=\"feed-shared-update-v2__commentary\").text',\n",
    "      'desc':'postTag.element(class_name=\"feed-shared-actor__description\").text',\n",
    "      'subdesc':'postTag.element(class_name=\"feed-shared-actor__sub-description\").text',\n",
    "      # if post['subdesc'] not in ['Promoted']:\n",
    "      'deg':'postTag.span(class_name=\"feed-shared-actor__supplementary-actor-info\").text',\n",
    "  }\n",
    "\n",
    "  for _v,_e in _map.items():\n",
    "    try:\n",
    "        _m = re.search(r'.*(postTag\\..*\\))',_e)\n",
    "        if _m:\n",
    "            if eval(_m.group(1)+\".exists\"):\n",
    "                post[_v]=eval(_e,{\"postTag\":postTag})\n",
    "    except Exception as e:\n",
    "        pass\n",
    "        print(f\"error {e!r} {_v} {_e}\")\n",
    "    \n",
    "    if 'text' in post : post['text']=post['text'][:40]\n",
    "    if 'userUrl' in post : post['userUrl']=post['userUrl'].split(\"?\")[0]\n",
    "    # post['liked']='react-button--active' in postTag.div(class_name='feed-shared-social-actions'\n",
    "    #                                                          ).button(text='Like').class_name\n",
    "\n",
    "  return post    \n",
    "\n",
    "def getPostIds():\n",
    "  \"Get list of all feed posts\"\n",
    "  nerodia.default_timeout=.1\n",
    "  posts=[]\n",
    "\n",
    "  for x in b.elements(class_name='feed-shared-update-v2',\n",
    "                      ):#data_id=re.compile(\"urn:li:activity:\")):\n",
    "    if re.match(r\"^urn:li:activity:\",x.data_urn):\n",
    "        try:\n",
    "            post=getPostData(x)\n",
    "            post.update({'el':x})\n",
    "            posts.append( post)\n",
    "        except Exception as e:\n",
    "          # Logs the error appropriately. \n",
    "            print(f\">>{e!r}\")\n",
    "\n",
    "  return posts\n",
    "\n",
    "posts = getPostIds() #li.\n",
    "\n",
    "\n",
    "# posts=[]\n",
    "\n",
    "# i=0\n",
    "# for x in b.elements(class_name='feed-shared-update-v2',\n",
    "#                     data_urn=re.compile(\"urn:li:activity:\"),\n",
    "#                    ):#data_id=re.compile(\"urn:li:activity:\")):\n",
    "#     # print (\">>>\",x.link(class_name=\"feed-shared-actor__container-link\").href)\n",
    "#     try:\n",
    "#         print(x.h2(class_name=\"visually-hidden\").text)\n",
    "#         post=li.getPostData(x)\n",
    "#         posts.append(post)\n",
    "#     except Exception as e:\n",
    "#         print(f\"Error: {e!r}\")\n",
    "    # if i>3: \n",
    "    #     break\n",
    "    # else:\n",
    "    #     i+=1\n",
    "# display (pd.DataFrame(posts))"
   ]
  },
  {
   "cell_type": "code",
   "execution_count": null,
   "metadata": {},
   "outputs": [],
   "source": [
    "\"list posts\"\n",
    "display (pd.DataFrame(posts)[['name','deg','text','liked']].style)"
   ]
  },
  {
   "cell_type": "code",
   "execution_count": null,
   "metadata": {},
   "outputs": [],
   "source": [
    "for p in posts:\n",
    "    if ('deg' in p and \n",
    "        (p['deg']=='• 1st')):\n",
    "        p['text']=p['text'] if 'text' in p else ''\n",
    "        if(not p['liked']):\n",
    "            _likeButton=p['el'].div(class_name='feed-shared-social-actions'\n",
    "                                  ).button(text='Like')\n",
    "            if _likeButton.exists:  \n",
    "                logging.info(f\"Liking {p['name']} {p['text'][:30]}\")\n",
    "                try:\n",
    "                    # _likeButton.click()\n",
    "                    _likeButton.execute_script(\"arguments[0].click();\", _likeButton)\n",
    "                except Exception as e:\n",
    "                  # Logs the error appropriately. \n",
    "                    print(f\">>{e!r}\")\n",
    "        else:\n",
    "            logging.warning(f\"already liked {p['name']} {p['text'][:30]}\")\n",
    "    else:\n",
    "        logging.warning(f\"not 1st connection {p['name']}\")\n"
   ]
  },
  {
   "cell_type": "code",
   "execution_count": null,
   "metadata": {},
   "outputs": [],
   "source": [
    "\"logout\"\n",
    "# li.logout()"
   ]
  },
  {
   "cell_type": "markdown",
   "metadata": {},
   "source": [
    "# test linkedin"
   ]
  },
  {
   "cell_type": "code",
   "execution_count": null,
   "metadata": {
    "colab": {
     "base_uri": "https://localhost:8080/",
     "height": 617
    },
    "id": "NPK6lThqxhpy",
    "outputId": "0e420a50-9bee-454b-df4b-e2477215078e"
   },
   "outputs": [],
   "source": [
    "\n",
    "Image(b.screenshot.png())"
   ]
  },
  {
   "cell_type": "markdown",
   "metadata": {
    "id": "d9OAqFDV1nRY"
   },
   "source": [
    "## A. Give likes in feed"
   ]
  }
 ],
 "metadata": {
  "colab": {
   "include_colab_link": true,
   "name": "strava likers.ipynb",
   "provenance": []
  },
  "gpuClass": "standard",
  "kernelspec": {
   "display_name": "Python 3",
   "language": "python",
   "name": "python3"
  },
  "language_info": {
   "codemirror_mode": {
    "name": "ipython",
    "version": 3
   },
   "file_extension": ".py",
   "mimetype": "text/x-python",
   "name": "python",
   "nbconvert_exporter": "python",
   "pygments_lexer": "ipython3",
   "version": "3.7.7"
  }
 },
 "nbformat": 4,
 "nbformat_minor": 4
}
