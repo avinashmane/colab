{
 "cells": [
  {
   "cell_type": "markdown",
   "metadata": {
    "colab_type": "text",
    "id": "view-in-github"
   },
   "source": [
    "<a href=\"https://colab.research.google.com/github/avinashmane/colab/blob/master/strava_likers.ipynb\" target=\"_parent\"><img src=\"https://colab.research.google.com/assets/colab-badge.svg\" alt=\"Open In Colab\"/></a>"
   ]
  },
  {
   "cell_type": "markdown",
   "metadata": {
    "id": "p_L68hXNqV25"
   },
   "source": [
    "# Setup Code/Parameters\n",
    "* Setup\n",
    "    * needs\n",
    "        * auth\n",
    "        * gsheet auth\n",
    "        * cfg_strava\n",
    "* updates sheets\n",
    "* Todo\n",
    "    * low: error: location not found "
   ]
  },
  {
   "cell_type": "markdown",
   "metadata": {
    "id": "D_qrPWP6bfeb"
   },
   "source": [
    "## Config"
   ]
  },
  {
   "cell_type": "code",
   "execution_count": 1,
   "metadata": {
    "id": "S_YFZ5N9qPvu"
   },
   "outputs": [],
   "source": [
    "repo='https://github.com/avinashmane/colab.git'\n",
    "import os,sys\n",
    "if os.name=='nt':\n",
    "    LIB= r'c:\\m\\lib'\n",
    "    LOG= r'c:\\m\\social-media-automation'\n",
    "    AUTH= r'c:\\i\\auth'\n",
    "    sys.path.append(\"./lib\")\n",
    "else:\n",
    "    if not os.path.exists('drive'):\n",
    "        from google.colab import drive\n",
    "        drive.mount('/content/drive')\n",
    "    LIB='/content/drive/MyDrive/m/lib'\n",
    "    LOG='/content/drive/MyDrive/m/lib'\n",
    "    AUTH='/content/drive/MyDrive/m/auth'\n",
    "    if not os.path.exists('m'):\n",
    "      !ln -sd '/content/drive/MyDrive/m/' m\n",
    "    if not os.path.exists('repo'):\n",
    "      !git clone $repo repo\n",
    "    sys.path.append('repo')\n",
    "    sys.path.append(\"repo/lib\")\n",
    "sys.path.append(LIB)\n"
   ]
  },
  {
   "cell_type": "code",
   "execution_count": 2,
   "metadata": {
    "colab": {
     "base_uri": "https://localhost:8080/"
    },
    "id": "fK2kPK8spfvL",
    "outputId": "9d38be71-adb0-4dc4-c8d0-0d98af2b505a",
    "tags": []
   },
   "outputs": [
    {
     "data": {
      "text/plain": [
       "'Environment setup'"
      ]
     },
     "execution_count": 2,
     "metadata": {},
     "output_type": "execute_result"
    }
   ],
   "source": [
    "import yaml\n",
    "cfg=yaml.load(u\"\"\"\n",
    "repo:\n",
    "    https://github.com/avinashmane/colab.git\n",
    "packages: \n",
    "- chromium-chromedriver\n",
    "modules:\n",
    "- nerodia\n",
    "- pygsheets\n",
    "env:\n",
    "    nt:\n",
    "        LIB: c:/m/lib\n",
    "        LOG: c:/m/social-media-automation\n",
    "        AUTH: c:/i/auth\n",
    "    posix:\n",
    "        LIB: /content/drive/MyDrive/m/lib\n",
    "        LOG: /content/drive/MyDrive/m/lib\n",
    "        AUTH: /content/drive/MyDrive/m/auth\n",
    "sheets:\n",
    "    stravasync:\n",
    "        url: https://docs.google.com/spreadsheets/d/1Q8SA641P0aytWzPGmeHG_xuxll3Wq6phsxjb91RjgWY/edit#gid=0\n",
    "        tab: Members\n",
    "        range: A10:O\n",
    "    StravaPromoLog:\n",
    "        url: https://docs.google.com/spreadsheets/d/1Q8SA641P0aytWzPGmeHG_xuxll3Wq6phsxjb91RjgWY/edit#gid=0\n",
    "        tab: StravaPromoLog\n",
    "        \n",
    "\"\"\",Loader=yaml.Loader)\n",
    "for x in cfg['env'][os.name]: \n",
    "    os.environ[x]=eval(x)\n",
    "\n",
    "import importlib\n",
    "import utils\n",
    "importlib.reload(utils)\n",
    "utils.setup_env(cfg['packages'],cfg['modules'])"
   ]
  },
  {
   "cell_type": "markdown",
   "metadata": {
    "id": "BojXrnpzt_aL",
    "tags": []
   },
   "source": [
    "## Code"
   ]
  },
  {
   "cell_type": "code",
   "execution_count": 3,
   "metadata": {
    "id": "_0JoVWhRuDAe",
    "tags": []
   },
   "outputs": [],
   "source": [
    "import yaml\n",
    "from datetime import datetime\n",
    "import os\n",
    "from nerodia.browser import Browser\n",
    "import nerodia\n",
    "import re\n",
    "import logging\n",
    "from IPython.display import Image\n",
    "\n",
    "import utils\n",
    "\n",
    "import socialmediasite \n",
    "importlib.reload(socialmediasite)\n",
    "Facebook=socialmediasite.Facebook"
   ]
  },
  {
   "cell_type": "markdown",
   "metadata": {
    "id": "yT65-kQZuU0h"
   },
   "source": [
    "# Process\n",
    "## Create headless"
   ]
  },
  {
   "cell_type": "code",
   "execution_count": 4,
   "metadata": {
    "colab": {
     "base_uri": "https://localhost:8080/"
    },
    "id": "isFE6a2SpeG_",
    "outputId": "d6f2ecf0-894f-4bc4-f522-ea4ca94881e1",
    "tags": []
   },
   "outputs": [
    {
     "name": "stderr",
     "output_type": "stream",
     "text": [
      "2022-08-20 23:57:09:INFO:Logger file: c:\\m\\social-media-automation/strava-automation.log\n"
     ]
    }
   ],
   "source": [
    "\" Test Selenium headless\"\n",
    "if True:#'b' in globals():\n",
    "    if os.name=='nt':\n",
    "        b=Browser('chrome',)\n",
    "    else:\n",
    "        \n",
    "        # import sys\n",
    "        # sys.path.insert(0,f'{DIR}/geckodriver')\n",
    "        from selenium import webdriver\n",
    "\n",
    "        chrome_options = webdriver.ChromeOptions()\n",
    "        chrome_options.add_argument('--headless')\n",
    "        chrome_options.add_argument('--no-sandbox')\n",
    "        chrome_options.add_argument('--disable-dev-shm-usage')\n",
    "        # b =webdriver.Chrome('chromedriver',options=chrome_options)\n",
    "        b=Browser('chrome',options=chrome_options,)\n",
    "    \n",
    "    utils.setLogger(f\"{LOG}/strava-automation.log\")\n",
    "    "
   ]
  },
  {
   "cell_type": "code",
   "execution_count": 5,
   "metadata": {},
   "outputs": [],
   "source": [
    "# %debug\n",
    "# if os.name=='nt':\n",
    "nerodia.default_timeout=3\n",
    "fb=Facebook(b,authFile=f'{AUTH}/auth.yaml')\n"
   ]
  },
  {
   "cell_type": "code",
   "execution_count": 6,
   "metadata": {
    "tags": []
   },
   "outputs": [],
   "source": [
    "for _el in b.inputs(name='uid'):#(text='Log in to another account'):\n",
    "    # _el.click()\n",
    "    print(_el.attributes)"
   ]
  },
  {
   "cell_type": "code",
   "execution_count": 66,
   "metadata": {},
   "outputs": [],
   "source": [
    "b.goto('m.facebook.com')\n",
    "username=\"avinash\"\n",
    "b.cookies.load(f'{LIB}/facebook_{username}.cookies')\n",
    "# b.cookies.clear()"
   ]
  },
  {
   "cell_type": "code",
   "execution_count": 58,
   "metadata": {
    "tags": []
   },
   "outputs": [
    {
     "name": "stderr",
     "output_type": "stream",
     "text": [
      "2022-08-21 00:41:23:INFO:Login saved\n"
     ]
    }
   ],
   "source": [
    "def login():\n",
    "    # user id selection\n",
    "    for _el in b.inputs(name='uid'):\n",
    "        logging.info(\"Login saved\")\n",
    "        _el.parent(tag_name='form').submit()\n",
    "        b.input(name=\"pass\").send_keys(\"Imfr0mk0p\")\n",
    "        b.button(value=\"Log In\").click()\n",
    "        break\n",
    "    else:  # start from user id\n",
    "        logging.info(\"Login not saved..entering email\")\n",
    "        b.input(id=\"m_login_email\").send_keys(\"avinashmane@yahoo.com\")\n",
    "\n",
    "        b.input(id=\"m_login_password\").send_keys(\"Imfr0mk0p\")\n",
    "        # b.button(name=\"login\").send_keys(Keys.ENTER)\n",
    "        #alternately \n",
    "        b.button(name=\"login\").click()"
   ]
  },
  {
   "cell_type": "code",
   "execution_count": 59,
   "metadata": {
    "tags": []
   },
   "outputs": [
    {
     "data": {
      "text/plain": [
       "'http://m.facebook.com'"
      ]
     },
     "execution_count": 59,
     "metadata": {},
     "output_type": "execute_result"
    }
   ],
   "source": [
    "b.goto('m.facebook.com')"
   ]
  },
  {
   "cell_type": "code",
   "execution_count": 60,
   "metadata": {},
   "outputs": [],
   "source": [
    "username=\"avinash\"\n",
    "b.cookies.save(f'{LIB}/facebook_{username}.cookies')\n"
   ]
  },
  {
   "cell_type": "code",
   "execution_count": 61,
   "metadata": {},
   "outputs": [],
   "source": [
    "os.environ[\"FB_2FA_CODE\"]='210468'"
   ]
  },
  {
   "cell_type": "code",
   "execution_count": 62,
   "metadata": {},
   "outputs": [
    {
     "data": {
      "text/plain": [
       "{'user': 'class_name=\"_4kk6\"'}"
      ]
     },
     "execution_count": 62,
     "metadata": {},
     "output_type": "execute_result"
    }
   ],
   "source": [
    "\"Loging\"\n",
    "tag=yaml.safe_load(\"\"\"\n",
    "user: class_name=\"_4kk6\"\n",
    "\"\"\")\n",
    "tag"
   ]
  },
  {
   "cell_type": "code",
   "execution_count": 68,
   "metadata": {},
   "outputs": [
    {
     "data": {
      "text/html": [
       "<style type=\"text/css\">\n",
       "</style>\n",
       "<table id=\"T_43d0e_\">\n",
       "  <thead>\n",
       "    <tr>\n",
       "      <th class=\"blank level0\" >&nbsp;</th>\n",
       "      <th class=\"col_heading level0 col0\" >pos</th>\n",
       "      <th class=\"col_heading level0 col1\" >top_level_post_id</th>\n",
       "      <th class=\"col_heading level0 col2\" >content_owner_id_new</th>\n",
       "      <th class=\"col_heading level0 col3\" >key</th>\n",
       "      <th class=\"col_heading level0 col4\" >usr</th>\n",
       "      <th class=\"col_heading level0 col5\" >usrUrl</th>\n",
       "      <th class=\"col_heading level0 col6\" >line2</th>\n",
       "      <th class=\"col_heading level0 col7\" >text</th>\n",
       "      <th class=\"col_heading level0 col8\" >likes</th>\n",
       "      <th class=\"col_heading level0 col9\" >comments</th>\n",
       "      <th class=\"col_heading level0 col10\" >url</th>\n",
       "      <th class=\"col_heading level0 col11\" >photo_id</th>\n",
       "      <th class=\"col_heading level0 col12\" >is_sponsored</th>\n",
       "      <th class=\"col_heading level0 col13\" >page_id</th>\n",
       "    </tr>\n",
       "  </thead>\n",
       "  <tbody>\n",
       "    <tr>\n",
       "      <th id=\"T_43d0e_level0_row0\" class=\"row_heading level0 row0\" >0</th>\n",
       "      <td id=\"T_43d0e_row0_col0\" class=\"data row0 col0\" >1</td>\n",
       "      <td id=\"T_43d0e_row0_col1\" class=\"data row0 col1\" >3535007726785912</td>\n",
       "      <td id=\"T_43d0e_row0_col2\" class=\"data row0 col2\" >100008301576404</td>\n",
       "      <td id=\"T_43d0e_row0_col3\" class=\"data row0 col3\" >-473795450346053381</td>\n",
       "      <td id=\"T_43d0e_row0_col4\" class=\"data row0 col4\" >Ronnie Frostig</td>\n",
       "      <td id=\"T_43d0e_row0_col5\" class=\"data row0 col5\" >https://m.facebook.com/ronnie.frostig</td>\n",
       "      <td id=\"T_43d0e_row0_col6\" class=\"data row0 col6\" >6 hrs</td>\n",
       "      <td id=\"T_43d0e_row0_col7\" class=\"data row0 col7\" >Thank you very much for the beautiful messages and warm wishes and making my 23 years at Publx Supermarket extra special. And also making me feel special and loved. Kindly accept my deepest appreciation to thank you for being so thoughtful and sweet. Thank you for all your love and support, and I couldn't have done it without you. It seems like yesterday that I started this journey. Thank you for keeping me in your heart and being such a big part of this journey.</td>\n",
       "      <td id=\"T_43d0e_row0_col8\" class=\"data row0 col8\" >Sandy Gage and 61 others</td>\n",
       "      <td id=\"T_43d0e_row0_col9\" class=\"data row0 col9\" >9 comments</td>\n",
       "      <td id=\"T_43d0e_row0_col10\" class=\"data row0 col10\" >https://m.facebook.com/story.php?story_fbid=pfbid029ebvBHteFq9mL3vb6dLVG5qcub1amwqcTe161mdLdTWrq2qv7hs4J23jdh1uZwjGl&id=100008301576404&m_entstream_source=feed_mobile&anchor_reactions=true</td>\n",
       "      <td id=\"T_43d0e_row0_col11\" class=\"data row0 col11\" >-</td>\n",
       "      <td id=\"T_43d0e_row0_col12\" class=\"data row0 col12\" >-</td>\n",
       "      <td id=\"T_43d0e_row0_col13\" class=\"data row0 col13\" >-</td>\n",
       "    </tr>\n",
       "    <tr>\n",
       "      <th id=\"T_43d0e_level0_row1\" class=\"row_heading level0 row1\" >1</th>\n",
       "      <td id=\"T_43d0e_row1_col0\" class=\"data row1 col0\" >2</td>\n",
       "      <td id=\"T_43d0e_row1_col1\" class=\"data row1 col1\" >6115868455095880</td>\n",
       "      <td id=\"T_43d0e_row1_col2\" class=\"data row1 col2\" >100000183588400</td>\n",
       "      <td id=\"T_43d0e_row1_col3\" class=\"data row1 col3\" >-6158138528076713575</td>\n",
       "      <td id=\"T_43d0e_row1_col4\" class=\"data row1 col4\" >Sandeep Raghunath Tilekar</td>\n",
       "      <td id=\"T_43d0e_row1_col5\" class=\"data row1 col5\" >https://m.facebook.com/Sandeep.R.Tilekar</td>\n",
       "      <td id=\"T_43d0e_row1_col6\" class=\"data row1 col6\" >15 hrs</td>\n",
       "      <td id=\"T_43d0e_row1_col7\" class=\"data row1 col7\" >Enjoying my fitness journey</td>\n",
       "      <td id=\"T_43d0e_row1_col8\" class=\"data row1 col8\" >Geo Thomas and 27 others</td>\n",
       "      <td id=\"T_43d0e_row1_col9\" class=\"data row1 col9\" >12 comments</td>\n",
       "      <td id=\"T_43d0e_row1_col10\" class=\"data row1 col10\" >https://m.facebook.com/story.php?story_fbid=pfbid027sZp3c58zPk1eH6thb7hNk5pg7KE77ohp2Tp1u1W3imDQaPQCxJYo4m1kivM5Cbl&id=100000183588400&m_entstream_source=feed_mobile&anchor_reactions=true</td>\n",
       "      <td id=\"T_43d0e_row1_col11\" class=\"data row1 col11\" >6115868381762554</td>\n",
       "      <td id=\"T_43d0e_row1_col12\" class=\"data row1 col12\" >-</td>\n",
       "      <td id=\"T_43d0e_row1_col13\" class=\"data row1 col13\" >-</td>\n",
       "    </tr>\n",
       "    <tr>\n",
       "      <th id=\"T_43d0e_level0_row2\" class=\"row_heading level0 row2\" >2</th>\n",
       "      <td id=\"T_43d0e_row2_col0\" class=\"data row2 col0\" >3</td>\n",
       "      <td id=\"T_43d0e_row2_col1\" class=\"data row2 col1\" >1746697602342636</td>\n",
       "      <td id=\"T_43d0e_row2_col2\" class=\"data row2 col2\" >210192189326526</td>\n",
       "      <td id=\"T_43d0e_row2_col3\" class=\"data row2 col3\" >-3606512130794509183</td>\n",
       "      <td id=\"T_43d0e_row2_col4\" class=\"data row2 col4\" >-</td>\n",
       "      <td id=\"T_43d0e_row2_col5\" class=\"data row2 col5\" >-</td>\n",
       "      <td id=\"T_43d0e_row2_col6\" class=\"data row2 col6\" >-</td>\n",
       "      <td id=\"T_43d0e_row2_col7\" class=\"data row2 col7\" >Download Our Ultimate Guide To Site Speed.</td>\n",
       "      <td id=\"T_43d0e_row2_col8\" class=\"data row2 col8\" >591</td>\n",
       "      <td id=\"T_43d0e_row2_col9\" class=\"data row2 col9\" >113 comments</td>\n",
       "      <td id=\"T_43d0e_row2_col10\" class=\"data row2 col10\" >https://m.facebook.com/story.php?story_fbid=pfbid02aJvkmdew7dae5BV2kVLKgiWrboyiEQPGsqsVjbUouLT5AjFS62Vd4mACugaHkPkhl&id=210192189326526&m_entstream_source=feed_mobile&anchor_reactions=true</td>\n",
       "      <td id=\"T_43d0e_row2_col11\" class=\"data row2 col11\" >-</td>\n",
       "      <td id=\"T_43d0e_row2_col12\" class=\"data row2 col12\" >1.000000</td>\n",
       "      <td id=\"T_43d0e_row2_col13\" class=\"data row2 col13\" >210192189326526</td>\n",
       "    </tr>\n",
       "    <tr>\n",
       "      <th id=\"T_43d0e_level0_row3\" class=\"row_heading level0 row3\" >3</th>\n",
       "      <td id=\"T_43d0e_row3_col0\" class=\"data row3 col0\" >4</td>\n",
       "      <td id=\"T_43d0e_row3_col1\" class=\"data row3 col1\" >6232583713435100</td>\n",
       "      <td id=\"T_43d0e_row3_col2\" class=\"data row3 col2\" >100000506009128</td>\n",
       "      <td id=\"T_43d0e_row3_col3\" class=\"data row3 col3\" >7684996420479323132</td>\n",
       "      <td id=\"T_43d0e_row3_col4\" class=\"data row3 col4\" >Bal Mane</td>\n",
       "      <td id=\"T_43d0e_row3_col5\" class=\"data row3 col5\" >https://m.facebook.com/bal.mane.3</td>\n",
       "      <td id=\"T_43d0e_row3_col6\" class=\"data row3 col6\" >3 hrs</td>\n",
       "      <td id=\"T_43d0e_row3_col7\" class=\"data row3 col7\" >✍ Good morning friends 😊\n",
       "काही दिवसांपूर्वी या पोस्टला सुंदर हस्ताक्षर समुहावर वाचकांचा भरघोस प्रतिसाद मिळाला होता. आज तीच पोस्ट इथेही देत आहे..</td>\n",
       "      <td id=\"T_43d0e_row3_col8\" class=\"data row3 col8\" >Makarand Ghangrekar and 20 others</td>\n",
       "      <td id=\"T_43d0e_row3_col9\" class=\"data row3 col9\" >23 comments</td>\n",
       "      <td id=\"T_43d0e_row3_col10\" class=\"data row3 col10\" >https://m.facebook.com/story.php?story_fbid=pfbid0A8ZXeQ17MNDWBcXbapNensuwKW7nkGfmLrWASS3vYNRxBDKpj2gKtw1Ddy5QH7P9l&id=100000506009128&m_entstream_source=feed_mobile&anchor_reactions=true</td>\n",
       "      <td id=\"T_43d0e_row3_col11\" class=\"data row3 col11\" >6232583646768440</td>\n",
       "      <td id=\"T_43d0e_row3_col12\" class=\"data row3 col12\" >-</td>\n",
       "      <td id=\"T_43d0e_row3_col13\" class=\"data row3 col13\" >-</td>\n",
       "    </tr>\n",
       "    <tr>\n",
       "      <th id=\"T_43d0e_level0_row4\" class=\"row_heading level0 row4\" >4</th>\n",
       "      <td id=\"T_43d0e_row4_col0\" class=\"data row4 col0\" >5</td>\n",
       "      <td id=\"T_43d0e_row4_col1\" class=\"data row4 col1\" >-</td>\n",
       "      <td id=\"T_43d0e_row4_col2\" class=\"data row4 col2\" >-</td>\n",
       "      <td id=\"T_43d0e_row4_col3\" class=\"data row4 col3\" >5824257085895124885</td>\n",
       "      <td id=\"T_43d0e_row4_col4\" class=\"data row4 col4\" >Manoj Kulkarni</td>\n",
       "      <td id=\"T_43d0e_row4_col5\" class=\"data row4 col5\" >https://m.facebook.com/coolkarni22</td>\n",
       "      <td id=\"T_43d0e_row4_col6\" class=\"data row4 col6\" >6 hrs</td>\n",
       "      <td id=\"T_43d0e_row4_col7\" class=\"data row4 col7\" >Years back when I had seen my inspiration Tushar Karpe running at #DurshetForestMarathon I had a dream of running at this event. Not in my wildest dream had imagined that I could do a full marathon at this… More</td>\n",
       "      <td id=\"T_43d0e_row4_col8\" class=\"data row4 col8\" >Pranoti Patil and 80 others</td>\n",
       "      <td id=\"T_43d0e_row4_col9\" class=\"data row4 col9\" >32 comments</td>\n",
       "      <td id=\"T_43d0e_row4_col10\" class=\"data row4 col10\" >https://m.facebook.com/story.php?story_fbid=pfbid0D5oXtBRj35WkeF4hKUpv9VTTUrhT9pZ36Tu4m5tzzTQEiwQ2afRBsNMeR9FFKfVpl&id=100000274503750&m_entstream_source=feed_mobile&anchor_reactions=true</td>\n",
       "      <td id=\"T_43d0e_row4_col11\" class=\"data row4 col11\" >5708088675876893</td>\n",
       "      <td id=\"T_43d0e_row4_col12\" class=\"data row4 col12\" >-</td>\n",
       "      <td id=\"T_43d0e_row4_col13\" class=\"data row4 col13\" >-</td>\n",
       "    </tr>\n",
       "    <tr>\n",
       "      <th id=\"T_43d0e_level0_row5\" class=\"row_heading level0 row5\" >5</th>\n",
       "      <td id=\"T_43d0e_row5_col0\" class=\"data row5 col0\" >6</td>\n",
       "      <td id=\"T_43d0e_row5_col1\" class=\"data row5 col1\" >3112957762348495</td>\n",
       "      <td id=\"T_43d0e_row5_col2\" class=\"data row5 col2\" >1595730204071266</td>\n",
       "      <td id=\"T_43d0e_row5_col3\" class=\"data row5 col3\" >7329820490527956930</td>\n",
       "      <td id=\"T_43d0e_row5_col4\" class=\"data row5 col4\" >-</td>\n",
       "      <td id=\"T_43d0e_row5_col5\" class=\"data row5 col5\" >-</td>\n",
       "      <td id=\"T_43d0e_row5_col6\" class=\"data row5 col6\" >-</td>\n",
       "      <td id=\"T_43d0e_row5_col7\" class=\"data row5 col7\" >Pick the Right Hosting for You</td>\n",
       "      <td id=\"T_43d0e_row5_col8\" class=\"data row5 col8\" >10K</td>\n",
       "      <td id=\"T_43d0e_row5_col9\" class=\"data row5 col9\" >336 comments</td>\n",
       "      <td id=\"T_43d0e_row5_col10\" class=\"data row5 col10\" >https://m.facebook.com/story.php?story_fbid=pfbid02szC6YH78eSBqRzGfzJowvoddyf6pDaBA57QKHoZwkayL6BfX8AtjiJMWgympz5ZEl&id=1595730204071266&m_entstream_source=feed_mobile&anchor_reactions=true</td>\n",
       "      <td id=\"T_43d0e_row5_col11\" class=\"data row5 col11\" >-</td>\n",
       "      <td id=\"T_43d0e_row5_col12\" class=\"data row5 col12\" >1.000000</td>\n",
       "      <td id=\"T_43d0e_row5_col13\" class=\"data row5 col13\" >1595730204071266</td>\n",
       "    </tr>\n",
       "    <tr>\n",
       "      <th id=\"T_43d0e_level0_row6\" class=\"row_heading level0 row6\" >6</th>\n",
       "      <td id=\"T_43d0e_row6_col0\" class=\"data row6 col0\" >7</td>\n",
       "      <td id=\"T_43d0e_row6_col1\" class=\"data row6 col1\" >-</td>\n",
       "      <td id=\"T_43d0e_row6_col2\" class=\"data row6 col2\" >-</td>\n",
       "      <td id=\"T_43d0e_row6_col3\" class=\"data row6 col3\" >5279524595814210818</td>\n",
       "      <td id=\"T_43d0e_row6_col4\" class=\"data row6 col4\" >Vishakha Dharmadhikari</td>\n",
       "      <td id=\"T_43d0e_row6_col5\" class=\"data row6 col5\" >https://m.facebook.com/vishakha.dharmadhikari.3</td>\n",
       "      <td id=\"T_43d0e_row6_col6\" class=\"data row6 col6\" >8 hrs</td>\n",
       "      <td id=\"T_43d0e_row6_col7\" class=\"data row6 col7\" >Quick trip to Banff and Jasper National\n",
       "Parks . Amazing landscape and views. Glaciers , snow clad mountains , glacier\n",
       "fed lakes and bright turquoise color of water makes it beautiful. Impossible to capture this beauty in camera.</td>\n",
       "      <td id=\"T_43d0e_row6_col8\" class=\"data row6 col8\" >Sanjay Kulkarni and 75 others</td>\n",
       "      <td id=\"T_43d0e_row6_col9\" class=\"data row6 col9\" >23 comments</td>\n",
       "      <td id=\"T_43d0e_row6_col10\" class=\"data row6 col10\" >https://m.facebook.com/story.php?story_fbid=pfbid0tBmaaz1QVE37quqTdCu1SgGnwpFMohbG1GwbhWYE3rudfjpxF2YQ8V4znw7r6cAxl&id=788941911&m_entstream_source=feed_mobile&anchor_reactions=true</td>\n",
       "      <td id=\"T_43d0e_row6_col11\" class=\"data row6 col11\" >10159987462041912</td>\n",
       "      <td id=\"T_43d0e_row6_col12\" class=\"data row6 col12\" >-</td>\n",
       "      <td id=\"T_43d0e_row6_col13\" class=\"data row6 col13\" >-</td>\n",
       "    </tr>\n",
       "    <tr>\n",
       "      <th id=\"T_43d0e_level0_row7\" class=\"row_heading level0 row7\" >7</th>\n",
       "      <td id=\"T_43d0e_row7_col0\" class=\"data row7 col0\" >8</td>\n",
       "      <td id=\"T_43d0e_row7_col1\" class=\"data row7 col1\" >613929426762952</td>\n",
       "      <td id=\"T_43d0e_row7_col2\" class=\"data row7 col2\" >100044377001497</td>\n",
       "      <td id=\"T_43d0e_row7_col3\" class=\"data row7 col3\" >4543986505193033104</td>\n",
       "      <td id=\"T_43d0e_row7_col4\" class=\"data row7 col4\" >Ryan Hall</td>\n",
       "      <td id=\"T_43d0e_row7_col5\" class=\"data row7 col5\" >https://m.facebook.com/ryanhall3</td>\n",
       "      <td id=\"T_43d0e_row7_col6\" class=\"data row7 col6\" >7 hrs</td>\n",
       "      <td id=\"T_43d0e_row7_col7\" class=\"data row7 col7\" >Hope. It’s the fuel of dreams.\n",
       "Do everything you can to cultivate it, keep it burning, and grow it.</td>\n",
       "      <td id=\"T_43d0e_row7_col8\" class=\"data row7 col8\" >727</td>\n",
       "      <td id=\"T_43d0e_row7_col9\" class=\"data row7 col9\" >11 comments</td>\n",
       "      <td id=\"T_43d0e_row7_col10\" class=\"data row7 col10\" >https://m.facebook.com/story.php?story_fbid=pfbid0u5Y1UHPgNdyfnZf4LkRZGXPkJQJStCcVrTZy4pn2fTbqycJEM5RqipL2AsVqEVA5l&id=100044377001497&m_entstream_source=feed_mobile&anchor_reactions=true</td>\n",
       "      <td id=\"T_43d0e_row7_col11\" class=\"data row7 col11\" >613929400096288</td>\n",
       "      <td id=\"T_43d0e_row7_col12\" class=\"data row7 col12\" >-</td>\n",
       "      <td id=\"T_43d0e_row7_col13\" class=\"data row7 col13\" >21533893623</td>\n",
       "    </tr>\n",
       "    <tr>\n",
       "      <th id=\"T_43d0e_level0_row8\" class=\"row_heading level0 row8\" >8</th>\n",
       "      <td id=\"T_43d0e_row8_col0\" class=\"data row8 col0\" >9</td>\n",
       "      <td id=\"T_43d0e_row8_col1\" class=\"data row8 col1\" >560552595409688</td>\n",
       "      <td id=\"T_43d0e_row8_col2\" class=\"data row8 col2\" >106248830840069</td>\n",
       "      <td id=\"T_43d0e_row8_col3\" class=\"data row8 col3\" >-6191630142583170466</td>\n",
       "      <td id=\"T_43d0e_row8_col4\" class=\"data row8 col4\" >-</td>\n",
       "      <td id=\"T_43d0e_row8_col5\" class=\"data row8 col5\" >-</td>\n",
       "      <td id=\"T_43d0e_row8_col6\" class=\"data row8 col6\" >-</td>\n",
       "      <td id=\"T_43d0e_row8_col7\" class=\"data row8 col7\" >Premium Cybersecurity Courses at $1.99</td>\n",
       "      <td id=\"T_43d0e_row8_col8\" class=\"data row8 col8\" >Santosh Giranje and 12K others</td>\n",
       "      <td id=\"T_43d0e_row8_col9\" class=\"data row8 col9\" >786 comments</td>\n",
       "      <td id=\"T_43d0e_row8_col10\" class=\"data row8 col10\" >https://m.facebook.com/story.php?story_fbid=pfbid02hKxGUyYy9Rbmgpp5wQCUMQVwjthWMEzcdC1orNviE4K1qAbdk9BskVUZreMG81Gol&id=106248830840069&m_entstream_source=feed_mobile&anchor_reactions=true</td>\n",
       "      <td id=\"T_43d0e_row8_col11\" class=\"data row8 col11\" >-</td>\n",
       "      <td id=\"T_43d0e_row8_col12\" class=\"data row8 col12\" >1.000000</td>\n",
       "      <td id=\"T_43d0e_row8_col13\" class=\"data row8 col13\" >106248830840069</td>\n",
       "    </tr>\n",
       "    <tr>\n",
       "      <th id=\"T_43d0e_level0_row9\" class=\"row_heading level0 row9\" >9</th>\n",
       "      <td id=\"T_43d0e_row9_col0\" class=\"data row9 col0\" >10</td>\n",
       "      <td id=\"T_43d0e_row9_col1\" class=\"data row9 col1\" >5776056519093998</td>\n",
       "      <td id=\"T_43d0e_row9_col2\" class=\"data row9 col2\" >100000691214357</td>\n",
       "      <td id=\"T_43d0e_row9_col3\" class=\"data row9 col3\" >-6687261886117926557</td>\n",
       "      <td id=\"T_43d0e_row9_col4\" class=\"data row9 col4\" >Qudrat Ali</td>\n",
       "      <td id=\"T_43d0e_row9_col5\" class=\"data row9 col5\" >https://m.facebook.com/qudrat.ali.9</td>\n",
       "      <td id=\"T_43d0e_row9_col6\" class=\"data row9 col6\" >20 August at 04:11</td>\n",
       "      <td id=\"T_43d0e_row9_col7\" class=\"data row9 col7\" >The Incline in Manitou Springs, Colorado. 🤯</td>\n",
       "      <td id=\"T_43d0e_row9_col8\" class=\"data row9 col8\" >6</td>\n",
       "      <td id=\"T_43d0e_row9_col9\" class=\"data row9 col9\" >-</td>\n",
       "      <td id=\"T_43d0e_row9_col10\" class=\"data row9 col10\" >https://m.facebook.com/story.php?story_fbid=pfbid02cF5xummUYqSBX2ykwEzq29VvJcKdNJWbaC9JhYhqEjPWn1ixqVBcfRWLmn1XgQQWl&id=100000691214357&m_entstream_source=feed_mobile&anchor_reactions=true</td>\n",
       "      <td id=\"T_43d0e_row9_col11\" class=\"data row9 col11\" >180399757811597</td>\n",
       "      <td id=\"T_43d0e_row9_col12\" class=\"data row9 col12\" >-</td>\n",
       "      <td id=\"T_43d0e_row9_col13\" class=\"data row9 col13\" >111118421406398</td>\n",
       "    </tr>\n",
       "  </tbody>\n",
       "</table>\n"
      ],
      "text/plain": [
       "<pandas.io.formats.style.Styler at 0x28fe18dcf08>"
      ]
     },
     "execution_count": 68,
     "metadata": {},
     "output_type": "execute_result"
    }
   ],
   "source": [
    "import json\n",
    "def getPostInfo(x):\n",
    "    el={}\n",
    "    data_ft=json.loads(x.data_ft)\n",
    "    \n",
    "    for _a in ['pos','is_sponsored','top_level_post_id','content_owner_id_new','page_id','photo_id']:\n",
    "        if _a in data_ft:\n",
    "            el[_a]=data_ft[_a]\n",
    "    el['key']=x.data_dedupekey\n",
    "    # el['hdrs']=len(x.headers())\n",
    "    # el['ftrs']=len(x.footers())    \n",
    "    for _el1 in x.divs(class_name=\"story_body_container\"):\n",
    "        # header first line\n",
    "        for _el2 in _el1.headers():\n",
    "            for _el3 in _el2.element(data_gt='{\"tn\":\"C\"}').links(class_name=\"_4kk6\"):\n",
    "                el['usr']=_el3.text[:60]\n",
    "                el['usrUrl']=re.split(r\"[\\&\\?]refid=\",_el3.href)[0]\n",
    "                # break\n",
    "            # header second line\n",
    "            #links(class_name=\"_26yo\"):\n",
    "            el['line2']=utils.getAttrsIfExists(_el2.abbr(),['text'])\n",
    "            el['text'] =utils.getAttrsIfExists(_el2.following_sibling(),['text'])\n",
    "\n",
    "    for _el2 in x.footers():\n",
    "        # print(_el2)\n",
    "        #footer status first line\n",
    "        el['likes']=utils.getAttrsIfExists(_el2.div(class_name=\"_1g06\"),['text'])\n",
    "        el['comments']=utils.getAttrsIfExists(_el2.element(class_name='_1j-c'),['text'])\n",
    "        el['url']=re.split(r\"[\\&\\?]refid=\",\n",
    "                           utils.getAttrsIfExists(_el2.link(data_sigil=\"feed-ufi-trigger\"),['href']))[0]\n",
    "            # data_sigil=\"comments-token\").text\n",
    "        # for _el3 in _el2.element(data_gt='{\"tn\":\"C\"}').links(class_name=\"_4kk6\"):\n",
    "        #     el['usr']=_el3.text[:60]\n",
    "        #     el['usrUrl']=re.split(r\"[\\&\\?]refid=\",_el3.href)[0]\n",
    "        #     break\n",
    "        #footer action bar second  line\n",
    "    return el\n",
    "\n",
    "# [x.text[:20] for x in b.articles()]\n",
    "import pandas as pd\n",
    "pd.DataFrame([getPostInfo(x) for x in b.articles()]).style.format(na_rep='-')"
   ]
  },
  {
   "cell_type": "code",
   "execution_count": 64,
   "metadata": {
    "tags": []
   },
   "outputs": [],
   "source": [
    "# fb.login(\"pcmcrunners_fb\")"
   ]
  },
  {
   "cell_type": "code",
   "execution_count": null,
   "metadata": {},
   "outputs": [
    {
     "name": "stderr",
     "output_type": "stream",
     "text": [
      "2022-08-21 00:30:41:ERROR:Internal Python error in the inspect module.\n",
      "Below is the traceback from this internal error.\n",
      "\n",
      "2022-08-21 00:30:41:INFO:\n",
      "Unfortunately, your original traceback can not be constructed.\n",
      "\n",
      "2022-08-21 00:30:41:ERROR:Internal Python error in the inspect module.\n",
      "Below is the traceback from this internal error.\n",
      "\n",
      "2022-08-21 00:30:41:INFO:\n",
      "Unfortunately, your original traceback can not be constructed.\n",
      "\n",
      "2022-08-21 00:30:41:ERROR:Internal Python error in the inspect module.\n",
      "Below is the traceback from this internal error.\n",
      "\n",
      "2022-08-21 00:30:41:INFO:\n",
      "Unfortunately, your original traceback can not be constructed.\n",
      "\n"
     ]
    },
    {
     "name": "stdout",
     "output_type": "stream",
     "text": [
      "Traceback (most recent call last):\n",
      "  File \"C:\\Users\\AvinashMane\\AppData\\Roaming\\Python\\Python37\\site-packages\\IPython\\core\\interactiveshell.py\", line 3418, in run_code\n",
      "    exec(code_obj, self.user_global_ns, self.user_ns)\n",
      "  File \"<ipython-input-56-ab64d325dc55>\", line 1, in <module>\n",
      "    for x in b.elements(data_sigil= 'touchable ufi-inline-like like-reaction-flyout'.split())[:1]:\n",
      "  File \"c:\\sw\\python37\\lib\\site-packages\\nerodia\\container.py\", line 13, in elements\n",
      "    return HTMLElementCollection(self, self._extract_selector(*args, **kwargs))\n",
      "TypeError: expected one of [<class 'str'>, <class 'bytes'>, <class 're.Pattern'>, <class 'bool'>], got ['touchable', 'ufi-inline-like', 'like-reaction-flyout']:<class 'list'>\n",
      "\n",
      "During handling of the above exception, another exception occurred:\n",
      "\n",
      "Traceback (most recent call last):\n",
      "  File \"C:\\Users\\AvinashMane\\AppData\\Roaming\\Python\\Python37\\site-packages\\IPython\\core\\interactiveshell.py\", line 2045, in showtraceback\n",
      "    stb = value._render_traceback_()\n",
      "AttributeError: 'TypeError' object has no attribute '_render_traceback_'\n",
      "\n",
      "During handling of the above exception, another exception occurred:\n",
      "\n",
      "Traceback (most recent call last):\n",
      "  File \"C:\\Users\\AvinashMane\\AppData\\Roaming\\Python\\Python37\\site-packages\\IPython\\core\\ultratb.py\", line 1170, in get_records\n",
      "    return _fixed_getinnerframes(etb, number_of_lines_of_context, tb_offset)\n",
      "  File \"C:\\Users\\AvinashMane\\AppData\\Roaming\\Python\\Python37\\site-packages\\IPython\\core\\ultratb.py\", line 316, in wrapped\n",
      "    return f(*args, **kwargs)\n",
      "  File \"C:\\Users\\AvinashMane\\AppData\\Roaming\\Python\\Python37\\site-packages\\IPython\\core\\ultratb.py\", line 363, in _fixed_getinnerframes\n",
      "    assert len(records) == len(aux)\n",
      "AssertionError\n",
      "Traceback (most recent call last):\n",
      "  File \"C:\\Users\\AvinashMane\\AppData\\Roaming\\Python\\Python37\\site-packages\\IPython\\core\\interactiveshell.py\", line 3418, in run_code\n",
      "    exec(code_obj, self.user_global_ns, self.user_ns)\n",
      "  File \"<ipython-input-56-ab64d325dc55>\", line 1, in <module>\n",
      "    for x in b.elements(data_sigil= 'touchable ufi-inline-like like-reaction-flyout'.split())[:1]:\n",
      "  File \"c:\\sw\\python37\\lib\\site-packages\\nerodia\\container.py\", line 13, in elements\n",
      "    return HTMLElementCollection(self, self._extract_selector(*args, **kwargs))\n",
      "TypeError: expected one of [<class 'str'>, <class 'bytes'>, <class 're.Pattern'>, <class 'bool'>], got ['touchable', 'ufi-inline-like', 'like-reaction-flyout']:<class 'list'>\n",
      "\n",
      "During handling of the above exception, another exception occurred:\n",
      "\n",
      "Traceback (most recent call last):\n",
      "  File \"C:\\Users\\AvinashMane\\AppData\\Roaming\\Python\\Python37\\site-packages\\IPython\\core\\interactiveshell.py\", line 2045, in showtraceback\n",
      "    stb = value._render_traceback_()\n",
      "AttributeError: 'TypeError' object has no attribute '_render_traceback_'\n",
      "\n",
      "During handling of the above exception, another exception occurred:\n",
      "\n",
      "Traceback (most recent call last):\n",
      "  File \"C:\\Users\\AvinashMane\\AppData\\Roaming\\Python\\Python37\\site-packages\\IPython\\core\\interactiveshell.py\", line 3338, in run_ast_nodes\n",
      "    if (await self.run_code(code, result,  async_=asy)):\n",
      "  File \"C:\\Users\\AvinashMane\\AppData\\Roaming\\Python\\Python37\\site-packages\\IPython\\core\\interactiveshell.py\", line 3435, in run_code\n",
      "    self.showtraceback(running_compiled_code=True)\n",
      "  File \"C:\\Users\\AvinashMane\\AppData\\Roaming\\Python\\Python37\\site-packages\\IPython\\core\\interactiveshell.py\", line 2048, in showtraceback\n",
      "    value, tb, tb_offset=tb_offset)\n",
      "TypeError: object of type 'NoneType' has no len()\n",
      "\n",
      "During handling of the above exception, another exception occurred:\n",
      "\n",
      "Traceback (most recent call last):\n",
      "  File \"C:\\Users\\AvinashMane\\AppData\\Roaming\\Python\\Python37\\site-packages\\IPython\\core\\interactiveshell.py\", line 2045, in showtraceback\n",
      "    stb = value._render_traceback_()\n",
      "AttributeError: 'TypeError' object has no attribute '_render_traceback_'\n",
      "\n",
      "During handling of the above exception, another exception occurred:\n",
      "\n",
      "Traceback (most recent call last):\n",
      "  File \"C:\\Users\\AvinashMane\\AppData\\Roaming\\Python\\Python37\\site-packages\\IPython\\core\\ultratb.py\", line 1170, in get_records\n",
      "    return _fixed_getinnerframes(etb, number_of_lines_of_context, tb_offset)\n",
      "  File \"C:\\Users\\AvinashMane\\AppData\\Roaming\\Python\\Python37\\site-packages\\IPython\\core\\ultratb.py\", line 316, in wrapped\n",
      "    return f(*args, **kwargs)\n",
      "  File \"C:\\Users\\AvinashMane\\AppData\\Roaming\\Python\\Python37\\site-packages\\IPython\\core\\ultratb.py\", line 363, in _fixed_getinnerframes\n",
      "    assert len(records) == len(aux)\n",
      "AssertionError\n",
      "Traceback (most recent call last):\n",
      "  File \"C:\\Users\\AvinashMane\\AppData\\Roaming\\Python\\Python37\\site-packages\\IPython\\core\\interactiveshell.py\", line 3418, in run_code\n",
      "    exec(code_obj, self.user_global_ns, self.user_ns)\n",
      "  File \"<ipython-input-56-ab64d325dc55>\", line 1, in <module>\n",
      "    for x in b.elements(data_sigil= 'touchable ufi-inline-like like-reaction-flyout'.split())[:1]:\n",
      "  File \"c:\\sw\\python37\\lib\\site-packages\\nerodia\\container.py\", line 13, in elements\n",
      "    return HTMLElementCollection(self, self._extract_selector(*args, **kwargs))\n",
      "TypeError: expected one of [<class 'str'>, <class 'bytes'>, <class 're.Pattern'>, <class 'bool'>], got ['touchable', 'ufi-inline-like', 'like-reaction-flyout']:<class 'list'>\n",
      "\n",
      "During handling of the above exception, another exception occurred:\n",
      "\n",
      "Traceback (most recent call last):\n",
      "  File \"C:\\Users\\AvinashMane\\AppData\\Roaming\\Python\\Python37\\site-packages\\IPython\\core\\interactiveshell.py\", line 2045, in showtraceback\n",
      "    stb = value._render_traceback_()\n",
      "AttributeError: 'TypeError' object has no attribute '_render_traceback_'\n",
      "\n",
      "During handling of the above exception, another exception occurred:\n",
      "\n",
      "Traceback (most recent call last):\n",
      "  File \"C:\\Users\\AvinashMane\\AppData\\Roaming\\Python\\Python37\\site-packages\\IPython\\core\\interactiveshell.py\", line 3338, in run_ast_nodes\n",
      "    if (await self.run_code(code, result,  async_=asy)):\n",
      "  File \"C:\\Users\\AvinashMane\\AppData\\Roaming\\Python\\Python37\\site-packages\\IPython\\core\\interactiveshell.py\", line 3435, in run_code\n",
      "    self.showtraceback(running_compiled_code=True)\n",
      "  File \"C:\\Users\\AvinashMane\\AppData\\Roaming\\Python\\Python37\\site-packages\\IPython\\core\\interactiveshell.py\", line 2048, in showtraceback\n",
      "    value, tb, tb_offset=tb_offset)\n",
      "TypeError: object of type 'NoneType' has no len()\n",
      "\n",
      "During handling of the above exception, another exception occurred:\n",
      "\n",
      "Traceback (most recent call last):\n",
      "  File \"C:\\Users\\AvinashMane\\AppData\\Roaming\\Python\\Python37\\site-packages\\IPython\\core\\interactiveshell.py\", line 2045, in showtraceback\n",
      "    stb = value._render_traceback_()\n",
      "AttributeError: 'TypeError' object has no attribute '_render_traceback_'\n",
      "\n",
      "During handling of the above exception, another exception occurred:\n",
      "\n",
      "Traceback (most recent call last):\n",
      "  File \"C:\\Users\\AvinashMane\\AppData\\Roaming\\Python\\Python37\\site-packages\\IPython\\core\\interactiveshell.py\", line 2923, in _run_cell\n",
      "    return runner(coro)\n",
      "  File \"C:\\Users\\AvinashMane\\AppData\\Roaming\\Python\\Python37\\site-packages\\IPython\\core\\async_helpers.py\", line 68, in _pseudo_sync_runner\n",
      "    coro.send(None)\n",
      "  File \"C:\\Users\\AvinashMane\\AppData\\Roaming\\Python\\Python37\\site-packages\\IPython\\core\\interactiveshell.py\", line 3147, in run_cell_async\n",
      "    interactivity=interactivity, compiler=compiler, result=result)\n",
      "TypeError: object of type 'NoneType' has no len()\n",
      "\n",
      "During handling of the above exception, another exception occurred:\n",
      "\n",
      "Traceback (most recent call last):\n",
      "  File \"C:\\Users\\AvinashMane\\AppData\\Roaming\\Python\\Python37\\site-packages\\IPython\\core\\interactiveshell.py\", line 2045, in showtraceback\n",
      "    stb = value._render_traceback_()\n",
      "AttributeError: 'TypeError' object has no attribute '_render_traceback_'\n",
      "\n",
      "During handling of the above exception, another exception occurred:\n",
      "\n",
      "Traceback (most recent call last):\n",
      "  File \"C:\\Users\\AvinashMane\\AppData\\Roaming\\Python\\Python37\\site-packages\\IPython\\core\\ultratb.py\", line 1170, in get_records\n",
      "    return _fixed_getinnerframes(etb, number_of_lines_of_context, tb_offset)\n",
      "  File \"C:\\Users\\AvinashMane\\AppData\\Roaming\\Python\\Python37\\site-packages\\IPython\\core\\ultratb.py\", line 316, in wrapped\n",
      "    return f(*args, **kwargs)\n",
      "  File \"C:\\Users\\AvinashMane\\AppData\\Roaming\\Python\\Python37\\site-packages\\IPython\\core\\ultratb.py\", line 363, in _fixed_getinnerframes\n",
      "    assert len(records) == len(aux)\n",
      "AssertionError\n"
     ]
    }
   ],
   "source": [
    "for x in b.elements(data_sigil= 'touchable ufi-inline-like like-reaction-flyout'.split())[:1]:\n",
    "# for x in b.elements(class_name=\"_15ko\")[:1]:\n",
    "    x.click()\n",
    "    print(x.attributes)"
   ]
  },
  {
   "cell_type": "code",
   "execution_count": 54,
   "metadata": {
    "tags": []
   },
   "outputs": [
    {
     "name": "stderr",
     "output_type": "stream",
     "text": [
      "2022-08-21 00:29:15:INFO:Logging out\n"
     ]
    }
   ],
   "source": [
    "\"logout\"\n",
    "from selenium.webdriver.common.keys import Keys\n",
    "for _el in b.elements(text='Main Menu'):\n",
    "    # _els.send_keys(os.environ[\"FB_2FA_CODE\"])\n",
    "    # _els.send_keys(Keys.ENTER)\n",
    "    _el.execute_script(\"arguments[0].click();\", _el)\n",
    "    for _logoutButton in b.links(text='Log Out'):\n",
    "        logging.info(\"Logging out\")\n",
    "        _logoutButton.execute_script(\"arguments[0].click();\", _logoutButton)\n",
    "        for _el3 in b.divs(text=\"Which account did you log out of?\"):\n",
    "            for _el4 in b.links(text=\"My Account\"):\n",
    "                _el4.click()\n",
    "    # print(_els.attributes)\n",
    "    "
   ]
  },
  {
   "cell_type": "code",
   "execution_count": null,
   "metadata": {},
   "outputs": [],
   "source": [
    "li.scrolldown(9)"
   ]
  },
  {
   "cell_type": "code",
   "execution_count": null,
   "metadata": {
    "tags": []
   },
   "outputs": [],
   "source": [
    "importlib.reload(socialmediasite )\n",
    "import socialmediasite\n",
    "\n",
    "li=Linkedin(b,authFile=f'{AUTH}/auth.yaml')\n",
    "utils.setLogger(f\"{LOG}/strava-automation.log\")\n",
    "\n",
    "import pandas as pd\n",
    "# .div(class_name='scaffold-finite-scroll').\n",
    "nerodia.default_timeout=.1\n",
    "\n",
    "def getPostData(postTag):\n",
    "  \"Return data regarding one post in linkedin feed\"\n",
    "  post={}\n",
    "  if not postTag.exists:\n",
    "    return\n",
    "  _map={\n",
    "      'post':'postTag.parent().element(class_name=\"visually-hidden\").text',\n",
    "      'urn':'postTag.attributes[\"data_urn\"]',\n",
    "      'name':'postTag.element(class_name=\"feed-shared-actor__name\").text',\n",
    "      'userUrl':'postTag.link(class_name=\"feed-shared-actor__container-link\").href',\n",
    "      'likes':'postTag.element(class_name=\"social-details-social-counts__reactions-count\").text',\n",
    "        # len('.div(class_name='feed-shared-social-actions').buttons(text='Like'))',\n",
    "          # 'react-button--active' in 'react-button__text--like' in \n",
    "      'liked':'\"react-button--active\" in postTag.div(class_name=\"feed-shared-social-actions\").button(text=\"Like\").class_name',\n",
    "      # print(name','.element(class_name='feed-shared-social-actions'\n",
    "      #                                                            ).button(text='Like').class_name)\n",
    "      'text':'postTag.element(class_name=\"feed-shared-update-v2__commentary\").text',\n",
    "      'desc':'postTag.element(class_name=\"feed-shared-actor__description\").text',\n",
    "      'subdesc':'postTag.element(class_name=\"feed-shared-actor__sub-description\").text',\n",
    "      # if post['subdesc'] not in ['Promoted']:\n",
    "      'deg':'postTag.span(class_name=\"feed-shared-actor__supplementary-actor-info\").text',\n",
    "  }\n",
    "\n",
    "  for _v,_e in _map.items():\n",
    "    try:\n",
    "        _m = re.search(r'.*(postTag\\..*\\))',_e)\n",
    "        if _m:\n",
    "            if eval(_m.group(1)+\".exists\"):\n",
    "                post[_v]=eval(_e,{\"postTag\":postTag})\n",
    "    except Exception as e:\n",
    "        pass\n",
    "        print(f\"error {e!r} {_v} {_e}\")\n",
    "    \n",
    "    if 'text' in post : post['text']=post['text'][:40]\n",
    "    if 'userUrl' in post : post['userUrl']=post['userUrl'].split(\"?\")[0]\n",
    "    # post['liked']='react-button--active' in postTag.div(class_name='feed-shared-social-actions'\n",
    "    #                                                          ).button(text='Like').class_name\n",
    "\n",
    "  return post    \n",
    "\n",
    "def getPostIds():\n",
    "  \"Get list of all feed posts\"\n",
    "  nerodia.default_timeout=.1\n",
    "  posts=[]\n",
    "\n",
    "  for x in b.elements(class_name='feed-shared-update-v2',\n",
    "                      ):#data_id=re.compile(\"urn:li:activity:\")):\n",
    "    if re.match(r\"^urn:li:activity:\",x.data_urn):\n",
    "        try:\n",
    "            post=getPostData(x)\n",
    "            post.update({'el':x})\n",
    "            posts.append( post)\n",
    "        except Exception as e:\n",
    "          # Logs the error appropriately. \n",
    "            print(f\">>{e!r}\")\n",
    "\n",
    "  return posts\n",
    "\n",
    "posts = getPostIds() #li.\n",
    "\n",
    "\n",
    "# posts=[]\n",
    "\n",
    "# i=0\n",
    "# for x in b.elements(class_name='feed-shared-update-v2',\n",
    "#                     data_urn=re.compile(\"urn:li:activity:\"),\n",
    "#                    ):#data_id=re.compile(\"urn:li:activity:\")):\n",
    "#     # print (\">>>\",x.link(class_name=\"feed-shared-actor__container-link\").href)\n",
    "#     try:\n",
    "#         print(x.h2(class_name=\"visually-hidden\").text)\n",
    "#         post=li.getPostData(x)\n",
    "#         posts.append(post)\n",
    "#     except Exception as e:\n",
    "#         print(f\"Error: {e!r}\")\n",
    "    # if i>3: \n",
    "    #     break\n",
    "    # else:\n",
    "    #     i+=1\n",
    "# display (pd.DataFrame(posts))"
   ]
  },
  {
   "cell_type": "code",
   "execution_count": null,
   "metadata": {},
   "outputs": [],
   "source": [
    "\"list posts\"\n",
    "display (pd.DataFrame(posts)[['name','deg','text','liked']].style)"
   ]
  },
  {
   "cell_type": "code",
   "execution_count": null,
   "metadata": {},
   "outputs": [],
   "source": [
    "for p in posts:\n",
    "    if ('deg' in p and \n",
    "        (p['deg']=='• 1st')):\n",
    "        p['text']=p['text'] if 'text' in p else ''\n",
    "        if(not p['liked']):\n",
    "            _likeButton=p['el'].div(class_name='feed-shared-social-actions'\n",
    "                                  ).button(text='Like')\n",
    "            if _likeButton.exists:  \n",
    "                logging.info(f\"Liking {p['name']} {p['text'][:30]}\")\n",
    "                try:\n",
    "                    # _likeButton.click()\n",
    "                    _likeButton.execute_script(\"arguments[0].click();\", _likeButton)\n",
    "                except Exception as e:\n",
    "                  # Logs the error appropriately. \n",
    "                    print(f\">>{e!r}\")\n",
    "        else:\n",
    "            logging.warning(f\"already liked {p['name']} {p['text'][:30]}\")\n",
    "    else:\n",
    "        logging.warning(f\"not 1st connection {p['name']}\")\n"
   ]
  },
  {
   "cell_type": "code",
   "execution_count": null,
   "metadata": {},
   "outputs": [],
   "source": [
    "\"logout\"\n",
    "# li.logout()"
   ]
  },
  {
   "cell_type": "markdown",
   "metadata": {},
   "source": [
    "# test linkedin"
   ]
  },
  {
   "cell_type": "code",
   "execution_count": null,
   "metadata": {
    "colab": {
     "base_uri": "https://localhost:8080/",
     "height": 617
    },
    "id": "NPK6lThqxhpy",
    "outputId": "0e420a50-9bee-454b-df4b-e2477215078e"
   },
   "outputs": [],
   "source": [
    "\n",
    "Image(b.screenshot.png())"
   ]
  },
  {
   "cell_type": "markdown",
   "metadata": {
    "id": "d9OAqFDV1nRY"
   },
   "source": [
    "## A. Give likes in feed"
   ]
  }
 ],
 "metadata": {
  "colab": {
   "include_colab_link": true,
   "name": "strava likers.ipynb",
   "provenance": []
  },
  "gpuClass": "standard",
  "kernelspec": {
   "display_name": "Python 3",
   "language": "python",
   "name": "python3"
  },
  "language_info": {
   "codemirror_mode": {
    "name": "ipython",
    "version": 3
   },
   "file_extension": ".py",
   "mimetype": "text/x-python",
   "name": "python",
   "nbconvert_exporter": "python",
   "pygments_lexer": "ipython3",
   "version": "3.7.7"
  }
 },
 "nbformat": 4,
 "nbformat_minor": 4
}
