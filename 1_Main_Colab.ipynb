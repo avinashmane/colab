{
 "cells": [
  {
   "cell_type": "markdown",
   "metadata": {
    "colab_type": "text",
    "id": "view-in-github"
   },
   "source": [
    "<a href=\"https://colab.research.google.com/github/avinashmane/colab/blob/master/1_Main_Colab.ipynb\" target=\"_parent\"><img src=\"https://colab.research.google.com/assets/colab-badge.svg\" alt=\"Open In Colab\"/></a>"
   ]
  },
  {
   "cell_type": "code",
   "execution_count": 1,
   "metadata": {
    "colab": {
     "base_uri": "https://localhost:8080/"
    },
    "id": "MzfP-XPAjd6E",
    "outputId": "88736080-9ae2-47c3-ff8a-7e0311fe338c"
   },
   "outputs": [],
   "source": [
    "repo='https://github.com/avinashmane/colab.git'\n",
    "CONFIG_FILE='config.yaml'\n",
    "\n",
    "\n",
    "#clone report for colab\n",
    "import yaml,os,sys\n",
    "\n",
    "#setup directories\n",
    "if os.name=='nt':\n",
    "    pass\n",
    "else:               #colab setup below\n",
    "    if not os.path.exists('./repo') :\n",
    "        !git clone $repo repo\n",
    "        sys.path.append(\"repo/lib\")\n",
    "        sys.path.append('repo')       \n",
    "    !apt update\n",
    "    if not os.path.exists('drive'):\n",
    "        from google.colab import drive\n",
    "        drive.mount('/content/drive')\n",
    "    if not os.path.exists('m'):\n",
    "      !ln -sd '/content/drive/MyDrive/m/' m\n",
    "    \n",
    "sys.path.append('lib')\n",
    "# sys.path.append(LIB)\n",
    "\n",
    "import utils\n",
    "cfg=utils.setup_env(CONFIG_FILE)  #auth_file defaulted from {AUTH}/auth/yaml\n",
    "\n",
    "for x in cfg['env'][os.name]: \n",
    "    # os.environ[x]=cfg['env'][os.name][x]\n",
    "    globals()[x]=cfg['env'][os.name][x]\n",
    "\n",
    "#need to use following for each sheet\n",
    "service_account_file=f'{os.environ[\"AUTH\"]}/{cfg[\"AUTH\"][\"service_accounts\"][\"indiathon\"]}'"
   ]
  },
  {
   "cell_type": "code",
   "execution_count": null,
   "metadata": {
    "colab": {
     "base_uri": "https://localhost:8080/",
     "height": 381
    },
    "id": "gXlRrsz4jfRX",
    "outputId": "52682c3c-13f8-4f68-b29e-eb154cc0ebd9"
   },
   "outputs": [],
   "source": [
    "# if os.name!='nt':\n",
    "#     %cd repo\n",
    "%run 1.1_strava_likers.ipynb"
   ]
  },
  {
   "cell_type": "code",
   "execution_count": null,
   "metadata": {
    "colab": {
     "base_uri": "https://localhost:8080/",
     "height": 381
    },
    "id": "gXlRrsz4jfRX",
    "outputId": "52682c3c-13f8-4f68-b29e-eb154cc0ebd9"
   },
   "outputs": [],
   "source": [
    "%run 2.1_linkedin_liker.ipynb"
   ]
  },
  {
   "cell_type": "code",
   "execution_count": null,
   "metadata": {},
   "outputs": [],
   "source": [
    "b"
   ]
  },
  {
   "cell_type": "code",
   "execution_count": null,
   "metadata": {},
   "outputs": [],
   "source": [
    "from IPython.display import HTML\n",
    "for l in b.elements():\n",
    "    try: HTML(f\"<br/>{l.tag_name}<b>{l.class_name}<b>{l.text[:50]}\")\n",
    "    except:pass"
   ]
  },
  {
   "cell_type": "code",
   "execution_count": null,
   "metadata": {},
   "outputs": [],
   "source": []
  }
 ],
 "metadata": {
  "colab": {
   "authorship_tag": "ABX9TyM7GrPvIE+LfNpyevyfqsvE",
   "include_colab_link": true,
   "name": "1.Main Colab.ipynb",
   "provenance": []
  },
  "kernelspec": {
   "display_name": "Python 3",
   "language": "python",
   "name": "python3"
  },
  "language_info": {
   "codemirror_mode": {
    "name": "ipython",
    "version": 3
   },
   "file_extension": ".py",
   "mimetype": "text/x-python",
   "name": "python",
   "nbconvert_exporter": "python",
   "pygments_lexer": "ipython3",
   "version": "3.7.7"
  }
 },
 "nbformat": 4,
 "nbformat_minor": 4
}
