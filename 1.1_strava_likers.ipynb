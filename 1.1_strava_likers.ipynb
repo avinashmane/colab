{
 "cells": [
  {
   "cell_type": "markdown",
   "metadata": {
    "colab_type": "text",
    "id": "view-in-github"
   },
   "source": [
    "<a href=\"https://colab.research.google.com/github/avinashmane/colab/blob/master/1.1_strava_likers.ipynb\" target=\"_parent\"><img src=\"https://colab.research.google.com/assets/colab-badge.svg\" alt=\"Open In Colab\"/></a>"
   ]
  },
  {
   "cell_type": "markdown",
   "metadata": {
    "id": "p_L68hXNqV25"
   },
   "source": [
    "# Setup Code/Parameters\n",
    "* Setup\n",
    "    * needs\n",
    "        * auth\n",
    "        * gsheet auth\n",
    "        * cfg_strava\n",
    "* updates sheets\n",
    "* Todo\n",
    "    * low: error: location not found "
   ]
  },
  {
   "cell_type": "markdown",
   "metadata": {
    "id": "D_qrPWP6bfeb"
   },
   "source": [
    "## Config"
   ]
  },
  {
   "cell_type": "code",
   "execution_count": 1,
   "metadata": {
    "colab": {
     "base_uri": "https://localhost:8080/"
    },
    "id": "S_YFZ5N9qPvu",
    "outputId": "3aeda851-6fd5-4a47-c75d-82e89b0eb361"
   },
   "outputs": [],
   "source": [
    "repo='https://github.com/avinashmane/colab.git'\n",
    "CONFIG_FILE='config.yaml'\n",
    "\n",
    "#clone report for colab\n",
    "import yaml,os,sys\n",
    "if not os.path.exists('./repo') and (os.name!='nt'):\n",
    "    !git clone $repo repo\n",
    "    sys.path.append('repo')   \n",
    "\n",
    "#read config file\n",
    "\n",
    "with open(CONFIG_FILE if os.name=='nt' \n",
    "          else f\"repo/{CONFIG_FILE}\",\"r+\") as _c:\n",
    "    cfg=yaml.load(_c,yaml.Loader)\n",
    "for x in cfg['env'][os.name]: \n",
    "    os.environ[x]=cfg['env'][os.name][x]\n",
    "    globals()[x]=cfg['env'][os.name][x]\n",
    "\n",
    "#setup environment\n",
    "if os.name=='nt':\n",
    "    # LIB= r'c:\\m\\lib'\n",
    "    # LOG= r'c:\\m\\social-media-automation'\n",
    "    # AUTH= r'c:\\i\\auth'\n",
    "    sys.path.append(LIB)\n",
    "else:\n",
    "    !apt update\n",
    "    if not os.path.exists('drive'):\n",
    "        from google.colab import drive\n",
    "        drive.mount('/content/drive')\n",
    "    # LIB='/content/drive/MyDrive/m/lib'\n",
    "    # LOG='/content/drive/MyDrive/m/lib'\n",
    "    # AUTH='/content/drive/MyDrive/m/auth'\n",
    "    if not os.path.exists('m'):\n",
    "      !ln -sd '/content/drive/MyDrive/m/' m\n",
    "    sys.path.append(\"repo/lib\")\n",
    "sys.path.append('lib')"
   ]
  },
  {
   "cell_type": "code",
   "execution_count": 2,
   "metadata": {
    "colab": {
     "base_uri": "https://localhost:8080/",
     "height": 108
    },
    "id": "fK2kPK8spfvL",
    "outputId": "2df74b7e-0bc4-4570-adf0-3f60e3008c78",
    "tags": []
   },
   "outputs": [
    {
     "data": {
      "text/plain": [
       "'Environment setup'"
      ]
     },
     "execution_count": 2,
     "metadata": {},
     "output_type": "execute_result"
    }
   ],
   "source": [
    "import importlib\n",
    "import utils\n",
    "importlib.reload(utils)\n",
    "utils.setup_env(cfg['packages'],cfg['modules'])"
   ]
  },
  {
   "cell_type": "markdown",
   "metadata": {
    "id": "BojXrnpzt_aL",
    "tags": []
   },
   "source": [
    "## Code"
   ]
  },
  {
   "cell_type": "code",
   "execution_count": 4,
   "metadata": {
    "id": "_0JoVWhRuDAe",
    "tags": []
   },
   "outputs": [],
   "source": [
    "import yaml\n",
    "from datetime import datetime\n",
    "import os\n",
    "from nerodia.browser import Browser\n",
    "import nerodia\n",
    "import re\n",
    "import logging\n",
    "from IPython.display import Image, Markdown\n",
    "import pandas as pd\n",
    "\n",
    "import utils\n",
    "\n",
    "import socialmediasite \n",
    "importlib.reload(socialmediasite)\n",
    "Strava=socialmediasite.Strava\n",
    "SocialMediaSite=socialmediasite.SocialMediaSite\n"
   ]
  },
  {
   "cell_type": "code",
   "execution_count": 5,
   "metadata": {
    "id": "pFlNgflfbfem",
    "jupyter": {
     "source_hidden": true
    },
    "tags": []
   },
   "outputs": [],
   "source": [
    "\"reach gsheet\"\n",
    "\n",
    "import gsheets\n",
    "Gsheet=gsheets.Gsheet\n"
   ]
  },
  {
   "cell_type": "code",
   "execution_count": 6,
   "metadata": {
    "id": "pkRWOcZFbfep",
    "jupyter": {
     "source_hidden": true
    },
    "tags": []
   },
   "outputs": [],
   "source": [
    "df_mc=Gsheet(cfg['sheets']['stravasync']['url']).getSheetDf(cfg['sheets']['stravasync']['tab'],start='A10')\n",
    "\n",
    "# ssl=Gsheet('stravasync')\n",
    "# df_mc"
   ]
  },
  {
   "cell_type": "markdown",
   "metadata": {
    "id": "yT65-kQZuU0h"
   },
   "source": [
    "# Process\n",
    "## Create headless"
   ]
  },
  {
   "cell_type": "code",
   "execution_count": 9,
   "metadata": {
    "colab": {
     "base_uri": "https://localhost:8080/"
    },
    "id": "isFE6a2SpeG_",
    "outputId": "0202ea18-b99f-4002-fef9-d57c27430e18",
    "tags": []
   },
   "outputs": [
    {
     "ename": "SessionNotCreatedException",
     "evalue": "Message: session not created: This version of ChromeDriver only supports Chrome version 103\nCurrent browser version is 105.0.5195.102 with binary path C:\\Program Files\\Google\\Chrome\\Application\\chrome.exe\n",
     "output_type": "error",
     "traceback": [
      "\u001b[1;31m---------------------------------------------------------------------------\u001b[0m",
      "\u001b[1;31mSessionNotCreatedException\u001b[0m                Traceback (most recent call last)",
      "\u001b[1;32m<ipython-input-9-5a20af0e7b5d>\u001b[0m in \u001b[0;36m<module>\u001b[1;34m\u001b[0m\n\u001b[0;32m      2\u001b[0m \u001b[1;32mif\u001b[0m \u001b[1;32mTrue\u001b[0m\u001b[1;33m:\u001b[0m\u001b[1;33m\u001b[0m\u001b[1;33m\u001b[0m\u001b[0m\n\u001b[0;32m      3\u001b[0m     \u001b[1;32mif\u001b[0m \u001b[0mos\u001b[0m\u001b[1;33m.\u001b[0m\u001b[0mname\u001b[0m\u001b[1;33m==\u001b[0m\u001b[1;34m'nt'\u001b[0m\u001b[1;33m:\u001b[0m\u001b[1;33m\u001b[0m\u001b[1;33m\u001b[0m\u001b[0m\n\u001b[1;32m----> 4\u001b[1;33m         \u001b[0mb\u001b[0m\u001b[1;33m=\u001b[0m\u001b[0mBrowser\u001b[0m\u001b[1;33m(\u001b[0m\u001b[1;34m'chrome'\u001b[0m\u001b[1;33m)\u001b[0m\u001b[1;33m\u001b[0m\u001b[1;33m\u001b[0m\u001b[0m\n\u001b[0m\u001b[0;32m      5\u001b[0m     \u001b[1;32melse\u001b[0m\u001b[1;33m:\u001b[0m\u001b[1;33m\u001b[0m\u001b[1;33m\u001b[0m\u001b[0m\n\u001b[0;32m      6\u001b[0m \u001b[1;33m\u001b[0m\u001b[0m\n",
      "\u001b[1;32mc:\\sw\\python37\\lib\\site-packages\\nerodia\\browser.py\u001b[0m in \u001b[0;36m__init__\u001b[1;34m(self, browser, *args, **kwargs)\u001b[0m\n\u001b[0;32m     37\u001b[0m             module = import_module('selenium.webdriver.{}'\n\u001b[0;32m     38\u001b[0m                                    '.webdriver'.format(caps.selenium_browser.lower()))\n\u001b[1;32m---> 39\u001b[1;33m             \u001b[0mself\u001b[0m\u001b[1;33m.\u001b[0m\u001b[0mdriver\u001b[0m \u001b[1;33m=\u001b[0m \u001b[0mmodule\u001b[0m\u001b[1;33m.\u001b[0m\u001b[0mWebDriver\u001b[0m\u001b[1;33m(\u001b[0m\u001b[1;33m**\u001b[0m\u001b[0mcaps\u001b[0m\u001b[1;33m.\u001b[0m\u001b[0mkwargs\u001b[0m\u001b[1;33m)\u001b[0m\u001b[1;33m\u001b[0m\u001b[1;33m\u001b[0m\u001b[0m\n\u001b[0m\u001b[0;32m     40\u001b[0m         \u001b[1;32melif\u001b[0m \u001b[0misinstance\u001b[0m\u001b[1;33m(\u001b[0m\u001b[0mbrowser\u001b[0m\u001b[1;33m,\u001b[0m \u001b[0mWebDriver\u001b[0m\u001b[1;33m)\u001b[0m\u001b[1;33m:\u001b[0m\u001b[1;33m\u001b[0m\u001b[1;33m\u001b[0m\u001b[0m\n\u001b[0;32m     41\u001b[0m             \u001b[0mself\u001b[0m\u001b[1;33m.\u001b[0m\u001b[0mdriver\u001b[0m \u001b[1;33m=\u001b[0m \u001b[0mbrowser\u001b[0m\u001b[1;33m\u001b[0m\u001b[1;33m\u001b[0m\u001b[0m\n",
      "\u001b[1;32mc:\\sw\\python37\\lib\\site-packages\\selenium\\webdriver\\chrome\\webdriver.py\u001b[0m in \u001b[0;36m__init__\u001b[1;34m(self, executable_path, port, options, service_args, desired_capabilities, service_log_path, chrome_options, keep_alive)\u001b[0m\n\u001b[0;32m     79\u001b[0m                     \u001b[0mremote_server_addr\u001b[0m\u001b[1;33m=\u001b[0m\u001b[0mself\u001b[0m\u001b[1;33m.\u001b[0m\u001b[0mservice\u001b[0m\u001b[1;33m.\u001b[0m\u001b[0mservice_url\u001b[0m\u001b[1;33m,\u001b[0m\u001b[1;33m\u001b[0m\u001b[1;33m\u001b[0m\u001b[0m\n\u001b[0;32m     80\u001b[0m                     keep_alive=keep_alive),\n\u001b[1;32m---> 81\u001b[1;33m                 desired_capabilities=desired_capabilities)\n\u001b[0m\u001b[0;32m     82\u001b[0m         \u001b[1;32mexcept\u001b[0m \u001b[0mException\u001b[0m\u001b[1;33m:\u001b[0m\u001b[1;33m\u001b[0m\u001b[1;33m\u001b[0m\u001b[0m\n\u001b[0;32m     83\u001b[0m             \u001b[0mself\u001b[0m\u001b[1;33m.\u001b[0m\u001b[0mquit\u001b[0m\u001b[1;33m(\u001b[0m\u001b[1;33m)\u001b[0m\u001b[1;33m\u001b[0m\u001b[1;33m\u001b[0m\u001b[0m\n",
      "\u001b[1;32mc:\\sw\\python37\\lib\\site-packages\\selenium\\webdriver\\remote\\webdriver.py\u001b[0m in \u001b[0;36m__init__\u001b[1;34m(self, command_executor, desired_capabilities, browser_profile, proxy, keep_alive, file_detector, options)\u001b[0m\n\u001b[0;32m    155\u001b[0m             warnings.warn(\"Please use FirefoxOptions to set browser profile\",\n\u001b[0;32m    156\u001b[0m                           DeprecationWarning, stacklevel=2)\n\u001b[1;32m--> 157\u001b[1;33m         \u001b[0mself\u001b[0m\u001b[1;33m.\u001b[0m\u001b[0mstart_session\u001b[0m\u001b[1;33m(\u001b[0m\u001b[0mcapabilities\u001b[0m\u001b[1;33m,\u001b[0m \u001b[0mbrowser_profile\u001b[0m\u001b[1;33m)\u001b[0m\u001b[1;33m\u001b[0m\u001b[1;33m\u001b[0m\u001b[0m\n\u001b[0m\u001b[0;32m    158\u001b[0m         \u001b[0mself\u001b[0m\u001b[1;33m.\u001b[0m\u001b[0m_switch_to\u001b[0m \u001b[1;33m=\u001b[0m \u001b[0mSwitchTo\u001b[0m\u001b[1;33m(\u001b[0m\u001b[0mself\u001b[0m\u001b[1;33m)\u001b[0m\u001b[1;33m\u001b[0m\u001b[1;33m\u001b[0m\u001b[0m\n\u001b[0;32m    159\u001b[0m         \u001b[0mself\u001b[0m\u001b[1;33m.\u001b[0m\u001b[0m_mobile\u001b[0m \u001b[1;33m=\u001b[0m \u001b[0mMobile\u001b[0m\u001b[1;33m(\u001b[0m\u001b[0mself\u001b[0m\u001b[1;33m)\u001b[0m\u001b[1;33m\u001b[0m\u001b[1;33m\u001b[0m\u001b[0m\n",
      "\u001b[1;32mc:\\sw\\python37\\lib\\site-packages\\selenium\\webdriver\\remote\\webdriver.py\u001b[0m in \u001b[0;36mstart_session\u001b[1;34m(self, capabilities, browser_profile)\u001b[0m\n\u001b[0;32m    250\u001b[0m         parameters = {\"capabilities\": w3c_caps,\n\u001b[0;32m    251\u001b[0m                       \"desiredCapabilities\": capabilities}\n\u001b[1;32m--> 252\u001b[1;33m         \u001b[0mresponse\u001b[0m \u001b[1;33m=\u001b[0m \u001b[0mself\u001b[0m\u001b[1;33m.\u001b[0m\u001b[0mexecute\u001b[0m\u001b[1;33m(\u001b[0m\u001b[0mCommand\u001b[0m\u001b[1;33m.\u001b[0m\u001b[0mNEW_SESSION\u001b[0m\u001b[1;33m,\u001b[0m \u001b[0mparameters\u001b[0m\u001b[1;33m)\u001b[0m\u001b[1;33m\u001b[0m\u001b[1;33m\u001b[0m\u001b[0m\n\u001b[0m\u001b[0;32m    253\u001b[0m         \u001b[1;32mif\u001b[0m \u001b[1;34m'sessionId'\u001b[0m \u001b[1;32mnot\u001b[0m \u001b[1;32min\u001b[0m \u001b[0mresponse\u001b[0m\u001b[1;33m:\u001b[0m\u001b[1;33m\u001b[0m\u001b[1;33m\u001b[0m\u001b[0m\n\u001b[0;32m    254\u001b[0m             \u001b[0mresponse\u001b[0m \u001b[1;33m=\u001b[0m \u001b[0mresponse\u001b[0m\u001b[1;33m[\u001b[0m\u001b[1;34m'value'\u001b[0m\u001b[1;33m]\u001b[0m\u001b[1;33m\u001b[0m\u001b[1;33m\u001b[0m\u001b[0m\n",
      "\u001b[1;32mc:\\sw\\python37\\lib\\site-packages\\selenium\\webdriver\\remote\\webdriver.py\u001b[0m in \u001b[0;36mexecute\u001b[1;34m(self, driver_command, params)\u001b[0m\n\u001b[0;32m    319\u001b[0m         \u001b[0mresponse\u001b[0m \u001b[1;33m=\u001b[0m \u001b[0mself\u001b[0m\u001b[1;33m.\u001b[0m\u001b[0mcommand_executor\u001b[0m\u001b[1;33m.\u001b[0m\u001b[0mexecute\u001b[0m\u001b[1;33m(\u001b[0m\u001b[0mdriver_command\u001b[0m\u001b[1;33m,\u001b[0m \u001b[0mparams\u001b[0m\u001b[1;33m)\u001b[0m\u001b[1;33m\u001b[0m\u001b[1;33m\u001b[0m\u001b[0m\n\u001b[0;32m    320\u001b[0m         \u001b[1;32mif\u001b[0m \u001b[0mresponse\u001b[0m\u001b[1;33m:\u001b[0m\u001b[1;33m\u001b[0m\u001b[1;33m\u001b[0m\u001b[0m\n\u001b[1;32m--> 321\u001b[1;33m             \u001b[0mself\u001b[0m\u001b[1;33m.\u001b[0m\u001b[0merror_handler\u001b[0m\u001b[1;33m.\u001b[0m\u001b[0mcheck_response\u001b[0m\u001b[1;33m(\u001b[0m\u001b[0mresponse\u001b[0m\u001b[1;33m)\u001b[0m\u001b[1;33m\u001b[0m\u001b[1;33m\u001b[0m\u001b[0m\n\u001b[0m\u001b[0;32m    322\u001b[0m             response['value'] = self._unwrap_value(\n\u001b[0;32m    323\u001b[0m                 response.get('value', None))\n",
      "\u001b[1;32mc:\\sw\\python37\\lib\\site-packages\\selenium\\webdriver\\remote\\errorhandler.py\u001b[0m in \u001b[0;36mcheck_response\u001b[1;34m(self, response)\u001b[0m\n\u001b[0;32m    240\u001b[0m                 \u001b[0malert_text\u001b[0m \u001b[1;33m=\u001b[0m \u001b[0mvalue\u001b[0m\u001b[1;33m[\u001b[0m\u001b[1;34m'alert'\u001b[0m\u001b[1;33m]\u001b[0m\u001b[1;33m.\u001b[0m\u001b[0mget\u001b[0m\u001b[1;33m(\u001b[0m\u001b[1;34m'text'\u001b[0m\u001b[1;33m)\u001b[0m\u001b[1;33m\u001b[0m\u001b[1;33m\u001b[0m\u001b[0m\n\u001b[0;32m    241\u001b[0m             \u001b[1;32mraise\u001b[0m \u001b[0mexception_class\u001b[0m\u001b[1;33m(\u001b[0m\u001b[0mmessage\u001b[0m\u001b[1;33m,\u001b[0m \u001b[0mscreen\u001b[0m\u001b[1;33m,\u001b[0m \u001b[0mstacktrace\u001b[0m\u001b[1;33m,\u001b[0m \u001b[0malert_text\u001b[0m\u001b[1;33m)\u001b[0m\u001b[1;33m\u001b[0m\u001b[1;33m\u001b[0m\u001b[0m\n\u001b[1;32m--> 242\u001b[1;33m         \u001b[1;32mraise\u001b[0m \u001b[0mexception_class\u001b[0m\u001b[1;33m(\u001b[0m\u001b[0mmessage\u001b[0m\u001b[1;33m,\u001b[0m \u001b[0mscreen\u001b[0m\u001b[1;33m,\u001b[0m \u001b[0mstacktrace\u001b[0m\u001b[1;33m)\u001b[0m\u001b[1;33m\u001b[0m\u001b[1;33m\u001b[0m\u001b[0m\n\u001b[0m\u001b[0;32m    243\u001b[0m \u001b[1;33m\u001b[0m\u001b[0m\n\u001b[0;32m    244\u001b[0m     \u001b[1;32mdef\u001b[0m \u001b[0m_value_or_default\u001b[0m\u001b[1;33m(\u001b[0m\u001b[0mself\u001b[0m\u001b[1;33m,\u001b[0m \u001b[0mobj\u001b[0m\u001b[1;33m,\u001b[0m \u001b[0mkey\u001b[0m\u001b[1;33m,\u001b[0m \u001b[0mdefault\u001b[0m\u001b[1;33m)\u001b[0m\u001b[1;33m:\u001b[0m\u001b[1;33m\u001b[0m\u001b[1;33m\u001b[0m\u001b[0m\n",
      "\u001b[1;31mSessionNotCreatedException\u001b[0m: Message: session not created: This version of ChromeDriver only supports Chrome version 103\nCurrent browser version is 105.0.5195.102 with binary path C:\\Program Files\\Google\\Chrome\\Application\\chrome.exe\n"
     ]
    }
   ],
   "source": [
    "\" Test Selenium headless\"\n",
    "if True:\n",
    "    if os.name=='nt':\n",
    "        b=Browser('chrome')\n",
    "    else:\n",
    "        \n",
    "        # import sys\n",
    "        # sys.path.insert(0,f'{DIR}/geckodriver')\n",
    "        from selenium import webdriver\n",
    "\n",
    "        chrome_options = webdriver.ChromeOptions()\n",
    "        chrome_options.add_argument('--headless')\n",
    "        chrome_options.add_argument('--no-sandbox')\n",
    "        chrome_options.add_argument('--disable-dev-shm-usage')\n",
    "        # b =webdriver.Chrome('chromedriver',options=chrome_options)\n",
    "        b=Browser('chrome',options=chrome_options,)\n",
    "    \n",
    "    utils.setLogger(f\"{LOG}/strava-automation.log\")\n",
    "    "
   ]
  },
  {
   "cell_type": "code",
   "execution_count": null,
   "metadata": {
    "id": "YJpJm9f_tJAS"
   },
   "outputs": [],
   "source": [
    "\n",
    "strava=Strava(b,authFile=f'{AUTH}/auth.yaml',\n",
    "              cfg=cfg,\n",
    "              # cfgFile=f\"{LIB}/cfg_strava.yaml\",\n",
    "              delay=.5)\n",
    "strava.logGSheet = Gsheet(cfg['sheets']['StravaPromoLog']['url']).getSheetByTitle('StravaPromoLog')\n",
    "strava.StravaMembers=df_mc.query('strava==\"strava\"').id.values\n",
    "\n",
    "sessionGSheet = Gsheet(cfg['sheets']['StravaPromoLog']['url']).getSheetByTitle('SessionLog')"
   ]
  },
  {
   "cell_type": "markdown",
   "metadata": {
    "id": "Hz12Yeoklgnb",
    "tags": []
   },
   "source": [
    "# A. Mileage Certificates"
   ]
  },
  {
   "cell_type": "code",
   "execution_count": null,
   "metadata": {
    "colab": {
     "base_uri": "https://localhost:8080/"
    },
    "id": "OSM5T0GOlgnc",
    "outputId": "165ff744-634c-441a-ae2c-0fdb03f30390"
   },
   "outputs": [],
   "source": [
    "strava.login(\"mileage_league_strava\")"
   ]
  },
  {
   "cell_type": "code",
   "execution_count": null,
   "metadata": {
    "colab": {
     "base_uri": "https://localhost:8080/"
    },
    "id": "-zj5d6nelgnf",
    "outputId": "79dd61f9-0259-4ddf-ab55-fea2499b0b25"
   },
   "outputs": [],
   "source": [
    "certSheet=Gsheet(cfg['sheets']['certs']['url'])\n",
    "certTab=certSheet.getSheetByTitle(cfg['sheets']['certs']['tab'])\n",
    "df_cert=certTab.get_as_df().query(\"comment_text!='' and Activity==''\"\n",
    "                                   ).reset_index()\n",
    "cols={x:df_cert.columns.get_loc(x)+1 for x in ['comment_ts','comment_text']}\n",
    "# display(cols)\n",
    "# merge\n",
    "_df=df_cert.merge(df_mc[['Email','profile','strava']],on='Email')"
   ]
  },
  {
   "cell_type": "code",
   "execution_count": null,
   "metadata": {
    "colab": {
     "base_uri": "https://localhost:8080/",
     "height": 395
    },
    "id": "Hm4KIVaUlgnh",
    "outputId": "86e5c490-2140-402a-85fc-1d4793854c7a"
   },
   "outputs": [],
   "source": [
    "_df['index \tCertType \tEmail \tMilestone \tName \tDate \tID \tTeam\tcomment_ts \tActivity \t\tprofile \tstrava'.split()]"
   ]
  },
  {
   "cell_type": "code",
   "execution_count": null,
   "metadata": {
    "colab": {
     "base_uri": "https://localhost:8080/"
    },
    "id": "GG9WpiTSlgni",
    "outputId": "278e9c7c-a3ea-415f-e0ad-068f63f1e954",
    "tags": []
   },
   "outputs": [],
   "source": [
    "if False:\n",
    "    from pprint import pprint as pp\n",
    "\n",
    "    for i,cert in _df.query(\"strava=='strava'\").iterrows():\n",
    "        # print (cert['index'],cert.profile,cert.comment_text)\n",
    "\n",
    "        try:\n",
    "\n",
    "            if not cert.profile: \n",
    "                logging.warning(f\"{cert.Row},{cert.Name},{cert.profile} : {cert['index']} no profle\")\n",
    "                continue\n",
    "            b.goto(cert.profile)\n",
    "            # url=f\"https://www.strava.com/activities/{x['activity_id']}\"\n",
    "            certTab.update_values(crange=(cert.Row,cols['comment_ts']),\n",
    "                             values=[[pd.Timestamp.now().isoformat(),cert.profile]])\n",
    "            if True:\n",
    "                commentEl=b.button(data_testid=\"comment_button\")\n",
    "                strava.postComment(commentEl,cert.comment_text)\n",
    "                logging.info(f\"{cert.Row},{cert.Name},{cert.profile} :{cert.comment_text}\")\n",
    "\n",
    "                # break\n",
    "        except Exception as e:\n",
    "            logging.error(f\"{cert.Row},{cert.Name},{cert.profile} : {e!r} \")\n",
    "            # raise Exception(\"Something went wrong while posting comment\")\n",
    "            continue\n"
   ]
  },
  {
   "cell_type": "markdown",
   "metadata": {
    "id": "Mczpk0qp1sRU"
   },
   "source": [
    "# B. Give likes on Club"
   ]
  },
  {
   "cell_type": "code",
   "execution_count": null,
   "metadata": {
    "colab": {
     "base_uri": "https://localhost:8080/",
     "height": 1000
    },
    "id": "uTMSJxD62Gtz",
    "outputId": "6edc24a6-8b7c-4041-b663-dc5fac5b3e3c",
    "tags": []
   },
   "outputs": [],
   "source": [
    "for _user,_config in {\n",
    "                    \"mileage_league_strava\":\"mileage_league_strava\",\n",
    "                    \"avinash\":\"avinash\",\n",
    "                    # \"strava_pcmcrunners\":\"strava_pcmcrunners\"\n",
    "                    }.items():\n",
    "    display(Markdown(f\"### {_user} Feed Likes\"))\n",
    "    strava.login(_user)\n",
    "    display(Image(b.screenshot.png()))\n",
    "    strava.scrolldown(4) \n",
    "    _cards=len(b.divs(class_name=re.compile('^Card')))\n",
    "    logging.info(f\"Total number of cards on {_user}/{strava.browser.title}: {_cards}\")\n",
    "    ret=strava.giveKudos()\n",
    "    #SessionLog :   Date\tSessionType\tUser\tFeed\tcards\tactions\n",
    "    sessionGSheet.append_table([[pd.Timestamp.now().isoformat(),\"Kudos\",_user,'feed',_cards,ret['tot_kudos']]])\n",
    "    \n",
    "    for club in strava.cfg['strava'][_config]['clubs']:\n",
    "      display(Markdown(f\"###  {_user} {club} Club Likes\"))\n",
    "      strava.goto(f\"{club}/recent_activity\")\n",
    "      _cards=len(b.divs(class_name=re.compile('^Card')))\n",
    "      logging.info(f\"Total number of cards on {club} '{strava.browser.title}': {_cards}\")\n",
    "      ret=strava.giveKudos()\n",
    "      #SessionLog :   Date\tSessionType\tUser\tFeed\tcards\tactions\n",
    "      sessionGSheet.append_table([[pd.Timestamp.now().isoformat(),\"Kudos\",_user,club,_cards,ret['tot_kudos']]])\n",
    "    strava.logout()\n",
    "logging.info(f\"All Groups done\")    "
   ]
  },
  {
   "cell_type": "code",
   "execution_count": null,
   "metadata": {
    "jupyter": {
     "source_hidden": true
    },
    "tags": []
   },
   "outputs": [],
   "source": [
    "strava.auth['strava']['mileage_league_strava']\n",
    "# import json\n",
    "# b.driver.execute_script(\"window.open();\")\n",
    "# b.driver.switch_to.window(b.driver.window_handles[1])\n",
    "# b.goto('https://www.strava.com/activities/7756480538')\n",
    "# actData=json.loads(b.div(data_react_class=\"ADPKudosAndComments\").data_react_props)\n",
    "# pp(actData)\n",
    "# b.driver.close()\n",
    "\n",
    "# # back to the main window\n",
    "# b.driver.switch_to.window(strava.main_window)"
   ]
  },
  {
   "cell_type": "code",
   "execution_count": null,
   "metadata": {},
   "outputs": [],
   "source": [
    "# switch to the new window which is second in window_handles array\n",
    "\n",
    "# open successfully and close\n",
    "\n",
    "\n",
    "strava.cfg[strava.siteType][strava.login]"
   ]
  },
  {
   "cell_type": "markdown",
   "metadata": {
    "id": "8LRx05Sklgnj"
   },
   "source": [
    "# End"
   ]
  },
  {
   "cell_type": "code",
   "execution_count": null,
   "metadata": {
    "id": "hUaEhkAelgnl"
   },
   "outputs": [],
   "source": [
    "\"\"\"\n",
    "new members\n",
    "\n",
    "list of people with messages sent\n",
    "for feed \n",
    "    if location is [selected] and \n",
    "    not a member of challenge and\n",
    "    not been sent message before\n",
    "        add up the activity\n",
    "        \n",
    "for each such name\n",
    "    check start lat/long for the activity\n",
    "        post a comment\n",
    "        add name to message sent\n",
    "\"\"\""
   ]
  },
  {
   "cell_type": "markdown",
   "metadata": {
    "id": "JN4rTOrAlgnl"
   },
   "source": [
    "# test"
   ]
  },
  {
   "cell_type": "code",
   "execution_count": null,
   "metadata": {
    "tags": []
   },
   "outputs": [],
   "source": [
    "if False:\n",
    "    driver=b.driver\n",
    "\n",
    "    # save main_window\n",
    "    main_window = driver.current_window_handle\n",
    "\n",
    "    # obtain url of gmail on the home page of Google\n",
    "    addr =b.link(data_testid=\"activity_name\").href\n",
    "\n",
    "    # open new blank tab\n",
    "    driver.execute_script(\"window.open();\")\n",
    "\n",
    "    # switch to the new window which is second in window_handles array\n",
    "    driver.switch_to.window(driver.window_handles[1])\n",
    "\n",
    "    # open successfully and close\n",
    "    driver.get(addr)\n",
    "    driver.close()\n",
    "\n",
    "    # back to the main window\n",
    "    driver.switch_to.window(main_window)\n",
    "    # driver.get(addr)"
   ]
  },
  {
   "cell_type": "code",
   "execution_count": null,
   "metadata": {},
   "outputs": [],
   "source": [
    "# {x.text[:30]:x.link().href for x in b.divs(data_testid=\"activity_entry_container\")}"
   ]
  },
  {
   "cell_type": "code",
   "execution_count": null,
   "metadata": {},
   "outputs": [],
   "source": [
    "# _log=Gsheet('https://docs.google.com/spreadsheets/d/14a8u53o0V6jKwP1nxk0334jvKsRnW6J5hKzcaQAwUbw/edit#gid=179675201')\n",
    "# _logss=_log.getSheetByTitle('StravaPromoLog')\n",
    "# _df=_logss.get_as_df()\n",
    "\n",
    "# # _df.applymap(lambda x: \",\".join(x),index=1)\n",
    "# _df.to_csv('c:/temp/promolog.log',\n",
    "#            mode=\"a\",header=False,\n",
    "#            index=None)\n",
    "# display(_df.shape)\n",
    "# if _df.shape[0]:\n",
    "#     _logss.delete_rows(2,_df.shape[0])"
   ]
  },
  {
   "cell_type": "code",
   "execution_count": null,
   "metadata": {},
   "outputs": [],
   "source": [
    "\n",
    "display(extrDict(b.driver.__dict__,['script*','session_id','chrome1']))\n",
    "pp(b.driver.__dict__)\n",
    "# dpath.util.search??"
   ]
  },
  {
   "cell_type": "code",
   "execution_count": null,
   "metadata": {},
   "outputs": [],
   "source": [
    "# _logss.clear(start='A2',end=None)"
   ]
  },
  {
   "cell_type": "code",
   "execution_count": null,
   "metadata": {},
   "outputs": [],
   "source": [
    "from string import Template\n",
    "\n",
    "def _f():\n",
    "    a=1\n",
    "    b=2\n",
    "    print(\"{}['a'] {b}\".format(1,2))\n",
    "    \n",
    "_f()"
   ]
  },
  {
   "cell_type": "code",
   "execution_count": null,
   "metadata": {},
   "outputs": [],
   "source": [
    "[*{'a':1}]"
   ]
  },
  {
   "cell_type": "code",
   "execution_count": null,
   "metadata": {},
   "outputs": [],
   "source": []
  }
 ],
 "metadata": {
  "colab": {
   "include_colab_link": true,
   "name": "strava likers.ipynb",
   "provenance": []
  },
  "gpuClass": "standard",
  "kernelspec": {
   "display_name": "Python 3",
   "language": "python",
   "name": "python3"
  },
  "language_info": {
   "codemirror_mode": {
    "name": "ipython",
    "version": 3
   },
   "file_extension": ".py",
   "mimetype": "text/x-python",
   "name": "python",
   "nbconvert_exporter": "python",
   "pygments_lexer": "ipython3",
   "version": "3.7.7"
  }
 },
 "nbformat": 4,
 "nbformat_minor": 4
}
